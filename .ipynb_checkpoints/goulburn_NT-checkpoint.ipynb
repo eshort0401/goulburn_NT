{
 "cells": [
  {
   "cell_type": "markdown",
   "metadata": {},
   "source": [
    "# Goulburn Island Northern Territory Australia Analysis"
   ]
  },
  {
   "cell_type": "markdown",
   "metadata": {},
   "source": [
    "Setup by loading relevant modules"
   ]
  },
  {
   "cell_type": "code",
   "execution_count": 2,
   "metadata": {
    "ExecuteTime": {
     "end_time": "2019-05-30T13:13:29.723676Z",
     "start_time": "2019-05-30T13:13:27.804506Z"
    }
   },
   "outputs": [],
   "source": [
    "import xarray as xr\n",
    "import matplotlib.pyplot as plt\n",
    "import numpy as np\n",
    "import pyproj as pp\n",
    "import scipy as sp\n",
    "# import cProfile\n",
    "# %load_ext line_profiler"
   ]
  },
  {
   "cell_type": "code",
   "execution_count": 3,
   "metadata": {
    "ExecuteTime": {
     "end_time": "2019-05-30T13:13:30.542648Z",
     "start_time": "2019-05-30T13:13:30.435704Z"
    }
   },
   "outputs": [],
   "source": [
    "PH = xr.open_dataset(\n",
    "    '/g/data/w40/esh563/goulburn_NT/20142015/PH/geopotential_goulburn_20141201.nc'\n",
    ")\n",
    "U = xr.open_dataset(\n",
    "    '/g/data/w40/esh563/goulburn_NT/20142015/U/U_goulburn_20141201.nc'\n",
    ")\n",
    "# V = xr.open_dataset(\n",
    "#     '/g/data/w40/esh563/goulburn_NT/20142015/V/V_goulburn_20141201.nc'\n",
    "# )\n",
    "\n",
    "U = U.transpose('time', 'level', 'longitude', 'latitude')\n",
    "# V = PH.transpose('time', 'level', 'longitude', 'latitude')\n",
    "PH = PH.transpose('time', 'level', 'longitude', 'latitude')\n",
    "\n",
    "# test = xr.merge([PH, U, V])"
   ]
  },
  {
   "cell_type": "code",
   "execution_count": 133,
   "metadata": {
    "ExecuteTime": {
     "end_time": "2019-05-30T05:59:38.835298Z",
     "start_time": "2019-05-30T05:59:30.474235Z"
    }
   },
   "outputs": [],
   "source": [
    "test_interp = horizontal_tran_interp(test, lon0 = 133, lat0 = -12, lon1 = 134, lat1 = -11.5, n=10)\n",
    "\n",
    "# PH = transect_interpolation(PH, lon0 = 133, lat0 = -12, lon1 = 134, lat1 = -11.5, n=10)\n",
    "# U = transect_interpolation(U, lon0 = 133, lat0 = -12, lon1 = 134, lat1 = -11.5, n=10)\n",
    "# V = transect_interpolation(V, lon0 = 133, lat0 = -12, lon1 = 134, lat1 = -11.5, n=10)"
   ]
  },
  {
   "cell_type": "code",
   "execution_count": null,
   "metadata": {
    "ExecuteTime": {
     "start_time": "2019-05-30T13:15:20.232Z"
    }
   },
   "outputs": [],
   "source": [
    "U"
   ]
  },
  {
   "cell_type": "code",
   "execution_count": 7,
   "metadata": {
    "ExecuteTime": {
     "end_time": "2019-05-30T13:14:54.469534Z",
     "start_time": "2019-05-30T13:14:08.061692Z"
    }
   },
   "outputs": [],
   "source": [
    "z0 = 0\n",
    "z1 = 15000\n",
    "dz = 1000\n",
    "\n",
    "Z = np.arange(z0,z1+dz,dz)\n",
    "\n",
    "U_interp = np.empty((2,np.size(Z),2,2))*np.nan\n",
    "U = U.U.values\n",
    "# PH = PH.geopotential.values/9.80665\n",
    "\n",
    "# for i in list(range(2)):\n",
    "#     for j in list(range(2)):\n",
    "#         for k in list(range(2)):\n",
    "\n",
    "#             U_interp[k,:,i,j] = np.interp(Z, PH[k,:,i,j], U[k,:,i,j], left=np.nan, right=np.nan)"
   ]
  },
  {
   "cell_type": "code",
   "execution_count": 6,
   "metadata": {
    "ExecuteTime": {
     "end_time": "2019-05-30T13:02:47.581921Z",
     "start_time": "2019-05-30T13:02:47.574242Z"
    }
   },
   "outputs": [
    {
     "name": "stdout",
     "output_type": "stream",
     "text": [
      "Overwriting test.py\n"
     ]
    }
   ],
   "source": [
    "%%writefile test.py\n",
    "import numpy as np\n",
    "\n",
    "def test_ewan(U, PH, z0=0, z1=15000, dz=1000):\n",
    "    \n",
    "    Z = np.arange(z0,z1+dz,dz)\n",
    "\n",
    "    U_interp = np.empty((\n",
    "        5,\n",
    "        np.size(Z),\n",
    "       5,5\n",
    "    ))*np.nan\n",
    "    U_ar = U.U.values\n",
    "    Z_ar = PH.geopotential.values/9.80665\n",
    "\n",
    "    for i in range(5):\n",
    "        for j in range(5):\n",
    "            for k in range(5):\n",
    "                \n",
    "                U_interp[k,:,i,j] = np.interp(Z, Z_ar[k,:,i,j], U_ar[k,:,i,j], left=np.nan, right=np.nan)\n",
    "                \n",
    "    return U_interp"
   ]
  },
  {
   "cell_type": "code",
   "execution_count": null,
   "metadata": {
    "ExecuteTime": {
     "start_time": "2019-05-30T12:51:39.009Z"
    }
   },
   "outputs": [],
   "source": [
    "test_func()"
   ]
  },
  {
   "cell_type": "code",
   "execution_count": 2,
   "metadata": {
    "ExecuteTime": {
     "end_time": "2019-05-30T12:42:15.893340Z",
     "start_time": "2019-05-30T12:42:15.885863Z"
    }
   },
   "outputs": [
    {
     "name": "stderr",
     "output_type": "stream",
     "text": [
      "UsageError: Line magic function `%lprun` not found.\n"
     ]
    }
   ],
   "source": [
    "%lprun -T lprof0 -f test_func test_func(U, PH)\n",
    "print(open('lprof0', 'r').read())"
   ]
  },
  {
   "cell_type": "code",
   "execution_count": 132,
   "metadata": {
    "ExecuteTime": {
     "end_time": "2019-05-30T05:59:26.763939Z",
     "start_time": "2019-05-30T05:59:26.745676Z"
    }
   },
   "outputs": [],
   "source": [
    "def horizontal_tran_interp(ds, lat0, lon0, lat1, lon1, n):\n",
    "\n",
    "    lon = np.linspace(lon0, lon1, num=n)\n",
    "    lat = np.linspace(lat0, lat1, num=n)\n",
    "\n",
    "    p = pp.Geod(ellps='WGS84')\n",
    "    distance = p.inv(np.array([lon0]*np.size(lon)), np.array([lat0]*np.size(lat)), lon, lat)[2]\n",
    "\n",
    "    LON, LAT = np.meshgrid(ds.longitude, ds.latitude);\n",
    "    interp_LON, interp_LAT = np.meshgrid(np.arange(lon0,lon1,dlon), np.arange(lat0,lat1,dlon));\n",
    "    \n",
    "    ds_interp = ds.interp(longitude=lon, latitude=lat)\n",
    "\n",
    "    ds_interp = ds_interp.isel(\n",
    "        longitude=xr.DataArray(\n",
    "            np.arange(0,np.size(lon)), \n",
    "            dims='distance',coords={'distance': distance}),\n",
    "        latitude=xr.DataArray(\n",
    "            np.arange(0,np.size(lon)), \n",
    "            dims='distance',coords={'distance': distance})\n",
    "    )\n",
    "    ds_interp = ds_interp.drop('longitude').drop('latitude')\n",
    "    \n",
    "    return ds_interp\n",
    "\n",
    "def height_interp(ds, heights)\n",
    "    \n",
    "    ds_interp = ds.interp(longitude=lon, latitude=lat)\n",
    "    \n",
    "#     if isfield(binAv,'uPertComp')\n",
    "\n",
    "#         binAv.uPertComp(binAv.uPertComp==0)=NaN;\n",
    "#         binAv.vPertComp(binAv.vPertComp==0)=NaN;\n",
    "#         binAv.uComp(binAv.uComp==0)=NaN;\n",
    "#         binAv.vComp(binAv.vComp==0)=NaN;\n",
    "#         binAv.uVar(binAv.uVar==0)=NaN;\n",
    "#         binAv.vVar(binAv.vVar==0)=NaN;\n",
    "#         binAv.coVar(binAv.coVar==0)=NaN;\n",
    "\n",
    "#         uCompProj = diag(interp2(X,Y,binAv.uComp(:,:,time)',interp_X,interp_Y));\n",
    "#         vCompProj = diag(interp2(X,Y,binAv.vComp(:,:,time)',interp_X,interp_Y));\n",
    "#         uPertProj = diag(interp2(X,Y,binAv.uPertComp(:,:,time)',interp_X,interp_Y));\n",
    "#         vPertProj = diag(interp2(X,Y,binAv.vPertComp(:,:,time)',interp_X,interp_Y));\n",
    "#         uPertVarProj = diag(interp2(X,Y,binAv.uPertVar(:,:,time)',interp_X,interp_Y));\n",
    "#         pertCoVarProj = diag(interp2(X,Y,binAv.pertCoVar(:,:,time)',interp_X,interp_Y));\n",
    "#         pProj = diag(interp2(X,Y,binAv.pValue(:,:)',interp_X,interp_Y));\n",
    "\n",
    "#         compProj=zeros(1,n);\n",
    "#         pertProj=zeros(1,n);\n",
    "#         pertVarProj=zeros(1,n);\n",
    "\n",
    "#         for i=1:n\n",
    "#             compProj(i)=([uCompProj(i) vCompProj(i)]*[dx;dy])./sqrt(dx^2+dy^2);\n",
    "#             pertProj(i)=([uPertProj(i) vPertProj(i)]*[dx;dy])./sqrt(dx^2+dy^2);\n",
    "#             pertVarProj(i)=(1/sqrt(dx^2+dy^2)).*(dx*uPertVarProj(i)+dy*pertCoVarProj(i));\n",
    "#         end\n",
    "\n",
    "#     elseif isfield(binAv,'pPertComp')\n",
    "\n",
    "#         binAv.pPertComp(binAv.pPertComp==0)=NaN;\n",
    "#         binAv.pComp(binAv.pComp==0)=NaN;\n",
    "#         binAv.pVar(binAv.pVar==0)=NaN;\n",
    "\n",
    "#         compProj = diag(interp2(X,Y,binAv.pComp(:,:,time)',interp_X,interp_Y));\n",
    "#         pertProj = diag(interp2(X,Y,binAv.pPertComp(:,:,time)',interp_X,interp_Y));\n",
    "#         pertVarProj = diag(interp2(X,Y,binAv.pPertVar(:,:,time)',interp_X,interp_Y));\n",
    "#         pProj = diag(interp2(X,Y,binAv.pValue(:,:)',interp_X,interp_Y));\n",
    "\n",
    "#     end"
   ]
  }
 ],
 "metadata": {
  "kernelspec": {
   "display_name": "Python 3",
   "language": "python",
   "name": "python3"
  },
  "language_info": {
   "codemirror_mode": {
    "name": "ipython",
    "version": 3
   },
   "file_extension": ".py",
   "mimetype": "text/x-python",
   "name": "python",
   "nbconvert_exporter": "python",
   "pygments_lexer": "ipython3",
   "version": "3.6.7"
  },
  "toc": {
   "base_numbering": 1,
   "nav_menu": {},
   "number_sections": true,
   "sideBar": true,
   "skip_h1_title": false,
   "title_cell": "Table of Contents",
   "title_sidebar": "Contents",
   "toc_cell": false,
   "toc_position": {},
   "toc_section_display": true,
   "toc_window_display": true
  }
 },
 "nbformat": 4,
 "nbformat_minor": 1
}
