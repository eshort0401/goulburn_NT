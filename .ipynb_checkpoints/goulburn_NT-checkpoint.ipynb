{
 "cells": [
  {
   "cell_type": "markdown",
   "metadata": {},
   "source": [
    "# Setup"
   ]
  },
  {
   "cell_type": "markdown",
   "metadata": {},
   "source": [
    "Setup by loading relevant modules."
   ]
  },
  {
   "cell_type": "code",
   "execution_count": 1,
   "metadata": {
    "ExecuteTime": {
     "end_time": "2019-06-02T02:18:08.056411Z",
     "start_time": "2019-06-02T02:18:04.817824Z"
    }
   },
   "outputs": [],
   "source": [
    "import xarray as xr\n",
    "import matplotlib.pyplot as plt\n",
    "from matplotlib import rcParams\n",
    "import matplotlib.ticker as mticker\n",
    "import numpy as np\n",
    "import pyproj as pp\n",
    "import scipy as sp\n",
    "import pdb\n",
    "import cartopy.crs as ccrs\n",
    "from cartopy.mpl.gridliner import LONGITUDE_FORMATTER, LATITUDE_FORMATTER\n",
    "import cartopy.feature as cfeature\n",
    "%load_ext line_profiler"
   ]
  },
  {
   "cell_type": "markdown",
   "metadata": {},
   "source": [
    "Define transect functions."
   ]
  },
  {
   "cell_type": "code",
   "execution_count": 2,
   "metadata": {
    "ExecuteTime": {
     "end_time": "2019-06-02T02:18:08.082115Z",
     "start_time": "2019-06-02T02:18:08.061880Z"
    }
   },
   "outputs": [],
   "source": [
    "def horizontal_tran_interp(ds, lon0, lat0, lon1, lat1, n):\n",
    "    \"\"\"\n",
    "    Interpolate onto a transect.\n",
    "    \"\"\"\n",
    "    \n",
    "    lon = np.linspace(lon0, lon1, num=n)\n",
    "    lat = np.linspace(lat0, lat1, num=n)\n",
    "\n",
    "    LON, LAT = np.meshgrid(ds.longitude, ds.latitude);\n",
    "    interp_LON, interp_LAT = np.meshgrid(lon, lat);\n",
    "    \n",
    "    ds_interp = ds.interp(longitude=lon, latitude=lat)\n",
    "\n",
    "    ds_interp = ds_interp.isel(\n",
    "        longitude=xr.DataArray(\n",
    "            np.arange(0,np.size(lon)), \n",
    "            dims='transect_axis'),\n",
    "        latitude=xr.DataArray(\n",
    "            np.arange(0,np.size(lon)), \n",
    "            dims='transect_axis',)\n",
    "    )\n",
    "    ds_interp = ds_interp.drop('longitude').drop('latitude')\n",
    "    \n",
    "    return ds_interp\n",
    "\n",
    "def calc_transects(ds, trans_lon0, trans_lat0, trans_lon1, trans_lat1, n_points, n_trans):\n",
    "    \"\"\"\n",
    "    Create a new dataset by interpolating over multiple transects.\n",
    "    \"\"\"\n",
    "    \n",
    "    tran_0 = horizontal_tran_interp(ds, trans_lon0[0], trans_lat0[0], trans_lon1[0], trans_lat1[0], n=n_points)\n",
    "    tran_list = [tran_0] * n_trans\n",
    "\n",
    "    for i in range(1,n_trans):\n",
    "        tran_list[i] = horizontal_tran_interp(\n",
    "            ds, trans_lon0[i], trans_lat0[i], trans_lon1[i], trans_lat1[i], n=n_points\n",
    "        )\n",
    "\n",
    "    proj_tran = xr.concat(tran_list, dim = 'coastal_axis')\n",
    "    \n",
    "    return proj_tran \n",
    "    \n",
    "        \n",
    "def define_transects(lon0, lat0, coast_lon1, coast_lat1, tran_lon1, tran_lat1, spacing = 4*10**3):\n",
    "    \"\"\"\n",
    "    Create a new dataset along transects perpendicular to given line (e.g. coastline). \n",
    "    \"\"\"\n",
    "    \n",
    "    # Calculate n_trans and n_points\n",
    "    p = pp.Geod(ellps='WGS84')\n",
    "    coast_distance = p.inv(lon0, lat0, coast_lon1, coast_lat1)[2]\n",
    "    tran_distance = p.inv(lon0, lat0, tran_lon1, tran_lat1)[2]\n",
    "    \n",
    "    # Approximate even spacing in lat and lon by even spacing in km\n",
    "    n_trans = int(np.floor(coast_distance / spacing) + 1);\n",
    "    n_points = int(np.floor(tran_distance / spacing) + 1);\n",
    "    \n",
    "    # Specify transect start and end points\n",
    "    trans_lon0 = np.linspace(lon0, coast_lon1, num=n_trans)\n",
    "    trans_lat0 = np.linspace(lat0, coast_lat1, num=n_trans)\n",
    "\n",
    "    trans_lon1 = trans_lon0 + (tran_lon1 - lon0)\n",
    "    trans_lat1 = trans_lat0 + (tran_lat1 - lat0)\n",
    "    \n",
    "    # Aproximate distance vectors along transects using first transect\n",
    "    coast_distances = np.linspace(0, coast_distance, num=n_trans)\n",
    "    tran_distances = np.linspace(0, tran_distance, num=n_points)\n",
    "        \n",
    "    return trans_lon0, trans_lat0, trans_lon1, trans_lat1, n_points, n_trans, coast_distances, tran_distances"
   ]
  },
  {
   "cell_type": "markdown",
   "metadata": {},
   "source": [
    "Define transects."
   ]
  },
  {
   "cell_type": "code",
   "execution_count": 3,
   "metadata": {
    "ExecuteTime": {
     "end_time": "2019-06-02T02:18:08.110279Z",
     "start_time": "2019-06-02T02:18:08.085473Z"
    }
   },
   "outputs": [],
   "source": [
    "lon0 = 133.3290\n",
    "lat0 = -12.1468\n",
    "coast_lon1 = 134.5293 \n",
    "coast_lat1 = -12.4715\n",
    "tran_lon1 = 134.4\n",
    "\n",
    "# Solve linear system to determine equation coast_lat = m*lon1 + c_coast \n",
    "A = [[lon0, 1], [coast_lon1, 1]]\n",
    "b = [[lat0], [coast_lat1]]\n",
    "x = np.linalg.solve(A, b)\n",
    "m = x[0]\n",
    "c_coast = x[1]\n",
    "\n",
    "# Define equation to specify perpendicular transects\n",
    "c_tran = lat0 + (1/m)*lon0;\n",
    "tran_lat1 = (-1/m)*tran_lon1 + c_tran;\n",
    "\n",
    "b_lon = tran_lon1 - lon0\n",
    "b_lat = tran_lat1 - lat0\n",
    "\n",
    "trans_lon0, trans_lat0, trans_lon1, trans_lat1, n_points, n_trans, coast_distances, tran_distances = define_transects(\n",
    "    lon0, lat0, coast_lon1, coast_lat1, tran_lon1, tran_lat1\n",
    ")"
   ]
  },
  {
   "cell_type": "markdown",
   "metadata": {},
   "source": [
    "Calculate landmask and topography heights along transect."
   ]
  },
  {
   "cell_type": "code",
   "execution_count": 18,
   "metadata": {
    "ExecuteTime": {
     "end_time": "2019-06-02T03:15:41.807689Z",
     "start_time": "2019-06-02T03:15:41.225055Z"
    }
   },
   "outputs": [],
   "source": [
    "static = xr.open_dataset('/g/data/w40/esh563/goulburn_NT/static.nc')\n",
    "static.attrs.clear()\n",
    "static_tran = calc_transects(static, trans_lon0, trans_lat0, trans_lon1, trans_lat1, n_points, n_trans) \n",
    "static_tran = static_tran.assign_coords(coastal_axis = coast_distances)\\\n",
    "    .assign_coords(transect_axis = tran_distances)"
   ]
  },
  {
   "cell_type": "markdown",
   "metadata": {},
   "source": [
    "Plot map of transects."
   ]
  },
  {
   "cell_type": "code",
   "execution_count": 543,
   "metadata": {
    "ExecuteTime": {
     "end_time": "2019-06-03T05:02:30.773399Z",
     "start_time": "2019-06-03T05:02:30.377107Z"
    }
   },
   "outputs": [
    {
     "data": {
      "image/png": "[encoded data removed]",
      "text/plain": [
       "<Figure size 360x288 with 1 Axes>"
      ]
     },
     "metadata": {
      "needs_background": "light"
     },
     "output_type": "display_data"
    }
   ],
   "source": [
    "rcParams.update({'font.size': 10})\n",
    "rcParams.update({'font.weight': 'normal'})\n",
    "rcParams.update({'font.serif': 'Liberation Serif'})\n",
    "\n",
    "plt.close('all')\n",
    "\n",
    "fig = plt.figure(figsize=(5,4))\n",
    "\n",
    "ax = fig.add_subplot(1, 1, 1, projection=ccrs.PlateCarree())\n",
    "ax.coastlines(resolution='50m', zorder=0)\n",
    "\n",
    "ax.set_extent(\n",
    "    [130.0, 139.0, -14.0, -4.0], \n",
    "    crs=ccrs.PlateCarree()\n",
    ")\n",
    "\n",
    "grid = ax.gridlines(\n",
    "    crs=ccrs.PlateCarree(), draw_labels=True,\n",
    "    linewidth=1, color='gray', alpha=0.4, linestyle='--',\n",
    ")\n",
    "\n",
    "for i in range(np.size(trans_lon0)):\n",
    "    ax.plot(\n",
    "            [trans_lon0[i], trans_lon1[i]], [trans_lat0[i], trans_lat1[i]],\n",
    "            transform=ccrs.PlateCarree(),\n",
    "            color='black', linewidth=.75\n",
    "    )\n",
    "plt.savefig('/g/data/w40/esh563/goulburn_NT/transect_map.svg')"
   ]
  },
  {
   "cell_type": "markdown",
   "metadata": {
    "ExecuteTime": {
     "end_time": "2019-05-31T23:41:44.517626Z",
     "start_time": "2019-05-31T23:41:44.510042Z"
    }
   },
   "source": [
    "Open horizontal wind transect file if it exists, otherwise calculate projections along transects."
   ]
  },
  {
   "cell_type": "code",
   "execution_count": 557,
   "metadata": {
    "ExecuteTime": {
     "end_time": "2019-06-03T06:05:07.682329Z",
     "start_time": "2019-06-03T06:05:07.647591Z"
    }
   },
   "outputs": [],
   "source": [
    "try:\n",
    "    \n",
    "    proj_tran = xr.open_dataset('/g/data/w40/esh563/goulburn_NT/wind_proj_goulburn_201412.nc')\n",
    "\n",
    "except:\n",
    "\n",
    "    # Caclulate transects for first day of data\n",
    "    U_path = '/g/data/w40/esh563/goulburn_NT/20142015/U/U_goulburn_20141201.nc'\n",
    "    V_path = '/g/data/w40/esh563/goulburn_NT/20142015/V/V_goulburn_20141201.nc'\n",
    "\n",
    "    proj_i = (xr.open_dataset(U_path).U * b_lon + xr.open_dataset(V_path).V * b_lat) / np.sqrt(b_lon ** 2 + b_lat ** 2);\n",
    "    proj_i.attrs.clear()\n",
    "\n",
    "    proj_tran = calc_transects(proj_i, trans_lon0, trans_lat0, trans_lon1, trans_lat1, n_points, n_trans)\n",
    "\n",
    "    #Caclulate transects for remaining days, concatenating as we go.\n",
    "    for i in range(2,32):\n",
    "\n",
    "        U_path = '/g/data/w40/esh563/goulburn_NT/20142015/U/U_goulburn_201412' + str(i).zfill(2) + '.nc'\n",
    "        V_path = '/g/data/w40/esh563/goulburn_NT/20142015/V/V_goulburn_201412' + str(i).zfill(2) + '.nc'\n",
    "\n",
    "        proj_i = (xr.open_dataset(U_path).U * b_lon + xr.open_dataset(V_path).V * b_lat) / np.sqrt(b_lon ** 2 + b_lat ** 2);\n",
    "        proj_i.attrs.clear()\n",
    "\n",
    "        proj_tran_i = calc_transects(proj_i, trans_lon0, trans_lat0, trans_lon1, trans_lat1, n_points, n_trans)\n",
    "        proj_tran = xr.concat((proj_tran, proj_tran_i), dim = 'time')\n",
    "\n",
    "    z = np.loadtxt('average_model_levels.txt')[0:71]\n",
    "    proj_tran = proj_tran.assign_coords(level = z)\\\n",
    "        .assign_coords(coastal_axis = coast_distances)\\\n",
    "        .assign_coords(transect_axis = tran_distances)\\\n",
    "        .rename('wind_proj')\n",
    "\n",
    "    proj_tran.to_netcdf(path='/g/data/w40/esh563/goulburn_NT/wind_proj_goulburn_201412.nc', mode='w', format='NETCDF4')"
   ]
  },
  {
   "cell_type": "code",
   "execution_count": 558,
   "metadata": {
    "ExecuteTime": {
     "end_time": "2019-06-03T06:05:08.625464Z",
     "start_time": "2019-06-03T06:05:08.377694Z"
    }
   },
   "outputs": [],
   "source": [
    "try:\n",
    "    \n",
    "    W_tran = xr.open_dataset('/g/data/w40/esh563/goulburn_NT/W_goulburn_201412.nc')\n",
    "\n",
    "except:\n",
    "\n",
    "    # Caclulate transects for first day of data\n",
    "    W_path = '/g/data/w40/esh563/goulburn_NT/20142015/W/W_goulburn_20141201.nc'\n",
    "\n",
    "    W_i = xr.open_dataset(W_path).W\n",
    "    W_i.attrs.clear()\n",
    "\n",
    "    W_tran = calc_transects(W_i, trans_lon0, trans_lat0, trans_lon1, trans_lat1, n_points, n_trans)\n",
    "\n",
    "    #Caclulate transects for remaining days, concatenating as we go.\n",
    "    for i in range(2,32):\n",
    "\n",
    "        W_path = '/g/data/w40/esh563/goulburn_NT/20142015/W/W_goulburn_201412' + str(i).zfill(2) + '.nc'\n",
    "\n",
    "        W_i = xr.open_dataset(W_path).W\n",
    "        W_i.attrs.clear()\n",
    "\n",
    "        W_tran_i = calc_transects(W_i, trans_lon0, trans_lat0, trans_lon1, trans_lat1, n_points, n_trans)\n",
    "        W_tran = xr.concat((W_tran, W_tran_i), dim = 'time')\n",
    "\n",
    "    z = np.loadtxt('average_model_levels.txt')[0:71]\n",
    "    W_tran = W_tran.assign_coords(level = z)\\\n",
    "        .assign_coords(coastal_axis = coast_distances)\\\n",
    "        .assign_coords(transect_axis = tran_distances)\\\n",
    "        .rename('W')\n",
    "\n",
    "    W_tran.to_netcdf(path='/g/data/w40/esh563/goulburn_NT/W_goulburn_201412.nc', mode='w', format='NETCDF4')"
   ]
  },
  {
   "cell_type": "markdown",
   "metadata": {
    "ExecuteTime": {
     "end_time": "2019-05-31T23:41:44.517626Z",
     "start_time": "2019-05-31T23:41:44.510042Z"
    }
   },
   "source": [
    "As above but for T."
   ]
  },
  {
   "cell_type": "code",
   "execution_count": 559,
   "metadata": {
    "ExecuteTime": {
     "end_time": "2019-06-03T06:05:11.666422Z",
     "start_time": "2019-06-03T06:05:11.637291Z"
    }
   },
   "outputs": [],
   "source": [
    "try:\n",
    "    \n",
    "    T_tran = xr.open_dataset('/g/data/w40/esh563/goulburn_NT/theta_goulburn_201412.nc')\n",
    "\n",
    "except:\n",
    "\n",
    "    # Caclulate transects for first day of data\n",
    "    T_path = '/g/data/w40/esh563/goulburn_NT/20142015/T/theta_goulburn_20141201.nc'\n",
    "\n",
    "    T_i = xr.open_dataset(T_path).T\n",
    "    T_i.attrs.clear()\n",
    "\n",
    "    T_tran = calc_transects(T_i, trans_lon0, trans_lat0, trans_lon1, trans_lat1, n_points, n_trans)\n",
    "\n",
    "    #Caclulate transects for remaining days, concatenating as we go.\n",
    "    for i in range(2,32):\n",
    "\n",
    "        T_path = '/g/data/w40/esh563/goulburn_NT/20142015/T/theta_goulburn_201412' + str(i).zfill(2) + '.nc'\n",
    "\n",
    "        T_i = xr.open_dataset(T_path).T\n",
    "        T_i.attrs.clear()\n",
    "\n",
    "        T_tran_i = calc_transects(T_i, trans_lon0, trans_lat0, trans_lon1, trans_lat1, n_points, n_trans)\n",
    "        T_tran = xr.concat((T_tran, T_tran_i), dim = 'time')\n",
    "\n",
    "    z = np.loadtxt('average_model_levels.txt')[0:71]\n",
    "    T_tran = T_tran.assign_coords(level = z)\\\n",
    "        .assign_coords(coastal_axis = coast_distances)\\\n",
    "        .assign_coords(transect_axis = tran_distances)\\\n",
    "        .rename('T')\n",
    "\n",
    "    T_tran.to_netcdf(path='/g/data/w40/esh563/goulburn_NT/theta_goulburn_201412.nc', mode='w', format='NETCDF4')"
   ]
  },
  {
   "cell_type": "markdown",
   "metadata": {},
   "source": [
    "# Create Composites"
   ]
  },
  {
   "cell_type": "code",
   "execution_count": 585,
   "metadata": {
    "ExecuteTime": {
     "end_time": "2019-06-03T06:40:20.627889Z",
     "start_time": "2019-06-03T06:40:20.589195Z"
    }
   },
   "outputs": [],
   "source": [
    "try:\n",
    "    \n",
    "    proj_tran_h = xr.open_dataset('/g/data/w40/esh563/goulburn_NT/wind_proj_c_goulburn_201412.nc')\n",
    "    W_tran_h = xr.open_dataset('/g/data/w40/esh563/goulburn_NT/W_c_goulburn_201412.nc')\n",
    "    T_tran_h = xr.open_dataset('/g/data/w40/esh563/goulburn_NT/T_c_goulburn_201412.nc')\n",
    "\n",
    "except:\n",
    "    \n",
    "    # Sutract 24 hour running mean\n",
    "    proj_tran = (proj_tran - proj_tran.rolling(time=24, center=True).mean()).dropna('time')\n",
    "    W_tran = (W_tran - W_tran.rolling(time=24, center=True).mean()).dropna('time')\n",
    "    T_tran = (T_tran - T_tran.rolling(time=24, center=True).mean()).dropna('time')\n",
    "\n",
    "    # Average over coastal_axis, i.e. over multiple transects\n",
    "    proj_tran = proj_tran.mean(dim='coastal_axis')\n",
    "    W_tran = W_tran.mean(dim='coastal_axis')\n",
    "    T_tran = T_tran.mean(dim='coastal_axis')\n",
    "\n",
    "    # Create a composite\n",
    "    proj_tran_list = [proj_tran.where(proj_tran['wind_proj']['time.hour'] == 0).mean('time', skipna=True)] * 24\n",
    "    W_tran_list = [W_tran.where(W_tran['W']['time.hour'] == 0).mean('time', skipna=True)] * 24\n",
    "    T_tran_list = [T_tran.where(T_tran['T']['time.hour'] == 0).mean('time', skipna=True)] * 24\n",
    "\n",
    "    for i in range(1,24):\n",
    "        proj_tran_list[i] = proj_tran.where(proj_tran['wind_proj']['time.hour'] == i).mean('time', skipna=True)\n",
    "        W_tran_list[i] = W_tran.where(W_tran['W']['time.hour'] == i).mean('time', skipna=True)\n",
    "        T_tran_list[i] = T_tran.where(T_tran['T']['time.hour'] == i).mean('time', skipna=True)\n",
    "\n",
    "    proj_tran_h = xr.concat(proj_tran_list, dim = 'hour_UTC')\n",
    "    proj_tran_h = proj_tran_h.assign_coords(hour_UTC = np.arange(0,24))    \n",
    "\n",
    "    W_tran_h = xr.concat(W_tran_list, dim = 'hour_UTC')\n",
    "    W_tran_h = W_tran_h.assign_coords(hour_UTC = np.arange(0,24)) \n",
    "\n",
    "    T_tran_h = xr.concat(T_tran_list, dim = 'hour_UTC')\n",
    "    T_tran_h = T_tran_h.assign_coords(hour_UTC = np.arange(0,24))\n",
    "\n",
    "    proj_tran_h.to_netcdf(\n",
    "        path='/g/data/w40/esh563/goulburn_NT/wind_proj_c_goulburn_201412.nc', mode='w', format='NETCDF4'\n",
    "    )\n",
    "    W_tran_h.to_netcdf(\n",
    "        path='/g/data/w40/esh563/goulburn_NT/W_c_goulburn_201412.nc', mode='w', format='NETCDF4'\n",
    "    )\n",
    "    T_tran_h.to_netcdf(\n",
    "        path='/g/data/w40/esh563/goulburn_NT/T_c_goulburn_201412.nc', mode='w', format='NETCDF4'\n",
    "    )"
   ]
  },
  {
   "cell_type": "code",
   "execution_count": 586,
   "metadata": {
    "ExecuteTime": {
     "end_time": "2019-06-03T06:40:22.604335Z",
     "start_time": "2019-06-03T06:40:22.585264Z"
    }
   },
   "outputs": [],
   "source": [
    "# Shift horizontal axis from start of transect to start of coastline. \n",
    "proj_tran_h['transect_axis'] = proj_tran_h['transect_axis'] - proj_tran_h['transect_axis'][10]\n",
    "W_tran_h['transect_axis'] = W_tran_h['transect_axis'] - W_tran_h['transect_axis'][10]\n",
    "T_tran_h['transect_axis'] = T_tran_h['transect_axis'] - T_tran_h['transect_axis'][10]"
   ]
  },
  {
   "cell_type": "markdown",
   "metadata": {},
   "source": [
    "# Generate Animations and Hovmoller Diagrams"
   ]
  },
  {
   "cell_type": "code",
   "execution_count": 594,
   "metadata": {
    "ExecuteTime": {
     "end_time": "2019-06-03T06:56:42.064879Z",
     "start_time": "2019-06-03T06:56:33.974896Z"
    }
   },
   "outputs": [
    {
     "name": "stdout",
     "output_type": "stream",
     "text": [
      "Animating velocity.\n",
      "Plotting frame 0.\n",
      "Plotting frame 0.\n",
      "Plotting frame 1.\n",
      "Plotting frame 2.\n",
      "Plotting frame 3.\n",
      "Plotting frame 4.\n",
      "Plotting frame 5.\n",
      "Plotting frame 6.\n",
      "Plotting frame 7.\n",
      "Plotting frame 8.\n",
      "Plotting frame 9.\n",
      "Plotting frame 10.\n",
      "Plotting frame 11.\n",
      "Plotting frame 12.\n",
      "Plotting frame 13.\n",
      "Plotting frame 14.\n",
      "Plotting frame 15.\n",
      "Plotting frame 16.\n",
      "Plotting frame 17.\n",
      "Plotting frame 18.\n",
      "Plotting frame 19.\n",
      "Plotting frame 20.\n",
      "Plotting frame 21.\n",
      "Plotting frame 22.\n",
      "Plotting frame 23.\n"
     ]
    }
   ],
   "source": [
    "from matplotlib.animation import FuncAnimation\n",
    "import datetime\n",
    "import os\n",
    "\n",
    "plt.ioff()\n",
    "\n",
    "print('Animating velocity.')\n",
    "\n",
    "LST = (np.arange(0,24) + 9) % 24\n",
    "\n",
    "# Initialise fonts\n",
    "rcParams['font.family'] = 'serif'\n",
    "rcParams.update({'font.serif': 'Liberation Serif'})\n",
    "rcParams.update({'font.size': 12})\n",
    "rcParams.update({'font.weight': 'normal'})\n",
    "\n",
    "fig, ax = plt.subplots()\n",
    "\n",
    "plt.plot(\n",
    "    [0, 0], [proj_tran_h.level[0], proj_tran_h.level[57]],\n",
    "    '--', color='grey')\n",
    "\n",
    "speed_max=np.ceil(np.amax(np.abs(proj_tran_h.wind_proj[:,0:58,:].values))/2)*2\n",
    "levels=np.arange(-speed_max, speed_max+1)\n",
    "\n",
    "contour_plot = ax.contourf(\n",
    "    proj_tran_h.transect_axis, proj_tran_h.level[0:58], \n",
    "    proj_tran_h.wind_proj.values[0,0:58,:],\n",
    "    levels, vmin=-speed_max, vmax=speed_max, cmap='RdBu_r')\n",
    "\n",
    "heights = np.arange(proj_tran_h.level[0],proj_tran_h.level[58],500)\n",
    "distances = np.arange(proj_tran_h.transect_axis[0],proj_tran_h.transect_axis[-1], 25000)\n",
    "\n",
    "cbar=plt.colorbar(contour_plot)\n",
    "cbar.set_label('Perturbation Velocity [m/s]')\n",
    "\n",
    "proj_tran_quiver = proj_tran_h.interp(transect_axis = distances).interp(level = heights)\n",
    "W_tran_quiver = W_tran_h.interp(transect_axis = distances).interp(level = heights)\n",
    " \n",
    "ax.quiver(\n",
    "    proj_tran_quiver.transect_axis, \n",
    "    proj_tran_quiver.level, \n",
    "    proj_tran_quiver.wind_proj.values[0,:,:], W_tran_quiver.W.values[0,:,:], \n",
    "    units='xy', angles='xy', scale=0.00015)\n",
    "\n",
    "plt.title('Perturbation Velocity [m/s]')\n",
    "plt.xlabel('Distance [m]')\n",
    "plt.ylabel('Height [m]')\n",
    "\n",
    "dt=str(datetime.datetime.now())[0:-7]\n",
    "dt=dt.replace(\" \", \"_\")\n",
    "dt=dt.replace(\":\", \"_\")\n",
    "dt=dt.replace(\"-\", \"\")         \n",
    "\n",
    "directory = '/g/data/w40/esh563/goulburn_NT/' + dt\n",
    "\n",
    "os.mkdir(directory)\n",
    "\n",
    "def update(i):\n",
    "    # Update the line and the axes (with a new xlabel). Return a tuple of\n",
    "    # \"artists\" that have to be redrawn for this frame.\n",
    "    ax.collections = []\n",
    "    \n",
    "    print('Plotting frame ' + str(i) + '.')\n",
    "\n",
    "    contourPlot=ax.contourf(\n",
    "        proj_tran_h.transect_axis, proj_tran_h.level[0:58], \n",
    "        proj_tran_h.wind_proj.values[i,0:58,:],\n",
    "        levels, vmin=-speed_max, vmax=speed_max, cmap='RdBu_r'\n",
    "    )\n",
    "\n",
    "    ax.quiver(\n",
    "        proj_tran_quiver.transect_axis, \n",
    "        proj_tran_quiver.level, \n",
    "        proj_tran_quiver.wind_proj.values[i,:,:], W_tran_quiver.W.values[i,:,:], \n",
    "        units='xy', angles='xy', scale=0.00015\n",
    "    )\n",
    "                            \n",
    "    ax.plot(\n",
    "        [0, 0], [proj_tran.level[0], proj_tran.level[57]],\n",
    "        '--', color='grey'\n",
    "    )\n",
    "    \n",
    "    plt.title('Perturbation Velocity [m/s] \\n' + str(LST[i]).zfill(2) + ':00 LST')\n",
    "        \n",
    "    plt.savefig(directory + '/' + str(LST[i]) + '.png')\n",
    "\n",
    "    return contourPlot, ax\n",
    "\n",
    "anim = FuncAnimation(fig, update, frames=np.arange(0, 24),interval=200)\n",
    "anim.save(directory + '/velocity.gif', dpi=80, writer='imagemagick')\n",
    "\n",
    "plt.close('all')"
   ]
  },
  {
   "cell_type": "code",
   "execution_count": null,
   "metadata": {},
   "outputs": [],
   "source": []
  }
 ],
 "metadata": {
  "kernelspec": {
   "display_name": "Python 3",
   "language": "python",
   "name": "python3"
  },
  "language_info": {
   "codemirror_mode": {
    "name": "ipython",
    "version": 3
   },
   "file_extension": ".py",
   "mimetype": "text/x-python",
   "name": "python",
   "nbconvert_exporter": "python",
   "pygments_lexer": "ipython3",
   "version": "3.6.7"
  },
  "toc": {
   "base_numbering": 1,
   "nav_menu": {},
   "number_sections": true,
   "sideBar": true,
   "skip_h1_title": false,
   "title_cell": "Table of Contents",
   "title_sidebar": "Contents",
   "toc_cell": false,
   "toc_position": {},
   "toc_section_display": true,
   "toc_window_display": true
  }
 },
 "nbformat": 4,
 "nbformat_minor": 1
}
