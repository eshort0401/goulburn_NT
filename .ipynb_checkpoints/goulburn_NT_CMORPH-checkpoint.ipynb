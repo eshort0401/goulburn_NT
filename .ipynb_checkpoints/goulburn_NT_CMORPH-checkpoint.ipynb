{
 "cells": [
  {
   "cell_type": "code",
   "execution_count": 1,
   "metadata": {
    "ExecuteTime": {
     "end_time": "2019-06-04T11:59:07.330796Z",
     "start_time": "2019-06-04T11:59:04.240893Z"
    }
   },
   "outputs": [],
   "source": [
    "import xarray as xr\n",
    "import matplotlib.pyplot as plt\n",
    "from matplotlib import rcParams\n",
    "import matplotlib.ticker as mticker\n",
    "import numpy as np\n",
    "import pyproj as pp\n",
    "import scipy as sp\n",
    "import transect_analysis as ta\n",
    "import pdb\n",
    "import cartopy.crs as ccrs\n",
    "from cartopy.mpl.gridliner import LONGITUDE_FORMATTER, LATITUDE_FORMATTER\n",
    "import cartopy.feature as cfeature\n",
    "import datetime\n",
    "import os\n",
    "from matplotlib.animation import FuncAnimation\n",
    "%load_ext line_profiler"
   ]
  },
  {
   "cell_type": "code",
   "execution_count": 2,
   "metadata": {
    "ExecuteTime": {
     "end_time": "2019-06-04T11:59:09.049019Z",
     "start_time": "2019-06-04T11:59:09.036887Z"
    }
   },
   "outputs": [],
   "source": [
    "# Specify start and end coords on coast.\n",
    "# Choose order so that (transect_axis, coastline_axis) forms a right hand coordinate system\n",
    "lon0 = 134.5293 \n",
    "lat0 = -12.4715\n",
    "coast_lon1 = 133.3290\n",
    "coast_lat1 = -12.1468\n",
    "\n",
    "trans_lon0, trans_lat0, trans_lon1, trans_lat1, n_points, n_trans, coast_distances, tran_distances = ta.define_transects(\n",
    "    lon0, lat0, coast_lon1, coast_lat1, 453361.47128972, spacing=27000\n",
    ")\n",
    "\n",
    "# Create basis vectors of new coordinate system\n",
    "b_lon = trans_lon1[0] - lon0\n",
    "b_lat = trans_lat1[0] - lat0"
   ]
  },
  {
   "cell_type": "code",
   "execution_count": 40,
   "metadata": {
    "ExecuteTime": {
     "end_time": "2019-06-04T13:52:02.188142Z",
     "start_time": "2019-06-04T13:52:02.164218Z"
    }
   },
   "outputs": [],
   "source": [
    "try:\n",
    "    \n",
    "    P_tran = xr.open_dataset('/g/data/w40/esh563/goulburn_NT/CMORPH_goulburn_201412.nc')\n",
    "\n",
    "except:\n",
    "\n",
    "    P = xr.open_mfdataset('/g/data/w40/esh563/goulburn_NT/CMORPH/*.nc')\n",
    "    P = P.rename({'lat' : 'latitude', 'lon' : 'longitude'})\n",
    "    P_tran = ta.calc_transects(P, trans_lon0, trans_lat0, trans_lon1, trans_lat1, n_points, n_trans)\n",
    "    P_tran.to_netcdf(path='/g/data/w40/esh563/goulburn_NT/CMORPH_goulburn_201412.nc', mode='w', format='NETCDF4')"
   ]
  },
  {
   "cell_type": "code",
   "execution_count": 41,
   "metadata": {
    "ExecuteTime": {
     "end_time": "2019-06-04T13:52:03.481702Z",
     "start_time": "2019-06-04T13:52:03.403986Z"
    }
   },
   "outputs": [],
   "source": [
    "# Average over coastal_axis, i.e. over multiple transects\n",
    "P_tran = P_tran.mean(dim='coastal_axis')\n",
    "\n",
    "hour = np.arange(0,24,3)\n",
    "\n",
    "# Create a composite\n",
    "P_tran_list = [P_tran.where(P_tran['cmorph_precip']['time.hour'] == hour[0]).mean('time', skipna=True)] * 8\n",
    "\n",
    "hour = np.arange(0,24,3)\n",
    "\n",
    "for i in range(1,8):\n",
    "    \n",
    "    P_tran_list[i] = P_tran.where(P_tran['cmorph_precip']['time.hour'] == hour[i]).mean('time', skipna=True)\n",
    "\n",
    "P_tran_h = xr.concat(P_tran_list, dim = 'hour_UTC')\n",
    "P_tran_h = P_tran_h.assign_coords(hour_UTC = hour)"
   ]
  },
  {
   "cell_type": "code",
   "execution_count": 48,
   "metadata": {
    "ExecuteTime": {
     "end_time": "2019-06-04T14:05:08.370225Z",
     "start_time": "2019-06-04T14:05:08.084125Z"
    },
    "scrolled": false
   },
   "outputs": [
    {
     "data": {
      "image/png": "[encoded data removed]",
      "text/plain": [
       "<Figure size 360x720 with 2 Axes>"
      ]
     },
     "metadata": {
      "needs_background": "light"
     },
     "output_type": "display_data"
    }
   ],
   "source": [
    "fig, ax = plt.subplots(figsize=(5,10))\n",
    "\n",
    "# Initialise fonts\n",
    "rcParams['font.family'] = 'serif'\n",
    "rcParams.update({'font.serif': 'Liberation Serif'})\n",
    "rcParams.update({'font.size': 12})\n",
    "rcParams.update({'font.weight': 'normal'})\n",
    "\n",
    "LST = np.arange(-24,48,3) + 9\n",
    "z = np.concatenate([np.squeeze(P_tran_h.cmorph_precip.values)]*3, axis=0)\n",
    "\n",
    "LST = LST[5:22]\n",
    "z = z[5:22,:]\n",
    "\n",
    "contour_p = plt.contourf(\n",
    "    P_tran_h.transect_axis.values,\n",
    "    LST,\n",
    "    z, \n",
    "    levels = np.array([0, 0.0625/2, 0.0625, 0.125, 0.25, 0.5, 1]),\n",
    "    cmap = 'Blues'\n",
    ")\n",
    "\n",
    "plt.title(\n",
    "    'Average Precipitation [mm/h]'\n",
    ")\n",
    "plt.xlabel('Distance [m]')\n",
    "plt.ylabel('Time [h LST]')\n",
    "\n",
    "plt.yticks(np.arange(0, 48, step=6))\n",
    "\n",
    "cbar_w=plt.colorbar(contour_p, orientation='horizontal')\n",
    "cbar_w.set_label('Average Precipitation [mm/h]')"
   ]
  },
  {
   "cell_type": "code",
   "execution_count": null,
   "metadata": {},
   "outputs": [],
   "source": []
  }
 ],
 "metadata": {
  "kernelspec": {
   "display_name": "Python [conda env:analysis3-19.04] *",
   "language": "python",
   "name": "conda-env-analysis3-19.04-py"
  },
  "language_info": {
   "codemirror_mode": {
    "name": "ipython",
    "version": 3
   },
   "file_extension": ".py",
   "mimetype": "text/x-python",
   "name": "python",
   "nbconvert_exporter": "python",
   "pygments_lexer": "ipython3",
   "version": "3.6.7"
  },
  "toc": {
   "base_numbering": 1,
   "nav_menu": {},
   "number_sections": true,
   "sideBar": true,
   "skip_h1_title": false,
   "title_cell": "Table of Contents",
   "title_sidebar": "Contents",
   "toc_cell": false,
   "toc_position": {},
   "toc_section_display": true,
   "toc_window_display": false
  }
 },
 "nbformat": 4,
 "nbformat_minor": 2
}
