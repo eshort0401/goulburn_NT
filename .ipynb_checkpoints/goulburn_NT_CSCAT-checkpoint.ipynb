{
 "cells": [
  {
   "cell_type": "markdown",
   "metadata": {},
   "source": [
    "# Setup"
   ]
  },
  {
   "cell_type": "markdown",
   "metadata": {},
   "source": [
    "Setup by loading relevant modules and iPython extensions."
   ]
  },
  {
   "cell_type": "code",
   "execution_count": 2,
   "metadata": {
    "ExecuteTime": {
     "end_time": "2019-06-13T06:29:58.149199Z",
     "start_time": "2019-06-13T06:29:55.716573Z"
    }
   },
   "outputs": [],
   "source": [
    "# Core \n",
    "import datetime\n",
    "import os\n",
    "import glob\n",
    "\n",
    "# Analysis \n",
    "import xarray as xr\n",
    "import numpy as np\n",
    "import pyproj as pp\n",
    "import scipy as sp\n",
    "import transect_analysis as ta\n",
    "\n",
    "# Plotting \n",
    "import cartopy.crs as ccrs\n",
    "from cartopy.mpl.gridliner import LONGITUDE_FORMATTER, LATITUDE_FORMATTER\n",
    "import cartopy.feature as cfeature\n",
    "import matplotlib.pyplot as plt\n",
    "from matplotlib import rcParams\n",
    "import matplotlib.ticker as mticker\n",
    "from matplotlib.animation import FuncAnimation\n",
    "import matplotlib.colors as colors\n",
    "\n",
    "# Debugging \n",
    "import pdb\n",
    "%load_ext line_profiler"
   ]
  },
  {
   "cell_type": "markdown",
   "metadata": {},
   "source": [
    "Define transects."
   ]
  },
  {
   "cell_type": "code",
   "execution_count": 10,
   "metadata": {
    "ExecuteTime": {
     "end_time": "2019-06-13T06:36:55.911251Z",
     "start_time": "2019-06-13T06:36:54.560443Z"
    }
   },
   "outputs": [],
   "source": [
    "# Specify start and end coords on coast.\n",
    "# Choose order so that (transect_axis, coastline_axis) forms a right hand coordinate system\n",
    "lon0 = 134.5293 \n",
    "lat0 = -12.4715\n",
    "coast_lon1 = 133.3290\n",
    "coast_lat1 = -12.1468\n",
    "\n",
    "trans_lon0, trans_lat0, trans_lon1, trans_lat1, n_points, n_trans, coast_distances, tran_distances = ta.define_transects(\n",
    "    lon0, lat0, coast_lon1, coast_lat1, 453300\n",
    ")\n",
    "\n",
    "static_path = '/g/data/ua8/ARCCSS_Data/MCASClimate/v1-0/static/static.nc'\n",
    "static = xr.open_dataset(static_path).sel(latitude=slice(-12.75,-6), longitude=slice(130,139))\n",
    "static_tran = ta.calc_transects(static, trans_lon0, trans_lat0, trans_lon1, trans_lat1, n_points, n_trans) \n",
    "static_tran = static_tran.assign_coords(coastal_axis = coast_distances)\n",
    "static_tran = static_tran.assign_coords(transect_axis = tran_distances)\n",
    "\n",
    "# Calcualate distance where landmask drops below 0.5\n",
    "coast_i = np.where(static_tran.mean('coastal_axis').LANDMASK.values < 0.5)[0][0] - 1\n",
    "coast_location = tran_distances[coast_i]\n",
    "\n",
    "# Redefine tran_distances so that coastline occurs at 0.\n",
    "tran_distances = tran_distances - coast_location\n",
    "\n",
    "# Create basis vectors of new coordinate system\n",
    "b_lon = trans_lon1[0] - lon0\n",
    "b_lat = trans_lat1[0] - lat0"
   ]
  },
  {
   "cell_type": "code",
   "execution_count": 8,
   "metadata": {
    "ExecuteTime": {
     "end_time": "2019-06-13T06:35:07.745414Z",
     "start_time": "2019-06-13T06:35:07.706115Z"
    }
   },
   "outputs": [
    {
     "data": {
      "text/plain": [
       "<xarray.Dataset>\n",
       "Dimensions:    (latitude: 18, longitude: 14, time: 186)\n",
       "Coordinates:\n",
       "  * latitude   (latitude) float64 -12.62 -12.38 -12.12 ... -8.875 -8.625 -8.375\n",
       "  * longitude  (longitude) float64 132.9 133.1 133.4 133.6 ... 135.6 135.9 136.1\n",
       "  * time       (time) datetime64[ns] 2012-12-01T06:00:00 ... 2012-12-31T23:55:00\n",
       "Data variables:\n",
       "    u          (time, latitude, longitude) float64 ...\n",
       "    v          (time, latitude, longitude) float64 ...\n",
       "Attributes:\n",
       "    start_date:  2012-10-29"
      ]
     },
     "execution_count": 8,
     "metadata": {},
     "output_type": "execute_result"
    }
   ],
   "source": [
    "CSCAT_201212 = xr.open_dataset('/g/data/w40/esh563/goulburn_NT/CSCAT/CSCAT_201212.nc')\n",
    "\n",
    "CSCAT_tran = ta.calc_transects(CSCAT.T, trans_lon0, trans_lat0, trans_lon1, trans_lat1, n_points, n_trans)\n",
    "CSCAT_tran = T_tran.assign_coords(level = z)\\\n",
    "        .assign_coords(coastal_axis = coast_distances)\\\n",
    "        .assign_coords(transect_axis = tran_distances)\\\n",
    "        .rename('T')"
   ]
  },
  {
   "cell_type": "markdown",
   "metadata": {},
   "source": [
    "# Plot Transect and Mean Wind Map"
   ]
  },
  {
   "cell_type": "markdown",
   "metadata": {},
   "source": [
    "Plot map of transects."
   ]
  },
  {
   "cell_type": "code",
   "execution_count": null,
   "metadata": {
    "ExecuteTime": {
     "end_time": "2019-06-11T03:10:53.678848Z",
     "start_time": "2019-06-11T03:09:52.939682Z"
    }
   },
   "outputs": [],
   "source": [
    "# Load WRF December mean data\n",
    "U_mean = xr.open_dataset('/g/data/w40/esh563/goulburn_NT/means/U_goulburn_12.nc')\n",
    "V_mean = xr.open_dataset('/g/data/w40/esh563/goulburn_NT/means/V_goulburn_12.nc')\n",
    "PRCP_mean = xr.open_dataset('/g/data/w40/esh563/goulburn_NT/means/prcp_goulburn_12.nc')\n",
    "\n",
    "# Calcualate speed\n",
    "speed = np.sqrt(U_mean.U ** 2 + V_mean.V ** 2)\n",
    "\n",
    "# Define maximum level to plot\n",
    "max_level = 8000\n",
    "\n",
    "# Initialise fonts\n",
    "rcParams.update({'font.family' : 'serif'})\n",
    "rcParams.update({'font.serif': 'Liberation Serif'})\n",
    "rcParams.update({'mathtext.fontset' : 'dejavuserif'}) \n",
    "rcParams.update({'font.size': 12})\n",
    "\n",
    "# Initialise figure\n",
    "plt.ioff()\n",
    "plt.close('all')\n",
    "fig = plt.figure(figsize=(5,5))\n",
    "\n",
    "# Define map boundaries\n",
    "lon_min = 133.01\n",
    "lon_max = 135.99\n",
    "lat_min = -12.45\n",
    "lat_max = -8\n",
    "\n",
    "# Set up cartopy\n",
    "ax = plt.axes(projection=ccrs.PlateCarree())\n",
    "ax.set_extent(\n",
    "    [lon_min, lon_max, lat_min, lat_max], \n",
    "    crs=ccrs.PlateCarree()\n",
    ")\n",
    "ax.coastlines(resolution='50m')\n",
    "\n",
    "# Draw speed shading.\n",
    "speed_max = np.ceil(np.amax(speed.sel(level = slice(0,max_level)).values)*2)/2\n",
    "\n",
    "levels = np.arange(0, speed_max+.5, 0.5)\n",
    "\n",
    "speed_contour = ax.contourf(\n",
    "    speed.longitude, speed.latitude, speed.isel(level = 0), levels=levels,\n",
    "    vmin=0, vmax=speed_max, cmap='Reds', transform=ccrs.PlateCarree()\n",
    ")\n",
    "cbar_w = plt.colorbar(speed_contour, orientation='vertical')\n",
    "cbar_w.set_label('Wind Speed [m/s]')\n",
    "\n",
    "# Draw precipitation contours\n",
    "contour_prcp = ax.contour(\n",
    "    PRCP_mean.longitude,\n",
    "    PRCP_mean.latitude,\n",
    "    PRCP_mean.RAINNC*1000,\n",
    "    levels = np.array([2 ** -2, 2 ** -1.5]),\n",
    "    colors = ['royalblue', 'blue'],\n",
    "    linestyles = ['dashed', 'solid'],\n",
    "    linewidths = 0.75,\n",
    ")\n",
    "\n",
    "contour_prcp.collections[0].set_dashes([(0, (5.0, 2.0))])\n",
    "labels = ['$2^{-2}$ mm/h', '$2^{-1.5}$ mm/h']\n",
    "for i in range(len(labels)):\n",
    "    contour_prcp.collections[i].set_label(labels[i])\n",
    "plt.legend(loc='upper left')\n",
    "\n",
    "# Draw arrows every half degree lon and lat\n",
    "arrow_step = 0.5\n",
    "\n",
    "U_quiver = U_mean.U.sel(\n",
    "    latitude = np.arange(lat_min + arrow_step/2, lat_max + arrow_step/2, arrow_step), \n",
    "    longitude = np.arange(lon_min + arrow_step/2, lon_max + arrow_step/2, arrow_step),\n",
    "    method = 'nearest'\n",
    ")\n",
    "V_quiver = V_mean.V.sel(\n",
    "    latitude = np.arange(lat_min, lat_max, arrow_step), \n",
    "    longitude = np.arange(lon_min, lon_max, arrow_step),\n",
    "    method = 'nearest'\n",
    ")\n",
    "\n",
    "ax.quiver(\n",
    "    U_quiver.longitude, \n",
    "    U_quiver.latitude, \n",
    "    U_quiver.isel(level = 0), V_quiver.isel(level = 0), \n",
    "    units='xy', angles='xy', transform=ccrs.PlateCarree(),\n",
    "    scale=speed_max/arrow_step\n",
    ")\n",
    "\n",
    "# Draw grid\n",
    "grid = ax.gridlines(\n",
    "    crs=ccrs.PlateCarree(), draw_labels=True,\n",
    "    linewidth=1, color='gray', alpha=0.4, linestyle='--',\n",
    ")\n",
    "\n",
    "grid.xlabels_top = False\n",
    "grid.ylabels_right = False\n",
    "\n",
    "grid.xlocator = mticker.FixedLocator(\n",
    "    np.arange(np.floor(lon_min), np.ceil(lon_max)+1, 1)\n",
    ")\n",
    "grid.ylocator = mticker.FixedLocator(\n",
    "    np.arange(np.floor(lat_min), np.ceil(lat_max)+1, 1)\n",
    ")\n",
    "\n",
    "grid.xformatter = LONGITUDE_FORMATTER\n",
    "grid.yformatter = LATITUDE_FORMATTER\n",
    "\n",
    "# Draw transects\n",
    "for k in np.arange(0,np.size(trans_lon0),3):\n",
    "    ax.plot(\n",
    "            [trans_lon0[k], trans_lon1[k]], [trans_lat0[k], trans_lat1[k]],\n",
    "            transform=ccrs.PlateCarree(),\n",
    "            color='black', linewidth=.75\n",
    "    )\n",
    "    \n",
    "# Make labels\n",
    "plt.title('December Mean Wind [m/s] \\n 2004 to 2014  \\n {:.3f} km'.format(speed.level.values[0]/1000))\n",
    "plt.xlabel('Longitude')\n",
    "plt.ylabel('Latitude')\n",
    "\n",
    "# Create directory for saving figures\n",
    "dt=str(datetime.datetime.now())[0:-7]\n",
    "dt=dt.replace(\" \", \"_\")\n",
    "dt=dt.replace(\":\", \"_\")\n",
    "dt=dt.replace(\"-\", \"\")         \n",
    "\n",
    "directory = '/g/data/w40/esh563/goulburn_NT/mean_wind_' + dt\n",
    "\n",
    "os.mkdir(directory)\n",
    "\n",
    "# Define animation update function\n",
    "def update(i):\n",
    "    \n",
    "    print('Drawing frame {}.'.format(str(i).zfill(2)),  end='\\r')\n",
    "\n",
    "    # Update contour\n",
    "    speed_contour = ax.contourf(\n",
    "        speed.longitude, speed.latitude, speed.isel(level = i), levels=levels,\n",
    "        vmin=0, vmax=speed_max, cmap='Reds', transform=ccrs.PlateCarree()\n",
    "    )\n",
    "\n",
    "    # Update quiver\n",
    "    ax.quiver(\n",
    "        U_quiver.longitude, \n",
    "        U_quiver.latitude, \n",
    "        U_quiver.isel(level = i), V_quiver.isel(level = i), \n",
    "        units='xy', angles='xy', transform=ccrs.PlateCarree(),\n",
    "        scale=speed_max/arrow_step\n",
    "    )\n",
    "\n",
    "    # Update title\n",
    "    plt.title('Mean Wind December 2012 [m/s] \\n' + '{:.3f} km'.format(speed.level[i].values/1000))\n",
    "        \n",
    "    # Save frame\n",
    "    plt.savefig(\n",
    "        directory + '/{}.png'.format(str(int(speed.level.values[i])))\n",
    "    )\n",
    "\n",
    "    return speed_contour, ax\n",
    "\n",
    "# Create and save animation\n",
    "anim = FuncAnimation(\n",
    "    fig, update, interval=200,\n",
    "    frames=np.arange(0, np.where(speed.level.values < max_level)[0][-1] + 1)\n",
    ")\n",
    "\n",
    "anim.save(directory + '/mean_wind.gif', dpi=80, writer='imagemagick')"
   ]
  },
  {
   "cell_type": "markdown",
   "metadata": {},
   "source": [
    "# Plot Cross Section and Hovmoller Diagrams"
   ]
  },
  {
   "cell_type": "markdown",
   "metadata": {},
   "source": [
    "Load datsets."
   ]
  },
  {
   "cell_type": "code",
   "execution_count": 9,
   "metadata": {
    "ExecuteTime": {
     "end_time": "2019-06-13T01:35:37.613380Z",
     "start_time": "2019-06-13T01:35:37.528725Z"
    }
   },
   "outputs": [],
   "source": [
    "proj_tran_mean = xr.open_dataset('/g/data/w40/esh563/goulburn_NT/transect_means/wind_proj_goulburn_12.nc')\n",
    "W_tran_mean = xr.open_dataset('/g/data/w40/esh563/goulburn_NT/transect_means/W_goulburn_12.nc')\n",
    "PRCP_tran_mean = xr.open_dataset('/g/data/w40/esh563/goulburn_NT/transect_means/PRCP_goulburn_12.nc')"
   ]
  },
  {
   "cell_type": "markdown",
   "metadata": {},
   "source": [
    "Define LST vectors."
   ]
  },
  {
   "cell_type": "code",
   "execution_count": 10,
   "metadata": {
    "ExecuteTime": {
     "end_time": "2019-06-13T01:35:38.567963Z",
     "start_time": "2019-06-13T01:35:38.557261Z"
    }
   },
   "outputs": [],
   "source": [
    "# Define local solar time based on mean of transect lon values\n",
    "lon_mean = np.mean(np.concatenate((trans_lon0, trans_lon1)))\n",
    "LST = (proj_tran_mean.hour.values + (lon_mean / 360) * 24) % 24\n",
    "LST_h = np.floor(LST)\n",
    "LST_m = np.round((LST % 1) * 60)"
   ]
  },
  {
   "cell_type": "markdown",
   "metadata": {},
   "source": [
    "## Wind Cross Section"
   ]
  },
  {
   "cell_type": "markdown",
   "metadata": {},
   "source": [
    "Plot wind cross section."
   ]
  },
  {
   "cell_type": "code",
   "execution_count": 191,
   "metadata": {
    "ExecuteTime": {
     "end_time": "2019-06-10T05:32:02.277777Z",
     "start_time": "2019-06-10T05:31:52.526656Z"
    }
   },
   "outputs": [
    {
     "name": "stdout",
     "output_type": "stream",
     "text": [
      "Animating velocity cross section.\n",
      "Plotting frame 23.\r"
     ]
    }
   ],
   "source": [
    "print('Animating velocity cross section.')\n",
    "\n",
    "# Turn off interacting plotting \n",
    "plt.ioff()\n",
    "\n",
    "# Initialise fonts\n",
    "rcParams.update({'font.family': 'serif'})\n",
    "rcParams.update({'font.serif': 'Liberation Serif'})\n",
    "rcParams.update({'mathtext.fontset' : 'dejavuserif'}) \n",
    "rcParams.update({'font.size': 12})\n",
    "\n",
    "fig, ax = plt.subplots(figsize=(8, 8))\n",
    "\n",
    "# Plot location of coastline\n",
    "plt.plot(\n",
    "    [0, 0], [proj_tran_mean.level[0], proj_tran_mean.level[57]],\n",
    "    '--', color='grey'\n",
    ")\n",
    "\n",
    "# Plot speeds\n",
    "speed = np.sqrt(proj_tran_mean.wind_proj ** 2 + W_tran_mean.W ** 2)\n",
    "\n",
    "speed_max=np.ceil(np.amax(np.abs(speed[:,0:58,:].values))*4)/4\n",
    "levels=np.arange(0, speed_max+0.25, 0.25)\n",
    "\n",
    "contour_plot = ax.contourf(\n",
    "    proj_tran_mean.transect_axis, proj_tran_mean.level[0:58], \n",
    "    speed.values[0,0:58,:],\n",
    "    levels, vmin=0, vmax=speed_max, cmap='Reds')\n",
    "\n",
    "cbar=plt.colorbar(contour_plot)\n",
    "cbar.set_label('Perturbation Velocity [m/s]')\n",
    "\n",
    "# Draw arrows every 50 km horizontal, 1 km height\n",
    "arrow_step_v = 1000\n",
    "arrow_step_h = 50000\n",
    "\n",
    "heights = np.arange(\n",
    "    proj_tran_mean.level[0]+arrow_step_v/2, proj_tran_mean.level[58], arrow_step_v\n",
    ")\n",
    "distances = np.arange(\n",
    "    proj_tran_mean.transect_axis[0]+arrow_step_h/2, proj_tran_mean.transect_axis[-1], arrow_step_h\n",
    ")\n",
    "\n",
    "proj_tran_quiver = proj_tran_mean.interp(transect_axis = distances).interp(level = heights)\n",
    "W_tran_quiver = W_tran_mean.interp(transect_axis = distances).interp(level = heights)\n",
    " \n",
    "ax.quiver(\n",
    "    proj_tran_quiver.transect_axis, \n",
    "    proj_tran_quiver.level, \n",
    "    proj_tran_quiver.wind_proj.values[0,:,:], W_tran_quiver.W.values[0,:,:], \n",
    "    units='xy', angles='xy', scale=speed_max / np.sqrt(arrow_step_v ** 2 + arrow_step_h ** 2)\n",
    ")\n",
    "\n",
    "# Plot labels and title\n",
    "plt.title(\n",
    "    'Perturbation Velocity [m/s] \\n {}:{} LST'.format(\n",
    "        str(int(LST_h[0])).zfill(2), str(int(LST_m[0])).zfill(2)\n",
    "    )\n",
    ")\n",
    "plt.xlabel('Distance [m]')\n",
    "plt.ylabel('Height [m]')\n",
    "\n",
    "# Create directory for figures\n",
    "dt=str(datetime.datetime.now())[0:-7]\n",
    "dt=dt.replace(\" \", \"_\")\n",
    "dt=dt.replace(\":\", \"_\")\n",
    "dt=dt.replace(\"-\", \"\")         \n",
    "\n",
    "directory = '/g/data/w40/esh563/goulburn_NT/cross_sect_' + dt\n",
    "\n",
    "os.mkdir(directory)\n",
    "\n",
    "# Define frame update function\n",
    "def update(i):\n",
    "    # Clear collections to correct animation issue.\n",
    "    ax.collections = []\n",
    "    \n",
    "    print('Plotting frame ' + str(i) + '.', end='\\r')\n",
    "    \n",
    "    # Update speeds\n",
    "    contourPlot=ax.contourf(\n",
    "        proj_tran_mean.transect_axis, proj_tran_mean.level[0:58], \n",
    "        speed.values[i,0:58,:],\n",
    "        levels, vmin=0, vmax=speed_max, cmap='Reds'\n",
    "    )\n",
    "\n",
    "    # Update arrows\n",
    "    ax.quiver(\n",
    "        proj_tran_quiver.transect_axis, \n",
    "        proj_tran_quiver.level, \n",
    "        proj_tran_quiver.wind_proj.values[i,:,:], W_tran_quiver.W.values[i,:,:], \n",
    "        units='xy', angles='xy', scale=speed_max / np.sqrt(arrow_step_v ** 2 + arrow_step_h ** 2)\n",
    "    )\n",
    "                            \n",
    "    ax.plot(\n",
    "        [0, 0], [proj_tran_mean.level[0], proj_tran_mean.level[57]],\n",
    "        '--', color='grey'\n",
    "    )\n",
    "    \n",
    "    # Redraw coast line\n",
    "    plt.title(\n",
    "        'Perturbation Velocity [m/s] \\n {}:{} LST'.format(\n",
    "            str(int(LST_h[i])).zfill(2), str(int(LST_m[i])).zfill(2)\n",
    "        )\n",
    "    )\n",
    "        \n",
    "    # Save frame\n",
    "    plt.savefig(directory + '/' + str(LST[i]) + '.png')\n",
    "\n",
    "    return contourPlot, ax\n",
    "\n",
    "# Create animation\n",
    "anim = FuncAnimation(fig, update, frames=np.arange(0, 24),interval=200)\n",
    "anim.save(directory + '/velocity.gif', dpi=80, writer='imagemagick')\n",
    "\n",
    "# Close any open figures\n",
    "plt.close('all')"
   ]
  },
  {
   "cell_type": "markdown",
   "metadata": {},
   "source": [
    "## Theta and Liquid Water Cross Section"
   ]
  },
  {
   "cell_type": "markdown",
   "metadata": {},
   "source": [
    "Load datasets."
   ]
  },
  {
   "cell_type": "code",
   "execution_count": 30,
   "metadata": {
    "ExecuteTime": {
     "end_time": "2019-06-13T01:47:48.418375Z",
     "start_time": "2019-06-13T01:47:48.403097Z"
    }
   },
   "outputs": [],
   "source": [
    "T_tran = xr.open_dataset('/g/data/w40/esh563/goulburn_NT/transect_means/T_goulburn_12.nc')\n",
    "T_tran = T_tran.sel(transect_axis = slice(0,500000), level = slice(150,20000))"
   ]
  },
  {
   "cell_type": "code",
   "execution_count": 32,
   "metadata": {
    "ExecuteTime": {
     "end_time": "2019-06-13T01:49:28.314419Z",
     "start_time": "2019-06-13T01:49:19.970078Z"
    }
   },
   "outputs": [
    {
     "name": "stdout",
     "output_type": "stream",
     "text": [
      "Animating theta cross section.\n",
      "Plotting frame 23.\r"
     ]
    }
   ],
   "source": [
    "print('Animating theta cross section.')\n",
    "\n",
    "# Turn off interacting plotting \n",
    "plt.ioff()\n",
    "\n",
    "# Initialise fonts\n",
    "rcParams.update({'font.family': 'serif'})\n",
    "rcParams.update({'font.serif': 'Liberation Serif'})\n",
    "rcParams.update({'mathtext.fontset' : 'dejavuserif'}) \n",
    "rcParams.update({'font.size': 12})\n",
    "\n",
    "fig, ax = plt.subplots(figsize=(6, 6))\n",
    "\n",
    "# Plot location of coastline\n",
    "plt.plot(\n",
    "    [0, 0], [T_tran.level[0], T_tran.level[57]],\n",
    "    '--', color='grey'\n",
    ")\n",
    "\n",
    "# Plot speeds\n",
    "T_max=np.ceil(np.amax(np.abs(T_tran.T[:,0:58,:].values))*4)/4\n",
    "levels=np.arange(-T_max, T_max+0.25, 0.25)\n",
    "\n",
    "contour_plot = ax.contourf(\n",
    "    T_tran.transect_axis, T_tran.level[0:58], \n",
    "    T_tran.T.values[0,0:58,:],\n",
    "    levels, vmin=-T_max, vmax=T_max, cmap='RdBu_r')\n",
    "\n",
    "cbar=plt.colorbar(contour_plot, orientation='horizontal')\n",
    "cbar.set_label('Potential Temperature Anomaly [K]')\n",
    "\n",
    "# Plot labels and title\n",
    "plt.title(\n",
    "    'Potential Temperature Anomaly [K] \\n {}:{} LST'.format(\n",
    "        str(int(LST_h[0])).zfill(2), str(int(LST_m[0])).zfill(2)\n",
    "    )\n",
    ")\n",
    "plt.xlabel('Distance [m]')\n",
    "plt.ylabel('Height [m]')\n",
    "\n",
    "plt.yticks([200] + list(range(1000, 15000, 1000)))\n",
    "\n",
    "# Create directory for figures\n",
    "dt=str(datetime.datetime.now())[0:-7]\n",
    "dt=dt.replace(\" \", \"_\")\n",
    "dt=dt.replace(\":\", \"_\")\n",
    "dt=dt.replace(\"-\", \"\")         \n",
    "\n",
    "directory = '/g/data/w40/esh563/goulburn_NT/theta_cross_sect_' + dt\n",
    "\n",
    "os.mkdir(directory)\n",
    "\n",
    "# Define frame update function\n",
    "def update(i):\n",
    "    # Clear collections to correct animation issue.\n",
    "    ax.collections = []\n",
    "    \n",
    "    print('Plotting frame ' + str(i) + '.', end='\\r')\n",
    "    \n",
    "    # Update speeds\n",
    "    contourPlot=ax.contourf(\n",
    "        T_tran.transect_axis, T_tran.level[0:58], \n",
    "        T_tran.T.values[i,0:58,:],\n",
    "        levels, vmin=-T_max, vmax=T_max, cmap='RdBu_r'\n",
    "    )\n",
    "     \n",
    "    # Redraw coast line\n",
    "    ax.plot(\n",
    "        [0, 0], [T_tran.level[0], T_tran.level[57]],\n",
    "        '--', color='grey'\n",
    "    )\n",
    "    \n",
    "    # Title\n",
    "    plt.title(\n",
    "        'Perturbation Velocity [m/s] \\n {}:{} LST'.format(\n",
    "            str(int(LST_h[i])).zfill(2), str(int(LST_m[i])).zfill(2)\n",
    "        )\n",
    "    )\n",
    "        \n",
    "    # Save frame\n",
    "    plt.savefig(directory + '/' + str(int(np.round(LST[i]))) + '.png')\n",
    "\n",
    "    return contourPlot, ax\n",
    "\n",
    "# Create animation\n",
    "anim = FuncAnimation(fig, update, frames=np.arange(0, 24),interval=200)\n",
    "anim.save(directory + '/theta.gif', dpi=80, writer='imagemagick')\n",
    "\n",
    "# Close any open figures\n",
    "plt.close('all')"
   ]
  },
  {
   "cell_type": "markdown",
   "metadata": {},
   "source": [
    "## Wind Perturbation Hovmoller"
   ]
  },
  {
   "cell_type": "markdown",
   "metadata": {},
   "source": [
    "Create Hovmoller diagrams."
   ]
  },
  {
   "cell_type": "code",
   "execution_count": 22,
   "metadata": {
    "ExecuteTime": {
     "end_time": "2019-06-13T01:43:45.589488Z",
     "start_time": "2019-06-13T01:43:29.969081Z"
    }
   },
   "outputs": [
    {
     "name": "stdout",
     "output_type": "stream",
     "text": [
      "Plotting frame 45.\r"
     ]
    },
    {
     "ename": "KeyboardInterrupt",
     "evalue": "",
     "output_type": "error",
     "traceback": [
      "\u001b[0;31m---------------------------------------------------------------------------\u001b[0m",
      "\u001b[0;31mKeyboardInterrupt\u001b[0m                         Traceback (most recent call last)",
      "\u001b[0;32m<ipython-input-22-9f45fde3f980>\u001b[0m in \u001b[0;36m<module>\u001b[0;34m\u001b[0m\n\u001b[1;32m    103\u001b[0m \u001b[0;34m\u001b[0m\u001b[0m\n\u001b[1;32m    104\u001b[0m \u001b[0manim\u001b[0m \u001b[0;34m=\u001b[0m \u001b[0mFuncAnimation\u001b[0m\u001b[0;34m(\u001b[0m\u001b[0mfig\u001b[0m\u001b[0;34m,\u001b[0m \u001b[0mupdate\u001b[0m\u001b[0;34m,\u001b[0m \u001b[0mframes\u001b[0m\u001b[0;34m=\u001b[0m\u001b[0mnp\u001b[0m\u001b[0;34m.\u001b[0m\u001b[0marange\u001b[0m\u001b[0;34m(\u001b[0m\u001b[0;36m0\u001b[0m\u001b[0;34m,\u001b[0m \u001b[0mproj_tran_mean\u001b[0m\u001b[0;34m.\u001b[0m\u001b[0mlevel\u001b[0m\u001b[0;34m.\u001b[0m\u001b[0mvalues\u001b[0m\u001b[0;34m.\u001b[0m\u001b[0msize\u001b[0m\u001b[0;34m)\u001b[0m\u001b[0;34m,\u001b[0m \u001b[0minterval\u001b[0m\u001b[0;34m=\u001b[0m\u001b[0;36m200\u001b[0m\u001b[0;34m)\u001b[0m\u001b[0;34m\u001b[0m\u001b[0;34m\u001b[0m\u001b[0m\n\u001b[0;32m--> 105\u001b[0;31m \u001b[0manim\u001b[0m\u001b[0;34m.\u001b[0m\u001b[0msave\u001b[0m\u001b[0;34m(\u001b[0m\u001b[0mdirectory\u001b[0m \u001b[0;34m+\u001b[0m \u001b[0;34m'/hov.gif'\u001b[0m\u001b[0;34m,\u001b[0m \u001b[0mdpi\u001b[0m\u001b[0;34m=\u001b[0m\u001b[0;36m80\u001b[0m\u001b[0;34m,\u001b[0m \u001b[0mwriter\u001b[0m\u001b[0;34m=\u001b[0m\u001b[0;34m'imagemagick'\u001b[0m\u001b[0;34m)\u001b[0m\u001b[0;34m\u001b[0m\u001b[0;34m\u001b[0m\u001b[0m\n\u001b[0m\u001b[1;32m    106\u001b[0m \u001b[0;34m\u001b[0m\u001b[0m\n\u001b[1;32m    107\u001b[0m \u001b[0mplt\u001b[0m\u001b[0;34m.\u001b[0m\u001b[0mclose\u001b[0m\u001b[0;34m(\u001b[0m\u001b[0;34m'all'\u001b[0m\u001b[0;34m)\u001b[0m\u001b[0;34m\u001b[0m\u001b[0;34m\u001b[0m\u001b[0m\n",
      "\u001b[0;32m/g/data3/hh5/public/apps/miniconda3/envs/analysis3-19.04/lib/python3.6/site-packages/matplotlib/animation.py\u001b[0m in \u001b[0;36msave\u001b[0;34m(self, filename, writer, fps, dpi, codec, bitrate, extra_args, metadata, extra_anim, savefig_kwargs)\u001b[0m\n\u001b[1;32m   1197\u001b[0m                     \u001b[0;32mfor\u001b[0m \u001b[0manim\u001b[0m\u001b[0;34m,\u001b[0m \u001b[0md\u001b[0m \u001b[0;32min\u001b[0m \u001b[0mzip\u001b[0m\u001b[0;34m(\u001b[0m\u001b[0mall_anim\u001b[0m\u001b[0;34m,\u001b[0m \u001b[0mdata\u001b[0m\u001b[0;34m)\u001b[0m\u001b[0;34m:\u001b[0m\u001b[0;34m\u001b[0m\u001b[0;34m\u001b[0m\u001b[0m\n\u001b[1;32m   1198\u001b[0m                         \u001b[0;31m# TODO: See if turning off blit is really necessary\u001b[0m\u001b[0;34m\u001b[0m\u001b[0;34m\u001b[0m\u001b[0;34m\u001b[0m\u001b[0m\n\u001b[0;32m-> 1199\u001b[0;31m                         \u001b[0manim\u001b[0m\u001b[0;34m.\u001b[0m\u001b[0m_draw_next_frame\u001b[0m\u001b[0;34m(\u001b[0m\u001b[0md\u001b[0m\u001b[0;34m,\u001b[0m \u001b[0mblit\u001b[0m\u001b[0;34m=\u001b[0m\u001b[0;32mFalse\u001b[0m\u001b[0;34m)\u001b[0m\u001b[0;34m\u001b[0m\u001b[0;34m\u001b[0m\u001b[0m\n\u001b[0m\u001b[1;32m   1200\u001b[0m                     \u001b[0mwriter\u001b[0m\u001b[0;34m.\u001b[0m\u001b[0mgrab_frame\u001b[0m\u001b[0;34m(\u001b[0m\u001b[0;34m**\u001b[0m\u001b[0msavefig_kwargs\u001b[0m\u001b[0;34m)\u001b[0m\u001b[0;34m\u001b[0m\u001b[0;34m\u001b[0m\u001b[0m\n\u001b[1;32m   1201\u001b[0m \u001b[0;34m\u001b[0m\u001b[0m\n",
      "\u001b[0;32m/g/data3/hh5/public/apps/miniconda3/envs/analysis3-19.04/lib/python3.6/site-packages/matplotlib/animation.py\u001b[0m in \u001b[0;36m_draw_next_frame\u001b[0;34m(self, framedata, blit)\u001b[0m\n\u001b[1;32m   1234\u001b[0m         \u001b[0;31m# post- draw, as well as the drawing of the frame itself.\u001b[0m\u001b[0;34m\u001b[0m\u001b[0;34m\u001b[0m\u001b[0;34m\u001b[0m\u001b[0m\n\u001b[1;32m   1235\u001b[0m         \u001b[0mself\u001b[0m\u001b[0;34m.\u001b[0m\u001b[0m_pre_draw\u001b[0m\u001b[0;34m(\u001b[0m\u001b[0mframedata\u001b[0m\u001b[0;34m,\u001b[0m \u001b[0mblit\u001b[0m\u001b[0;34m)\u001b[0m\u001b[0;34m\u001b[0m\u001b[0;34m\u001b[0m\u001b[0m\n\u001b[0;32m-> 1236\u001b[0;31m         \u001b[0mself\u001b[0m\u001b[0;34m.\u001b[0m\u001b[0m_draw_frame\u001b[0m\u001b[0;34m(\u001b[0m\u001b[0mframedata\u001b[0m\u001b[0;34m)\u001b[0m\u001b[0;34m\u001b[0m\u001b[0;34m\u001b[0m\u001b[0m\n\u001b[0m\u001b[1;32m   1237\u001b[0m         \u001b[0mself\u001b[0m\u001b[0;34m.\u001b[0m\u001b[0m_post_draw\u001b[0m\u001b[0;34m(\u001b[0m\u001b[0mframedata\u001b[0m\u001b[0;34m,\u001b[0m \u001b[0mblit\u001b[0m\u001b[0;34m)\u001b[0m\u001b[0;34m\u001b[0m\u001b[0;34m\u001b[0m\u001b[0m\n\u001b[1;32m   1238\u001b[0m \u001b[0;34m\u001b[0m\u001b[0m\n",
      "\u001b[0;32m/g/data3/hh5/public/apps/miniconda3/envs/analysis3-19.04/lib/python3.6/site-packages/matplotlib/animation.py\u001b[0m in \u001b[0;36m_draw_frame\u001b[0;34m(self, framedata)\u001b[0m\n\u001b[1;32m   1770\u001b[0m         \u001b[0;31m# Call the func with framedata and args. If blitting is desired,\u001b[0m\u001b[0;34m\u001b[0m\u001b[0;34m\u001b[0m\u001b[0;34m\u001b[0m\u001b[0m\n\u001b[1;32m   1771\u001b[0m         \u001b[0;31m# func needs to return a sequence of any artists that were modified.\u001b[0m\u001b[0;34m\u001b[0m\u001b[0;34m\u001b[0m\u001b[0;34m\u001b[0m\u001b[0m\n\u001b[0;32m-> 1772\u001b[0;31m         \u001b[0mself\u001b[0m\u001b[0;34m.\u001b[0m\u001b[0m_drawn_artists\u001b[0m \u001b[0;34m=\u001b[0m \u001b[0mself\u001b[0m\u001b[0;34m.\u001b[0m\u001b[0m_func\u001b[0m\u001b[0;34m(\u001b[0m\u001b[0mframedata\u001b[0m\u001b[0;34m,\u001b[0m \u001b[0;34m*\u001b[0m\u001b[0mself\u001b[0m\u001b[0;34m.\u001b[0m\u001b[0m_args\u001b[0m\u001b[0;34m)\u001b[0m\u001b[0;34m\u001b[0m\u001b[0;34m\u001b[0m\u001b[0m\n\u001b[0m\u001b[1;32m   1773\u001b[0m         \u001b[0;32mif\u001b[0m \u001b[0mself\u001b[0m\u001b[0;34m.\u001b[0m\u001b[0m_blit\u001b[0m\u001b[0;34m:\u001b[0m\u001b[0;34m\u001b[0m\u001b[0;34m\u001b[0m\u001b[0m\n\u001b[1;32m   1774\u001b[0m             \u001b[0;32mif\u001b[0m \u001b[0mself\u001b[0m\u001b[0;34m.\u001b[0m\u001b[0m_drawn_artists\u001b[0m \u001b[0;32mis\u001b[0m \u001b[0;32mNone\u001b[0m\u001b[0;34m:\u001b[0m\u001b[0;34m\u001b[0m\u001b[0;34m\u001b[0m\u001b[0m\n",
      "\u001b[0;32m<ipython-input-22-9f45fde3f980>\u001b[0m in \u001b[0;36mupdate\u001b[0;34m(i)\u001b[0m\n\u001b[1;32m     97\u001b[0m \u001b[0;34m\u001b[0m\u001b[0m\n\u001b[1;32m     98\u001b[0m     plt.savefig(\n\u001b[0;32m---> 99\u001b[0;31m         \u001b[0mdirectory\u001b[0m \u001b[0;34m+\u001b[0m \u001b[0;34m'/'\u001b[0m \u001b[0;34m+\u001b[0m \u001b[0mstr\u001b[0m\u001b[0;34m(\u001b[0m\u001b[0mint\u001b[0m\u001b[0;34m(\u001b[0m\u001b[0mproj_tran_mean\u001b[0m\u001b[0;34m.\u001b[0m\u001b[0mlevel\u001b[0m\u001b[0;34m.\u001b[0m\u001b[0mvalues\u001b[0m\u001b[0;34m[\u001b[0m\u001b[0mi\u001b[0m\u001b[0;34m]\u001b[0m\u001b[0;34m)\u001b[0m\u001b[0;34m)\u001b[0m \u001b[0;34m+\u001b[0m \u001b[0;34m'.png'\u001b[0m\u001b[0;34m\u001b[0m\u001b[0;34m\u001b[0m\u001b[0m\n\u001b[0m\u001b[1;32m    100\u001b[0m     )\n\u001b[1;32m    101\u001b[0m \u001b[0;34m\u001b[0m\u001b[0m\n",
      "\u001b[0;32m/g/data3/hh5/public/apps/miniconda3/envs/analysis3-19.04/lib/python3.6/site-packages/matplotlib/pyplot.py\u001b[0m in \u001b[0;36msavefig\u001b[0;34m(*args, **kwargs)\u001b[0m\n\u001b[1;32m    693\u001b[0m \u001b[0;32mdef\u001b[0m \u001b[0msavefig\u001b[0m\u001b[0;34m(\u001b[0m\u001b[0;34m*\u001b[0m\u001b[0margs\u001b[0m\u001b[0;34m,\u001b[0m \u001b[0;34m**\u001b[0m\u001b[0mkwargs\u001b[0m\u001b[0;34m)\u001b[0m\u001b[0;34m:\u001b[0m\u001b[0;34m\u001b[0m\u001b[0;34m\u001b[0m\u001b[0m\n\u001b[1;32m    694\u001b[0m     \u001b[0mfig\u001b[0m \u001b[0;34m=\u001b[0m \u001b[0mgcf\u001b[0m\u001b[0;34m(\u001b[0m\u001b[0;34m)\u001b[0m\u001b[0;34m\u001b[0m\u001b[0;34m\u001b[0m\u001b[0m\n\u001b[0;32m--> 695\u001b[0;31m     \u001b[0mres\u001b[0m \u001b[0;34m=\u001b[0m \u001b[0mfig\u001b[0m\u001b[0;34m.\u001b[0m\u001b[0msavefig\u001b[0m\u001b[0;34m(\u001b[0m\u001b[0;34m*\u001b[0m\u001b[0margs\u001b[0m\u001b[0;34m,\u001b[0m \u001b[0;34m**\u001b[0m\u001b[0mkwargs\u001b[0m\u001b[0;34m)\u001b[0m\u001b[0;34m\u001b[0m\u001b[0;34m\u001b[0m\u001b[0m\n\u001b[0m\u001b[1;32m    696\u001b[0m     \u001b[0mfig\u001b[0m\u001b[0;34m.\u001b[0m\u001b[0mcanvas\u001b[0m\u001b[0;34m.\u001b[0m\u001b[0mdraw_idle\u001b[0m\u001b[0;34m(\u001b[0m\u001b[0;34m)\u001b[0m   \u001b[0;31m# need this if 'transparent=True' to reset colors\u001b[0m\u001b[0;34m\u001b[0m\u001b[0;34m\u001b[0m\u001b[0m\n\u001b[1;32m    697\u001b[0m     \u001b[0;32mreturn\u001b[0m \u001b[0mres\u001b[0m\u001b[0;34m\u001b[0m\u001b[0;34m\u001b[0m\u001b[0m\n",
      "\u001b[0;32m/g/data3/hh5/public/apps/miniconda3/envs/analysis3-19.04/lib/python3.6/site-packages/matplotlib/figure.py\u001b[0m in \u001b[0;36msavefig\u001b[0;34m(self, fname, **kwargs)\u001b[0m\n\u001b[1;32m   2060\u001b[0m             \u001b[0mself\u001b[0m\u001b[0;34m.\u001b[0m\u001b[0mset_frameon\u001b[0m\u001b[0;34m(\u001b[0m\u001b[0mframeon\u001b[0m\u001b[0;34m)\u001b[0m\u001b[0;34m\u001b[0m\u001b[0;34m\u001b[0m\u001b[0m\n\u001b[1;32m   2061\u001b[0m \u001b[0;34m\u001b[0m\u001b[0m\n\u001b[0;32m-> 2062\u001b[0;31m         \u001b[0mself\u001b[0m\u001b[0;34m.\u001b[0m\u001b[0mcanvas\u001b[0m\u001b[0;34m.\u001b[0m\u001b[0mprint_figure\u001b[0m\u001b[0;34m(\u001b[0m\u001b[0mfname\u001b[0m\u001b[0;34m,\u001b[0m \u001b[0;34m**\u001b[0m\u001b[0mkwargs\u001b[0m\u001b[0;34m)\u001b[0m\u001b[0;34m\u001b[0m\u001b[0;34m\u001b[0m\u001b[0m\n\u001b[0m\u001b[1;32m   2063\u001b[0m \u001b[0;34m\u001b[0m\u001b[0m\n\u001b[1;32m   2064\u001b[0m         \u001b[0;32mif\u001b[0m \u001b[0mframeon\u001b[0m\u001b[0;34m:\u001b[0m\u001b[0;34m\u001b[0m\u001b[0;34m\u001b[0m\u001b[0m\n",
      "\u001b[0;32m/g/data3/hh5/public/apps/miniconda3/envs/analysis3-19.04/lib/python3.6/site-packages/matplotlib/backend_bases.py\u001b[0m in \u001b[0;36mprint_figure\u001b[0;34m(self, filename, dpi, facecolor, edgecolor, orientation, format, **kwargs)\u001b[0m\n\u001b[1;32m   2261\u001b[0m                 \u001b[0morientation\u001b[0m\u001b[0;34m=\u001b[0m\u001b[0morientation\u001b[0m\u001b[0;34m,\u001b[0m\u001b[0;34m\u001b[0m\u001b[0;34m\u001b[0m\u001b[0m\n\u001b[1;32m   2262\u001b[0m                 \u001b[0mbbox_inches_restore\u001b[0m\u001b[0;34m=\u001b[0m\u001b[0m_bbox_inches_restore\u001b[0m\u001b[0;34m,\u001b[0m\u001b[0;34m\u001b[0m\u001b[0;34m\u001b[0m\u001b[0m\n\u001b[0;32m-> 2263\u001b[0;31m                 **kwargs)\n\u001b[0m\u001b[1;32m   2264\u001b[0m         \u001b[0;32mfinally\u001b[0m\u001b[0;34m:\u001b[0m\u001b[0;34m\u001b[0m\u001b[0;34m\u001b[0m\u001b[0m\n\u001b[1;32m   2265\u001b[0m             \u001b[0;32mif\u001b[0m \u001b[0mbbox_inches\u001b[0m \u001b[0;32mand\u001b[0m \u001b[0mrestore_bbox\u001b[0m\u001b[0;34m:\u001b[0m\u001b[0;34m\u001b[0m\u001b[0;34m\u001b[0m\u001b[0m\n",
      "\u001b[0;32m/g/data3/hh5/public/apps/miniconda3/envs/analysis3-19.04/lib/python3.6/site-packages/matplotlib/backends/backend_agg.py\u001b[0m in \u001b[0;36mprint_png\u001b[0;34m(self, filename_or_obj, *args, **kwargs)\u001b[0m\n\u001b[1;32m    530\u001b[0m             \u001b[0;32mwith\u001b[0m \u001b[0mcbook\u001b[0m\u001b[0;34m.\u001b[0m\u001b[0mopen_file_cm\u001b[0m\u001b[0;34m(\u001b[0m\u001b[0mfilename_or_obj\u001b[0m\u001b[0;34m,\u001b[0m \u001b[0;34m\"wb\"\u001b[0m\u001b[0;34m)\u001b[0m \u001b[0;32mas\u001b[0m \u001b[0mfh\u001b[0m\u001b[0;34m:\u001b[0m\u001b[0;34m\u001b[0m\u001b[0;34m\u001b[0m\u001b[0m\n\u001b[1;32m    531\u001b[0m                 _png.write_png(renderer._renderer, fh,\n\u001b[0;32m--> 532\u001b[0;31m                                self.figure.dpi, metadata=metadata)\n\u001b[0m\u001b[1;32m    533\u001b[0m         \u001b[0;32mfinally\u001b[0m\u001b[0;34m:\u001b[0m\u001b[0;34m\u001b[0m\u001b[0;34m\u001b[0m\u001b[0m\n\u001b[1;32m    534\u001b[0m             \u001b[0mrenderer\u001b[0m\u001b[0;34m.\u001b[0m\u001b[0mdpi\u001b[0m \u001b[0;34m=\u001b[0m \u001b[0moriginal_dpi\u001b[0m\u001b[0;34m\u001b[0m\u001b[0;34m\u001b[0m\u001b[0m\n",
      "\u001b[0;31mKeyboardInterrupt\u001b[0m: "
     ]
    }
   ],
   "source": [
    "fig, ax = plt.subplots(figsize=[4.5,6])\n",
    "\n",
    "# Initialise fonts\n",
    "rcParams.update({'font.family': 'serif'})\n",
    "rcParams.update({'font.serif': 'Liberation Serif'})\n",
    "rcParams.update({'mathtext.fontset' : 'dejavuserif'}) \n",
    "rcParams.update({'font.size': 12})\n",
    "\n",
    "LST_hov = (np.arange(-24,48) + (lon_mean / 360) * 24)\n",
    "hov_shading = np.concatenate([proj_tran_mean.wind_proj.values[:,0,:]]*3, axis=0)\n",
    "hov_contours = np.concatenate([PRCP_tran_mean.RAINNC.values]*3, axis=0) * 1000\n",
    "\n",
    "LST_hov = LST_hov[15:48+15]\n",
    "hov_shading = hov_shading[15:48+15,:]\n",
    "hov_contours = hov_contours[15:48+15,:]\n",
    "\n",
    "plt.plot([0, 0], [LST_hov[0], LST_hov[-1]], '--', color='grey')\n",
    "\n",
    "plt.title(\n",
    "    'Velocity Anomaly [m/s] \\n' + '{:.3f} km'.format(proj_tran_mean.level.values[0]/1000)\n",
    ")\n",
    "plt.xlabel('Distance [m]')\n",
    "plt.ylabel('Time [h LST]')\n",
    "\n",
    "speed_max=np.ceil(np.amax(np.abs(proj_tran_mean.wind_proj.values[:]))*4)/4\n",
    "levels=np.arange(-speed_max, speed_max+0.25, 0.25)\n",
    "\n",
    "contour_w = ax.contourf(\n",
    "    proj_tran_mean.transect_axis.values, LST_hov, hov_shading,\n",
    "    cmap='RdBu_r', levels = levels,\n",
    ")\n",
    "\n",
    "contour_prcp = ax.contour(\n",
    "    PRCP_tran_mean.transect_axis.values,\n",
    "    LST_hov,\n",
    "    hov_contours,\n",
    "    levels = np.array([2**-2, 2**-1]),\n",
    "    colors = ['black', 'black'],\n",
    "    linestyles = ['dashed', 'solid'],\n",
    "    linewidths = 0.75,\n",
    ")\n",
    "\n",
    "contour_prcp.collections[0].set_dashes([(0, (5.0, 2.0))])\n",
    "\n",
    "labels = ['$2^{-2}$ mm/h', '$2^{-1}$ mm/h']\n",
    "for i in range(len(labels)):\n",
    "    contour_prcp.collections[i].set_label(labels[i])\n",
    "plt.legend(loc='upper right')\n",
    "\n",
    "plt.yticks(np.arange(0, 48, step=6))\n",
    "\n",
    "cbar_w=plt.colorbar(contour_w, orientation='horizontal')\n",
    "cbar_w.set_label('Velocity Anomaly [m/s]')\n",
    "\n",
    "dt=str(datetime.datetime.now())[0:-7]\n",
    "dt=dt.replace(\" \", \"_\")\n",
    "dt=dt.replace(\":\", \"_\")\n",
    "dt=dt.replace(\"-\", \"\")         \n",
    "\n",
    "directory = '/g/data/w40/esh563/goulburn_NT/hovmoller_' + dt\n",
    "\n",
    "os.mkdir(directory)\n",
    "\n",
    "def update(i):\n",
    "    # Update the line and the axes (with a new xlabel). Return a tuple of\n",
    "    # \"artists\" that have to be redrawn for this frame.\n",
    "    ax.collections = []\n",
    "    \n",
    "    print('Plotting frame ' + str(i) + '.', end='\\r')\n",
    "    \n",
    "    hov_shading = np.concatenate([proj_tran_mean.wind_proj.values[:,i,:]]*3, axis=0)\n",
    "    hov_shading = hov_shading[15:48+15,:]\n",
    "\n",
    "    contour_w = ax.contourf(\n",
    "        proj_tran_mean.transect_axis.values, LST_hov, hov_shading,\n",
    "        cmap='RdBu_r', levels = levels\n",
    "    )\n",
    "    \n",
    "    contour_prcp = ax.contour(\n",
    "        PRCP_tran_mean.transect_axis.values,\n",
    "        LST_hov,\n",
    "        hov_contours,\n",
    "        levels = np.array([2**-2, 2**-1]),\n",
    "        colors = ['black', 'black'],\n",
    "        linestyles = ['dashed', 'solid'],\n",
    "        linewidths = 0.75,\n",
    "    )\n",
    "    contour_prcp.collections[0].set_dashes([(0, (5.0, 2.0))])\n",
    "    \n",
    "    plt.yticks(np.arange(0, 48, step=6))\n",
    "                            \n",
    "    plt.plot([0, 0], [LST_hov[0], LST_hov[-1]], '--', color='grey')\n",
    "    \n",
    "    plt.title(\n",
    "        'Velocity Anomaly [m/s] \\n' + '{:.3f} km'.format(proj_tran_mean.level.values[i]/1000)\n",
    "    )\n",
    "        \n",
    "    plt.savefig(\n",
    "        directory + '/' + str(int(proj_tran_mean.level.values[i])) + '.png'\n",
    "    )\n",
    "\n",
    "    return contour_w, ax\n",
    "\n",
    "anim = FuncAnimation(fig, update, frames=np.arange(0, proj_tran_mean.level.values.size), interval=200)\n",
    "anim.save(directory + '/hov.gif', dpi=80, writer='imagemagick')\n",
    "\n",
    "plt.close('all')"
   ]
  },
  {
   "cell_type": "code",
   "execution_count": null,
   "metadata": {},
   "outputs": [],
   "source": []
  }
 ],
 "metadata": {
  "kernelspec": {
   "display_name": "Python 3",
   "language": "python",
   "name": "python3"
  },
  "language_info": {
   "codemirror_mode": {
    "name": "ipython",
    "version": 3
   },
   "file_extension": ".py",
   "mimetype": "text/x-python",
   "name": "python",
   "nbconvert_exporter": "python",
   "pygments_lexer": "ipython3",
   "version": "3.6.7"
  },
  "toc": {
   "base_numbering": 1,
   "nav_menu": {},
   "number_sections": true,
   "sideBar": true,
   "skip_h1_title": false,
   "title_cell": "Table of Contents",
   "title_sidebar": "Contents",
   "toc_cell": false,
   "toc_position": {
    "height": "calc(100% - 180px)",
    "left": "10px",
    "top": "150px",
    "width": "384px"
   },
   "toc_section_display": true,
   "toc_window_display": true
  }
 },
 "nbformat": 4,
 "nbformat_minor": 1
}
