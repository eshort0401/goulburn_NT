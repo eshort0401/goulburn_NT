{
 "cells": [
  {
   "cell_type": "markdown",
   "metadata": {},
   "source": [
    "# Setup"
   ]
  },
  {
   "cell_type": "markdown",
   "metadata": {},
   "source": [
    "Setup by loading relevant modules."
   ]
  },
  {
   "cell_type": "code",
   "execution_count": 1,
   "metadata": {
    "ExecuteTime": {
     "end_time": "2019-06-04T10:51:10.708694Z",
     "start_time": "2019-06-04T10:51:07.519018Z"
    }
   },
   "outputs": [],
   "source": [
    "import xarray as xr\n",
    "import matplotlib.pyplot as plt\n",
    "from matplotlib import rcParams\n",
    "import matplotlib.ticker as mticker\n",
    "import numpy as np\n",
    "import pyproj as pp\n",
    "import scipy as sp\n",
    "import pdb\n",
    "import cartopy.crs as ccrs\n",
    "from cartopy.mpl.gridliner import LONGITUDE_FORMATTER, LATITUDE_FORMATTER\n",
    "import cartopy.feature as cfeature\n",
    "import datetime\n",
    "import os\n",
    "import transect_analysis as ta\n",
    "from matplotlib.animation import FuncAnimation\n",
    "%load_ext line_profiler"
   ]
  },
  {
   "cell_type": "markdown",
   "metadata": {},
   "source": [
    "Define transects."
   ]
  },
  {
   "cell_type": "code",
   "execution_count": 3,
   "metadata": {
    "ExecuteTime": {
     "end_time": "2019-06-04T10:53:51.502364Z",
     "start_time": "2019-06-04T10:53:51.491567Z"
    }
   },
   "outputs": [],
   "source": [
    "# Specify start and end coords on coast.\n",
    "# Choose order so that (transect_axis, coastline_axis) forms a right hand coordinate system\n",
    "lon0 = 134.5293 \n",
    "lat0 = -12.4715\n",
    "coast_lon1 = 133.3290\n",
    "coast_lat1 = -12.1468\n",
    "\n",
    "trans_lon0, trans_lat0, trans_lon1, trans_lat1, n_points, n_trans, coast_distances, tran_distances = ta.define_transects(\n",
    "    lon0, lat0, coast_lon1, coast_lat1, 453361.47128972\n",
    ")\n",
    "\n",
    "# Create basis vectors of new coordinate system\n",
    "b_lon = trans_lon1[0] - lon0\n",
    "b_lat = trans_lat1[0] - lat0"
   ]
  },
  {
   "cell_type": "markdown",
   "metadata": {},
   "source": [
    "Calculate landmask and topography heights along transect."
   ]
  },
  {
   "cell_type": "code",
   "execution_count": 6,
   "metadata": {
    "ExecuteTime": {
     "end_time": "2019-06-04T10:56:34.165771Z",
     "start_time": "2019-06-04T10:56:33.581248Z"
    }
   },
   "outputs": [],
   "source": [
    "static = xr.open_dataset('/g/data/w40/esh563/goulburn_NT/static.nc')\n",
    "static.attrs.clear()\n",
    "static_tran = ta.calc_transects(static, trans_lon0, trans_lat0, trans_lon1, trans_lat1, n_points, n_trans) \n",
    "static_tran = static_tran.assign_coords(coastal_axis = coast_distances)\\\n",
    "    .assign_coords(transect_axis = tran_distances)"
   ]
  },
  {
   "cell_type": "markdown",
   "metadata": {},
   "source": [
    "Plot map of transects."
   ]
  },
  {
   "cell_type": "code",
   "execution_count": 4,
   "metadata": {
    "ExecuteTime": {
     "end_time": "2019-06-04T10:54:16.771172Z",
     "start_time": "2019-06-04T10:54:00.326358Z"
    }
   },
   "outputs": [
    {
     "name": "stdout",
     "output_type": "stream",
     "text": [
      "Plotting frame 0.\n",
      "Plotting frame 0.\n",
      "Plotting frame 1.\n",
      "Plotting frame 2.\n",
      "Plotting frame 3.\n",
      "Plotting frame 4.\n",
      "Plotting frame 5.\n",
      "Plotting frame 6.\n",
      "Plotting frame 7.\n",
      "Plotting frame 8.\n",
      "Plotting frame 9.\n",
      "Plotting frame 10.\n",
      "Plotting frame 11.\n",
      "Plotting frame 12.\n",
      "Plotting frame 13.\n",
      "Plotting frame 14.\n",
      "Plotting frame 15.\n",
      "Plotting frame 16.\n",
      "Plotting frame 17.\n",
      "Plotting frame 18.\n",
      "Plotting frame 19.\n",
      "Plotting frame 20.\n",
      "Plotting frame 21.\n",
      "Plotting frame 22.\n",
      "Plotting frame 23.\n",
      "Plotting frame 24.\n",
      "Plotting frame 25.\n",
      "Plotting frame 26.\n",
      "Plotting frame 27.\n",
      "Plotting frame 28.\n",
      "Plotting frame 29.\n",
      "Plotting frame 30.\n",
      "Plotting frame 31.\n",
      "Plotting frame 32.\n",
      "Plotting frame 33.\n",
      "Plotting frame 34.\n",
      "Plotting frame 35.\n",
      "Plotting frame 36.\n",
      "Plotting frame 37.\n",
      "Plotting frame 38.\n",
      "Plotting frame 39.\n",
      "Plotting frame 40.\n",
      "Plotting frame 41.\n",
      "Plotting frame 42.\n",
      "Plotting frame 43.\n",
      "Plotting frame 44.\n",
      "Plotting frame 45.\n",
      "Plotting frame 46.\n",
      "Plotting frame 47.\n",
      "Plotting frame 48.\n",
      "Plotting frame 49.\n"
     ]
    }
   ],
   "source": [
    "plt.rc('text', usetex=False)\n",
    "plt.ioff()\n",
    "\n",
    "plt.close('all')\n",
    "\n",
    "fig = plt.figure(figsize=(3.5,4.5))\n",
    "\n",
    "# Initialise fonts\n",
    "rcParams['font.family'] = 'serif'\n",
    "rcParams.update({'font.serif': 'Liberation Serif'})\n",
    "rcParams.update({'font.size': 12})\n",
    "rcParams.update({'font.weight': 'normal'})\n",
    "\n",
    "U_mean = xr.open_dataset('/g/data/w40/esh563/goulburn_NT/20142015/U/U_goulburn_201412.nc').squeeze()\n",
    "V_mean = xr.open_dataset('/g/data/w40/esh563/goulburn_NT/20142015/V/V_goulburn_201412.nc').squeeze()\n",
    "\n",
    "z = np.loadtxt('average_model_levels.txt')[0:71]\n",
    "U_mean = U_mean.assign_coords(level = z)\n",
    "V_mean = V_mean.assign_coords(level = z)\n",
    "\n",
    "speed = np.sqrt(U_mean.U ** 2 + V_mean.V ** 2)\n",
    "\n",
    "i = 0\n",
    "\n",
    "ax = fig.add_subplot(1, 1, 1, projection=ccrs.PlateCarree())\n",
    "ax.coastlines(resolution='50m', zorder=0)\n",
    "\n",
    "arrow_step = 0.5\n",
    "\n",
    "U_quiver = U_mean\\\n",
    "    .interp(longitude = np.arange(133 + arrow_step/2, 136 + arrow_step/2, arrow_step))\\\n",
    "    .interp(latitude = np.arange(-12.5 + arrow_step/2, -8 + arrow_step/2, arrow_step))\n",
    "V_quiver = V_mean\\\n",
    "    .interp(longitude = np.arange(133 + arrow_step/2, 136 + arrow_step/2, arrow_step))\\\n",
    "    .interp(latitude = np.arange(-12.5 + arrow_step/2, -8 + arrow_step/2, arrow_step))\n",
    "\n",
    "# U_mean.U.values.transpose().shape\n",
    "\n",
    "speed_max = np.ceil(np.amax(speed.isel(level = np.arange(0,50)).values)*2)/2\n",
    "\n",
    "levels = np.arange(0, speed_max+.5, 0.5)\n",
    "\n",
    "plt.contourf(\n",
    "    speed.longitude, speed.latitude, speed.isel(level = i), levels=levels,\n",
    "    vmin=0, vmax=speed_max, cmap='Reds', transform=ccrs.PlateCarree()\n",
    ")\n",
    "cbar_w = plt.colorbar()\n",
    "cbar_w.set_label('Mean Wind Speed [m/s]')\n",
    "\n",
    "plt.quiver(\n",
    "    U_quiver.longitude, \n",
    "    U_quiver.latitude, \n",
    "    U_quiver.U.isel(level = i), V_quiver.V.isel(level = i), \n",
    "    units='xy', angles='xy', transform=ccrs.PlateCarree(),\n",
    "    scale=speed_max/arrow_step\n",
    ")\n",
    "\n",
    "ax.set_extent(\n",
    "    [133.0, 136.0, -12.5, -8], \n",
    "    crs=ccrs.PlateCarree()\n",
    ")\n",
    "\n",
    "grid = ax.gridlines(\n",
    "    crs=ccrs.PlateCarree(), draw_labels=True,\n",
    "    linewidth=1, color='gray', alpha=0.4, linestyle='--',\n",
    ")\n",
    "grid.xlabels_top = False\n",
    "grid.ylabels_right = False\n",
    "\n",
    "grid.xlocator = mticker.FixedLocator(\n",
    "    np.arange(133, 136, 1)\n",
    ")\n",
    "grid.ylocator = mticker.FixedLocator(\n",
    "    np.arange(-12, -8, 1)\n",
    ")\n",
    "\n",
    "grid.xformatter = LONGITUDE_FORMATTER\n",
    "grid.yformatter = LATITUDE_FORMATTER\n",
    "\n",
    "for k in np.arange(0,np.size(trans_lon0),3):\n",
    "    ax.plot(\n",
    "            [trans_lon0[k], trans_lon1[k]], [trans_lat0[k], trans_lat1[k]],\n",
    "            transform=ccrs.PlateCarree(),\n",
    "            color='black', linewidth=.75\n",
    "    )\n",
    "    \n",
    "ax.coastlines(resolution='50m')\n",
    "\n",
    "plt.title('Mean Wind December 2012 [m/s] \\n' + '{:.3f} km'.format(speed.level[i].values/1000))\n",
    "plt.xlabel('Longitude')\n",
    "plt.ylabel('Latitude')\n",
    "\n",
    "dt=str(datetime.datetime.now())[0:-7]\n",
    "dt=dt.replace(\" \", \"_\")\n",
    "dt=dt.replace(\":\", \"_\")\n",
    "dt=dt.replace(\"-\", \"\")         \n",
    "\n",
    "directory = '/g/data/w40/esh563/goulburn_NT/' + dt\n",
    "\n",
    "os.mkdir(directory)\n",
    "\n",
    "def update(i):\n",
    "    # Update the line and the axes (with a new xlabel). Return a tuple of\n",
    "    # \"artists\" that have to be redrawn for this frame.\n",
    "    ax.collections = []\n",
    "    \n",
    "    print('Plotting frame ' + str(i) + '.')\n",
    "\n",
    "    contour_w = plt.contourf(\n",
    "        speed.longitude, speed.latitude, speed.isel(level = i), levels=levels,\n",
    "        vmin=0, vmax=speed_max, cmap='Reds', transform=ccrs.PlateCarree()\n",
    "    )\n",
    "\n",
    "    plt.quiver(\n",
    "        U_quiver.longitude, \n",
    "        U_quiver.latitude, \n",
    "        U_quiver.U.isel(level = i), V_quiver.V.isel(level = i), \n",
    "        units='xy', angles='xy', transform=ccrs.PlateCarree(),\n",
    "        scale=speed_max/arrow_step\n",
    "    )\n",
    "\n",
    "    plt.title('Mean Wind December 2012 [m/s] \\n' + '{:.3f} km'.format(speed.level[i].values/1000))\n",
    "        \n",
    "    plt.savefig(\n",
    "        directory + '/' + str(int(speed.level.values[i])) + '.png'\n",
    "    )\n",
    "\n",
    "    return contour_w, ax\n",
    "\n",
    "anim = FuncAnimation(fig, update, frames=np.arange(0, 50),interval=200)\n",
    "anim.save(directory + '/mean_wind.gif', dpi=80, writer='imagemagick')\n",
    "\n",
    "plt.close('all')\n",
    "\n",
    "plt.savefig('/g/data/w40/esh563/goulburn_NT/transect_map.png')"
   ]
  },
  {
   "cell_type": "markdown",
   "metadata": {
    "ExecuteTime": {
     "end_time": "2019-05-31T23:41:44.517626Z",
     "start_time": "2019-05-31T23:41:44.510042Z"
    }
   },
   "source": [
    "Open horizontal wind transect file if it exists, otherwise calculate projections along transects."
   ]
  },
  {
   "cell_type": "code",
   "execution_count": 307,
   "metadata": {
    "ExecuteTime": {
     "end_time": "2019-06-04T05:36:49.741198Z",
     "start_time": "2019-06-04T05:36:34.779217Z"
    }
   },
   "outputs": [],
   "source": [
    "# Better method! \n",
    "# test = xr.open_mfdataset('/g/data/ua8/ARCCSS_Data/MCASClimate/v1-0/20142015/U/*.nc')"
   ]
  },
  {
   "cell_type": "code",
   "execution_count": 313,
   "metadata": {
    "ExecuteTime": {
     "end_time": "2019-06-04T05:39:07.963855Z",
     "start_time": "2019-06-04T05:39:07.950328Z"
    }
   },
   "outputs": [],
   "source": [
    "# Better method for subsetting!\n",
    "# U = test.U.sel(time=slice('20141201','20141231'), latitude=slice(-12,-8.5), longitude=slice(133,136))"
   ]
  },
  {
   "cell_type": "code",
   "execution_count": 321,
   "metadata": {
    "ExecuteTime": {
     "end_time": "2019-06-04T05:48:31.881135Z",
     "start_time": "2019-06-04T05:48:31.209130Z"
    }
   },
   "outputs": [
    {
     "data": {
      "text/plain": [
       "<matplotlib.collections.QuadMesh at 0x7f0251be9898>"
      ]
     },
     "execution_count": 321,
     "metadata": {},
     "output_type": "execute_result"
    },
    {
     "data": {
      "image/png": "[encoded data removed]",
      "text/plain": [
       "<Figure size 432x288 with 2 Axes>"
      ]
     },
     "metadata": {
      "needs_background": "light"
     },
     "output_type": "display_data"
    }
   ],
   "source": [
    "# Quick method for creating plots!\n",
    "# U.isel(time=0, level=0).plot()"
   ]
  },
  {
   "cell_type": "code",
   "execution_count": 557,
   "metadata": {
    "ExecuteTime": {
     "end_time": "2019-06-03T06:05:07.682329Z",
     "start_time": "2019-06-03T06:05:07.647591Z"
    }
   },
   "outputs": [],
   "source": [
    "try:\n",
    "    \n",
    "    proj_tran = xr.open_dataset('/g/data/w40/esh563/goulburn_NT/wind_proj_goulburn_201412.nc')\n",
    "\n",
    "except:\n",
    "\n",
    "    # Caclulate transects for first day of data\n",
    "    U_path = '/g/data/w40/esh563/goulburn_NT/20142015/U/U_goulburn_20141201.nc'\n",
    "    V_path = '/g/data/w40/esh563/goulburn_NT/20142015/V/V_goulburn_20141201.nc'\n",
    "\n",
    "    proj_i = (xr.open_dataset(U_path).U * b_lon + xr.open_dataset(V_path).V * b_lat) / np.sqrt(b_lon ** 2 + b_lat ** 2);\n",
    "    proj_i.attrs.clear()\n",
    "\n",
    "    proj_tran = calc_transects(proj_i, trans_lon0, trans_lat0, trans_lon1, trans_lat1, n_points, n_trans)\n",
    "\n",
    "    #Caclulate transects for remaining days, concatenating as we go.\n",
    "    for i in range(2,32):\n",
    "\n",
    "        U_path = '/g/data/w40/esh563/goulburn_NT/20142015/U/U_goulburn_201412' + str(i).zfill(2) + '.nc'\n",
    "        V_path = '/g/data/w40/esh563/goulburn_NT/20142015/V/V_goulburn_201412' + str(i).zfill(2) + '.nc'\n",
    "\n",
    "        proj_i = (xr.open_dataset(U_path).U * b_lon + xr.open_dataset(V_path).V * b_lat) / np.sqrt(b_lon ** 2 + b_lat ** 2);\n",
    "        proj_i.attrs.clear()\n",
    "\n",
    "        proj_tran_i = calc_transects(proj_i, trans_lon0, trans_lat0, trans_lon1, trans_lat1, n_points, n_trans)\n",
    "        proj_tran = xr.concat((proj_tran, proj_tran_i), dim = 'time')\n",
    "\n",
    "    z = np.loadtxt('average_model_levels.txt')[0:71]\n",
    "    proj_tran = proj_tran.assign_coords(level = z)\\\n",
    "        .assign_coords(coastal_axis = coast_distances)\\\n",
    "        .assign_coords(transect_axis = tran_distances)\\\n",
    "        .rename('wind_proj')\n",
    "\n",
    "    proj_tran.to_netcdf(path='/g/data/w40/esh563/goulburn_NT/wind_proj_goulburn_201412.nc', mode='w', format='NETCDF4')"
   ]
  },
  {
   "cell_type": "code",
   "execution_count": 558,
   "metadata": {
    "ExecuteTime": {
     "end_time": "2019-06-03T06:05:08.625464Z",
     "start_time": "2019-06-03T06:05:08.377694Z"
    }
   },
   "outputs": [],
   "source": [
    "try:\n",
    "    \n",
    "    W_tran = xr.open_dataset('/g/data/w40/esh563/goulburn_NT/W_goulburn_201412.nc')\n",
    "\n",
    "except:\n",
    "\n",
    "    # Caclulate transects for first day of data\n",
    "    W_path = '/g/data/w40/esh563/goulburn_NT/20142015/W/W_goulburn_20141201.nc'\n",
    "\n",
    "    W_i = xr.open_dataset(W_path).W\n",
    "    W_i.attrs.clear()\n",
    "\n",
    "    W_tran = calc_transects(W_i, trans_lon0, trans_lat0, trans_lon1, trans_lat1, n_points, n_trans)\n",
    "\n",
    "    #Caclulate transects for remaining days, concatenating as we go.\n",
    "    for i in range(2,32):\n",
    "\n",
    "        W_path = '/g/data/w40/esh563/goulburn_NT/20142015/W/W_goulburn_201412' + str(i).zfill(2) + '.nc'\n",
    "\n",
    "        W_i = xr.open_dataset(W_path).W\n",
    "        W_i.attrs.clear()\n",
    "\n",
    "        W_tran_i = calc_transects(W_i, trans_lon0, trans_lat0, trans_lon1, trans_lat1, n_points, n_trans)\n",
    "        W_tran = xr.concat((W_tran, W_tran_i), dim = 'time')\n",
    "\n",
    "    z = np.loadtxt('average_model_levels.txt')[0:71]\n",
    "    W_tran = W_tran.assign_coords(level = z)\\\n",
    "        .assign_coords(coastal_axis = coast_distances)\\\n",
    "        .assign_coords(transect_axis = tran_distances)\\\n",
    "        .rename('W')\n",
    "\n",
    "    W_tran.to_netcdf(path='/g/data/w40/esh563/goulburn_NT/W_goulburn_201412.nc', mode='w', format='NETCDF4')"
   ]
  },
  {
   "cell_type": "markdown",
   "metadata": {
    "ExecuteTime": {
     "end_time": "2019-05-31T23:41:44.517626Z",
     "start_time": "2019-05-31T23:41:44.510042Z"
    }
   },
   "source": [
    "As above but for T."
   ]
  },
  {
   "cell_type": "code",
   "execution_count": 559,
   "metadata": {
    "ExecuteTime": {
     "end_time": "2019-06-03T06:05:11.666422Z",
     "start_time": "2019-06-03T06:05:11.637291Z"
    }
   },
   "outputs": [],
   "source": [
    "try:\n",
    "    \n",
    "    T_tran = xr.open_dataset('/g/data/w40/esh563/goulburn_NT/theta_goulburn_201412.nc')\n",
    "\n",
    "except:\n",
    "\n",
    "    # Caclulate transects for first day of data\n",
    "    T_path = '/g/data/w40/esh563/goulburn_NT/20142015/T/theta_goulburn_20141201.nc'\n",
    "\n",
    "    T_i = xr.open_dataset(T_path).T\n",
    "    T_i.attrs.clear()\n",
    "\n",
    "    T_tran = calc_transects(T_i, trans_lon0, trans_lat0, trans_lon1, trans_lat1, n_points, n_trans)\n",
    "\n",
    "    #Caclulate transects for remaining days, concatenating as we go.\n",
    "    for i in range(2,32):\n",
    "\n",
    "        T_path = '/g/data/w40/esh563/goulburn_NT/20142015/T/theta_goulburn_201412' + str(i).zfill(2) + '.nc'\n",
    "\n",
    "        T_i = xr.open_dataset(T_path).T\n",
    "        T_i.attrs.clear()\n",
    "\n",
    "        T_tran_i = calc_transects(T_i, trans_lon0, trans_lat0, trans_lon1, trans_lat1, n_points, n_trans)\n",
    "        T_tran = xr.concat((T_tran, T_tran_i), dim = 'time')\n",
    "\n",
    "    z = np.loadtxt('average_model_levels.txt')[0:71]\n",
    "    T_tran = T_tran.assign_coords(level = z)\\\n",
    "        .assign_coords(coastal_axis = coast_distances)\\\n",
    "        .assign_coords(transect_axis = tran_distances)\\\n",
    "        .rename('T')\n",
    "\n",
    "    T_tran.to_netcdf(path='/g/data/w40/esh563/goulburn_NT/theta_goulburn_201412.nc', mode='w', format='NETCDF4')"
   ]
  },
  {
   "cell_type": "markdown",
   "metadata": {},
   "source": [
    "# Create Composites"
   ]
  },
  {
   "cell_type": "code",
   "execution_count": 6,
   "metadata": {
    "ExecuteTime": {
     "end_time": "2019-06-03T23:43:02.150303Z",
     "start_time": "2019-06-03T23:43:01.972890Z"
    }
   },
   "outputs": [],
   "source": [
    "try:\n",
    "    \n",
    "    proj_tran_h = xr.open_dataset('/g/data/w40/esh563/goulburn_NT/wind_proj_c_goulburn_201412.nc')\n",
    "    W_tran_h = xr.open_dataset('/g/data/w40/esh563/goulburn_NT/W_c_goulburn_201412.nc')\n",
    "    T_tran_h = xr.open_dataset('/g/data/w40/esh563/goulburn_NT/T_c_goulburn_201412.nc')\n",
    "\n",
    "except:\n",
    "    \n",
    "    # Sutract 24 hour running mean\n",
    "    proj_tran = (proj_tran - proj_tran.rolling(time=24, center=True).mean()).dropna('time')\n",
    "    W_tran = (W_tran - W_tran.rolling(time=24, center=True).mean()).dropna('time')\n",
    "    T_tran = (T_tran - T_tran.rolling(time=24, center=True).mean()).dropna('time')\n",
    "\n",
    "    # Average over coastal_axis, i.e. over multiple transects\n",
    "    proj_tran = proj_tran.mean(dim='coastal_axis')\n",
    "    W_tran = W_tran.mean(dim='coastal_axis')\n",
    "    T_tran = T_tran.mean(dim='coastal_axis')\n",
    "\n",
    "    # Create a composite\n",
    "    proj_tran_list = [proj_tran.where(proj_tran['wind_proj']['time.hour'] == 0).mean('time', skipna=True)] * 24\n",
    "    W_tran_list = [W_tran.where(W_tran['W']['time.hour'] == 0).mean('time', skipna=True)] * 24\n",
    "    T_tran_list = [T_tran.where(T_tran['T']['time.hour'] == 0).mean('time', skipna=True)] * 24\n",
    "\n",
    "    for i in range(1,24):\n",
    "        proj_tran_list[i] = proj_tran.where(proj_tran['wind_proj']['time.hour'] == i).mean('time', skipna=True)\n",
    "        W_tran_list[i] = W_tran.where(W_tran['W']['time.hour'] == i).mean('time', skipna=True)\n",
    "        T_tran_list[i] = T_tran.where(T_tran['T']['time.hour'] == i).mean('time', skipna=True)\n",
    "\n",
    "    proj_tran_h = xr.concat(proj_tran_list, dim = 'hour_UTC')\n",
    "    proj_tran_h = proj_tran_h.assign_coords(hour_UTC = np.arange(0,24))    \n",
    "\n",
    "    W_tran_h = xr.concat(W_tran_list, dim = 'hour_UTC')\n",
    "    W_tran_h = W_tran_h.assign_coords(hour_UTC = np.arange(0,24)) \n",
    "\n",
    "    T_tran_h = xr.concat(T_tran_list, dim = 'hour_UTC')\n",
    "    T_tran_h = T_tran_h.assign_coords(hour_UTC = np.arange(0,24))\n",
    "\n",
    "    proj_tran_h.to_netcdf(\n",
    "        path='/g/data/w40/esh563/goulburn_NT/wind_proj_c_goulburn_201412.nc', mode='w', format='NETCDF4'\n",
    "    )\n",
    "    W_tran_h.to_netcdf(\n",
    "        path='/g/data/w40/esh563/goulburn_NT/W_c_goulburn_201412.nc', mode='w', format='NETCDF4'\n",
    "    )\n",
    "    T_tran_h.to_netcdf(\n",
    "        path='/g/data/w40/esh563/goulburn_NT/T_c_goulburn_201412.nc', mode='w', format='NETCDF4'\n",
    "    )"
   ]
  },
  {
   "cell_type": "code",
   "execution_count": 7,
   "metadata": {
    "ExecuteTime": {
     "end_time": "2019-06-03T23:43:05.821099Z",
     "start_time": "2019-06-03T23:43:05.796929Z"
    }
   },
   "outputs": [],
   "source": [
    "# Shift horizontal axis from start of transect to start of coastline. \n",
    "proj_tran_h['transect_axis'] = proj_tran_h['transect_axis'] - proj_tran_h['transect_axis'][10]\n",
    "W_tran_h['transect_axis'] = W_tran_h['transect_axis'] - W_tran_h['transect_axis'][10]\n",
    "T_tran_h['transect_axis'] = T_tran_h['transect_axis'] - T_tran_h['transect_axis'][10]"
   ]
  },
  {
   "cell_type": "markdown",
   "metadata": {},
   "source": [
    "# Plot"
   ]
  },
  {
   "cell_type": "code",
   "execution_count": 28,
   "metadata": {
    "ExecuteTime": {
     "end_time": "2019-06-03T23:55:25.089151Z",
     "start_time": "2019-06-03T23:55:16.948375Z"
    }
   },
   "outputs": [
    {
     "name": "stdout",
     "output_type": "stream",
     "text": [
      "Animating velocity.\n",
      "Plotting frame 0.\n",
      "Plotting frame 0.\n",
      "Plotting frame 1.\n",
      "Plotting frame 2.\n",
      "Plotting frame 3.\n",
      "Plotting frame 4.\n",
      "Plotting frame 5.\n",
      "Plotting frame 6.\n",
      "Plotting frame 7.\n",
      "Plotting frame 8.\n",
      "Plotting frame 9.\n",
      "Plotting frame 10.\n",
      "Plotting frame 11.\n",
      "Plotting frame 12.\n",
      "Plotting frame 13.\n",
      "Plotting frame 14.\n",
      "Plotting frame 15.\n",
      "Plotting frame 16.\n",
      "Plotting frame 17.\n",
      "Plotting frame 18.\n",
      "Plotting frame 19.\n",
      "Plotting frame 20.\n",
      "Plotting frame 21.\n",
      "Plotting frame 22.\n",
      "Plotting frame 23.\n"
     ]
    }
   ],
   "source": [
    "plt.ioff()\n",
    "\n",
    "print('Animating velocity.')\n",
    "\n",
    "LST = (np.arange(0,24) + 9) % 24\n",
    "\n",
    "# Initialise fonts\n",
    "rcParams['font.family'] = 'serif'\n",
    "rcParams.update({'font.serif': 'Liberation Serif'})\n",
    "rcParams.update({'font.size': 12})\n",
    "rcParams.update({'font.weight': 'normal'})\n",
    "\n",
    "fig, ax = plt.subplots()\n",
    "\n",
    "plt.plot(\n",
    "    [0, 0], [proj_tran_h.level[0], proj_tran_h.level[57]],\n",
    "    '--', color='grey')\n",
    "\n",
    "speed_max=np.ceil(np.amax(np.abs(proj_tran_h.wind_proj[:,0:58,:].values))/2)*2\n",
    "levels=np.arange(-speed_max, speed_max+1)\n",
    "\n",
    "contour_plot = ax.contourf(\n",
    "    proj_tran_h.transect_axis, proj_tran_h.level[0:58], \n",
    "    proj_tran_h.wind_proj.values[0,0:58,:],\n",
    "    levels, vmin=-speed_max, vmax=speed_max, cmap='RdBu_r')\n",
    "\n",
    "heights = np.arange(proj_tran_h.level[0],proj_tran_h.level[58],500)\n",
    "distances = np.arange(proj_tran_h.transect_axis[0],proj_tran_h.transect_axis[-1], 25000)\n",
    "\n",
    "cbar=plt.colorbar(contour_plot)\n",
    "cbar.set_label('Perturbation Velocity [m/s]')\n",
    "\n",
    "proj_tran_quiver = proj_tran_h.interp(transect_axis = distances).interp(level = heights)\n",
    "W_tran_quiver = W_tran_h.interp(transect_axis = distances).interp(level = heights)\n",
    " \n",
    "ax.quiver(\n",
    "    proj_tran_quiver.transect_axis, \n",
    "    proj_tran_quiver.level, \n",
    "    proj_tran_quiver.wind_proj.values[0,:,:], W_tran_quiver.W.values[0,:,:], \n",
    "    units='xy', angles='xy', scale=0.00015)\n",
    "\n",
    "plt.title('Perturbation Velocity [m/s]')\n",
    "plt.xlabel('Distance [m]')\n",
    "plt.ylabel('Height [m]')\n",
    "\n",
    "dt=str(datetime.datetime.now())[0:-7]\n",
    "dt=dt.replace(\" \", \"_\")\n",
    "dt=dt.replace(\":\", \"_\")\n",
    "dt=dt.replace(\"-\", \"\")         \n",
    "\n",
    "directory = '/g/data/w40/esh563/goulburn_NT/' + dt\n",
    "\n",
    "os.mkdir(directory)\n",
    "\n",
    "def update(i):\n",
    "    # Update the line and the axes (with a new xlabel). Return a tuple of\n",
    "    # \"artists\" that have to be redrawn for this frame.\n",
    "    ax.collections = []\n",
    "    \n",
    "    print('Plotting frame ' + str(i) + '.')\n",
    "\n",
    "    contourPlot=ax.contourf(\n",
    "        proj_tran_h.transect_axis, proj_tran_h.level[0:58], \n",
    "        proj_tran_h.wind_proj.values[i,0:58,:],\n",
    "        levels, vmin=-speed_max, vmax=speed_max, cmap='RdBu_r'\n",
    "    )\n",
    "\n",
    "    ax.quiver(\n",
    "        proj_tran_quiver.transect_axis, \n",
    "        proj_tran_quiver.level, \n",
    "        proj_tran_quiver.wind_proj.values[i,:,:], W_tran_quiver.W.values[i,:,:], \n",
    "        units='xy', angles='xy', scale=0.00015\n",
    "    )\n",
    "                            \n",
    "    ax.plot(\n",
    "        [0, 0], [proj_tran_h.level[0], proj_tran_h.level[57]],\n",
    "        '--', color='grey'\n",
    "    )\n",
    "    \n",
    "    plt.title('Perturbation Velocity [m/s] \\n' + str(LST[i]).zfill(2) + ':00 LST')\n",
    "        \n",
    "    plt.savefig(directory + '/' + str(LST[i]) + '.png')\n",
    "\n",
    "    return contourPlot, ax\n",
    "\n",
    "anim = FuncAnimation(fig, update, frames=np.arange(0, 24),interval=200)\n",
    "anim.save(directory + '/velocity.gif', dpi=80, writer='imagemagick')\n",
    "\n",
    "plt.close('all')"
   ]
  },
  {
   "cell_type": "code",
   "execution_count": 339,
   "metadata": {
    "ExecuteTime": {
     "end_time": "2019-06-04T06:02:34.067842Z",
     "start_time": "2019-06-04T06:02:04.056204Z"
    }
   },
   "outputs": [
    {
     "name": "stdout",
     "output_type": "stream",
     "text": [
      "Plotting frame 0.\n",
      "Plotting frame 0.\n",
      "Plotting frame 1.\n",
      "Plotting frame 2.\n",
      "Plotting frame 3.\n",
      "Plotting frame 4.\n",
      "Plotting frame 5.\n",
      "Plotting frame 6.\n",
      "Plotting frame 7.\n",
      "Plotting frame 8.\n",
      "Plotting frame 9.\n",
      "Plotting frame 10.\n",
      "Plotting frame 11.\n",
      "Plotting frame 12.\n",
      "Plotting frame 13.\n",
      "Plotting frame 14.\n",
      "Plotting frame 15.\n",
      "Plotting frame 16.\n",
      "Plotting frame 17.\n",
      "Plotting frame 18.\n",
      "Plotting frame 19.\n",
      "Plotting frame 20.\n",
      "Plotting frame 21.\n",
      "Plotting frame 22.\n",
      "Plotting frame 23.\n",
      "Plotting frame 24.\n",
      "Plotting frame 25.\n",
      "Plotting frame 26.\n",
      "Plotting frame 27.\n",
      "Plotting frame 28.\n",
      "Plotting frame 29.\n",
      "Plotting frame 30.\n",
      "Plotting frame 31.\n",
      "Plotting frame 32.\n",
      "Plotting frame 33.\n",
      "Plotting frame 34.\n",
      "Plotting frame 35.\n",
      "Plotting frame 36.\n",
      "Plotting frame 37.\n",
      "Plotting frame 38.\n",
      "Plotting frame 39.\n",
      "Plotting frame 40.\n",
      "Plotting frame 41.\n",
      "Plotting frame 42.\n",
      "Plotting frame 43.\n",
      "Plotting frame 44.\n",
      "Plotting frame 45.\n",
      "Plotting frame 46.\n",
      "Plotting frame 47.\n",
      "Plotting frame 48.\n",
      "Plotting frame 49.\n",
      "Plotting frame 50.\n",
      "Plotting frame 51.\n",
      "Plotting frame 52.\n",
      "Plotting frame 53.\n",
      "Plotting frame 54.\n",
      "Plotting frame 55.\n",
      "Plotting frame 56.\n",
      "Plotting frame 57.\n",
      "Plotting frame 58.\n",
      "Plotting frame 59.\n",
      "Plotting frame 60.\n",
      "Plotting frame 61.\n",
      "Plotting frame 62.\n",
      "Plotting frame 63.\n",
      "Plotting frame 64.\n",
      "Plotting frame 65.\n",
      "Plotting frame 66.\n",
      "Plotting frame 67.\n",
      "Plotting frame 68.\n",
      "Plotting frame 69.\n",
      "Plotting frame 70.\n"
     ]
    }
   ],
   "source": [
    "i = 0\n",
    "\n",
    "fig, ax = plt.subplots(figsize=[4,7], tight_layout=True)\n",
    "# Plot\n",
    "plt.rc('text', usetex=False)\n",
    "\n",
    "# Initialise fonts\n",
    "rcParams['font.family'] = 'serif'\n",
    "rcParams.update({'font.serif': 'Liberation Serif'})\n",
    "rcParams.update({'font.size': 12})\n",
    "rcParams.update({'font.weight': 'normal'})\n",
    "\n",
    "LST = np.arange(-24,48) + 9\n",
    "z = np.concatenate([np.squeeze(proj_tran_h.wind_proj.values[:,i,:])]*3, axis=0)\n",
    "\n",
    "LST = LST[15:48+15]\n",
    "z = z[15:48+15,:]\n",
    "\n",
    "plt.plot([0, 0], [0, 47], '--', color='grey')\n",
    "\n",
    "plt.title(\n",
    "    'Velocity Anomaly [m/s] \\n' + '{:.3f} km'.format(proj_tran_h.level.values[i]/1000)\n",
    ")\n",
    "plt.xlabel('Distance [m]')\n",
    "plt.ylabel('Time [h LST]')\n",
    "\n",
    "contour_w = ax.contourf(\n",
    "    proj_tran_h.transect_axis.values, LST, z,\n",
    "    cmap='RdBu_r', levels = np.arange(-4.5,5.0,0.5),\n",
    ")\n",
    "\n",
    "plt.yticks(np.arange(0, 48, step=6))\n",
    "\n",
    "cbar_w=plt.colorbar(contour_w, orientation='horizontal')\n",
    "cbar_w.set_label('Velocity Anomaly [m/s]')\n",
    "\n",
    "dt=str(datetime.datetime.now())[0:-7]\n",
    "dt=dt.replace(\" \", \"_\")\n",
    "dt=dt.replace(\":\", \"_\")\n",
    "dt=dt.replace(\"-\", \"\")         \n",
    "\n",
    "directory = '/g/data/w40/esh563/goulburn_NT/' + dt\n",
    "\n",
    "os.mkdir(directory)\n",
    "\n",
    "def update(i):\n",
    "    # Update the line and the axes (with a new xlabel). Return a tuple of\n",
    "    # \"artists\" that have to be redrawn for this frame.\n",
    "    ax.collections = []\n",
    "    \n",
    "    print('Plotting frame ' + str(i) + '.')\n",
    "    \n",
    "    z = np.concatenate([np.squeeze(proj_tran_h.wind_proj.values[:,i,:])]*3, axis=0)\n",
    "    z = z[15:48+15,:]\n",
    "\n",
    "    contour_w = ax.contourf(\n",
    "        proj_tran_h.transect_axis.values, LST, z,\n",
    "        cmap='RdBu_r', levels = np.arange(-4.5,5.0,0.5),\n",
    "    )\n",
    "                            \n",
    "    plt.plot([0, 0], [0, 47], '--', color='grey')\n",
    "    \n",
    "    plt.title(\n",
    "        'Velocity Anomaly [m/s] \\n' + '{:.3f} km'.format(proj_tran_h.level.values[i]/1000)\n",
    "    )\n",
    "        \n",
    "    plt.savefig(\n",
    "        directory + '/' + str(int(proj_tran_h.level.values[i])) + '.png'\n",
    "    )\n",
    "\n",
    "    return contour_w, ax\n",
    "\n",
    "anim = FuncAnimation(fig, update, frames=np.arange(0, proj_tran_h.level.size),interval=200)\n",
    "anim.save(directory + '/velocity_hov.gif', dpi=80, writer='imagemagick')\n",
    "\n",
    "plt.close('all')"
   ]
  }
 ],
 "metadata": {
  "kernelspec": {
   "display_name": "Python 3",
   "language": "python",
   "name": "python3"
  },
  "language_info": {
   "codemirror_mode": {
    "name": "ipython",
    "version": 3
   },
   "file_extension": ".py",
   "mimetype": "text/x-python",
   "name": "python",
   "nbconvert_exporter": "python",
   "pygments_lexer": "ipython3",
   "version": "3.6.7"
  },
  "toc": {
   "base_numbering": 1,
   "nav_menu": {},
   "number_sections": true,
   "sideBar": true,
   "skip_h1_title": false,
   "title_cell": "Table of Contents",
   "title_sidebar": "Contents",
   "toc_cell": false,
   "toc_position": {
    "height": "calc(100% - 180px)",
    "left": "10px",
    "top": "150px",
    "width": "384px"
   },
   "toc_section_display": true,
   "toc_window_display": true
  }
 },
 "nbformat": 4,
 "nbformat_minor": 1
}
