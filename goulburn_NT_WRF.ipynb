{
 "cells": [
  {
   "cell_type": "markdown",
   "metadata": {},
   "source": [
    "# Setup"
   ]
  },
  {
   "cell_type": "markdown",
   "metadata": {},
   "source": [
    "Setup by loading relevant modules and iPython extensions."
   ]
  },
  {
   "cell_type": "code",
   "execution_count": 1,
   "metadata": {
    "ExecuteTime": {
     "end_time": "2019-06-09T23:07:35.771841Z",
     "start_time": "2019-06-09T23:07:22.520444Z"
    }
   },
   "outputs": [],
   "source": [
    "# Core \n",
    "import datetime\n",
    "import os\n",
    "import glob\n",
    "\n",
    "# Analysis \n",
    "import xarray as xr\n",
    "import numpy as np\n",
    "import pyproj as pp\n",
    "import scipy as sp\n",
    "import transect_analysis as ta\n",
    "\n",
    "# Plotting \n",
    "import cartopy.crs as ccrs\n",
    "from cartopy.mpl.gridliner import LONGITUDE_FORMATTER, LATITUDE_FORMATTER\n",
    "import cartopy.feature as cfeature\n",
    "import matplotlib.pyplot as plt\n",
    "from matplotlib import rcParams\n",
    "import matplotlib.ticker as mticker\n",
    "from matplotlib.animation import FuncAnimation\n",
    "\n",
    "# Debugging \n",
    "import pdb\n",
    "%load_ext line_profiler"
   ]
  },
  {
   "cell_type": "markdown",
   "metadata": {},
   "source": [
    "Define transects."
   ]
  },
  {
   "cell_type": "code",
   "execution_count": 2,
   "metadata": {
    "ExecuteTime": {
     "end_time": "2019-06-09T23:07:37.215796Z",
     "start_time": "2019-06-09T23:07:35.784013Z"
    }
   },
   "outputs": [],
   "source": [
    "# Specify start and end coords on coast.\n",
    "# Choose order so that (transect_axis, coastline_axis) forms a right hand coordinate system\n",
    "lon0 = 134.5293 \n",
    "lat0 = -12.4715\n",
    "coast_lon1 = 133.3290\n",
    "coast_lat1 = -12.1468\n",
    "\n",
    "trans_lon0, trans_lat0, trans_lon1, trans_lat1, n_points, n_trans, coast_distances, tran_distances = ta.define_transects(\n",
    "    lon0, lat0, coast_lon1, coast_lat1, 453300\n",
    ")\n",
    "\n",
    "static_path = '/g/data/ua8/ARCCSS_Data/MCASClimate/v1-0/static/static.nc'\n",
    "static = xr.open_dataset(static_path).sel(latitude=slice(-12.75,-6), longitude=slice(130,139))\n",
    "static_tran = ta.calc_transects(static, trans_lon0, trans_lat0, trans_lon1, trans_lat1, n_points, n_trans) \n",
    "static_tran = static_tran.assign_coords(coastal_axis = coast_distances)\n",
    "static_tran = static_tran.assign_coords(transect_axis = tran_distances)\n",
    "\n",
    "# Calcualate distance where landmask drops below 0.5\n",
    "coast_i = np.where(static_tran.mean('coastal_axis').LANDMASK.values < 0.5)[0][0] - 1\n",
    "coast_location = tran_distances[coast_i]\n",
    "\n",
    "# Redefine tran_distances so that coastline occurs at 0.\n",
    "tran_distances = tran_distances - coast_location\n",
    "\n",
    "# Create basis vectors of new coordinate system\n",
    "b_lon = trans_lon1[0] - lon0\n",
    "b_lat = trans_lat1[0] - lat0"
   ]
  },
  {
   "cell_type": "markdown",
   "metadata": {},
   "source": [
    "Plot map of transects."
   ]
  },
  {
   "cell_type": "code",
   "execution_count": 92,
   "metadata": {
    "ExecuteTime": {
     "end_time": "2019-06-07T02:06:50.950054Z",
     "start_time": "2019-06-07T02:05:28.725219Z"
    }
   },
   "outputs": [],
   "source": [
    "# Load WRF December mean data\n",
    "WRF_mean = xr.open_mfdataset('/g/data/w40/esh563/goulburn_NT/*_December_mean.nc')\n",
    "WRF_mean = WRF_mean.assign_coords(level = np.loadtxt('average_model_levels.txt'))\n",
    "WRF_mean = WRF_mean.sel(level=slice(0, 15.5*10**3))\n",
    "\n",
    "# Calcualate speed\n",
    "speed = np.sqrt(WRF_mean.U ** 2 + WRF_mean.V ** 2)\n",
    "\n",
    "# Define maximum level to plot\n",
    "max_level = 8000\n",
    "\n",
    "# Initialise fonts\n",
    "rcParams.update({'font.serif': 'Liberation Serif'})\n",
    "rcParams.update({'font.size': 12})\n",
    "\n",
    "# Initialise figure\n",
    "plt.ioff()\n",
    "plt.close('all')\n",
    "fig = plt.figure(figsize=(5,5))\n",
    "\n",
    "# Define map boundaries\n",
    "lon_min = 131.0\n",
    "lon_max = 138.0\n",
    "lat_min = -12.6\n",
    "lat_max = -6\n",
    "\n",
    "# Set up cartopy\n",
    "ax = plt.axes(projection=ccrs.PlateCarree())\n",
    "ax.set_extent(\n",
    "    [lon_min, lon_max, lat_min, lat_max], \n",
    "    crs=ccrs.PlateCarree()\n",
    ")\n",
    "ax.coastlines(resolution='50m')\n",
    "\n",
    "# Draw speed contours\n",
    "speed_max = np.ceil(np.amax(speed.sel(level = slice(0,max_level)).values)*2)/2\n",
    "\n",
    "levels = np.arange(0, speed_max+.5, 0.5)\n",
    "\n",
    "speed_contour = ax.contourf(\n",
    "    speed.longitude, speed.latitude, speed.isel(level = 0), levels=levels,\n",
    "    vmin=0, vmax=speed_max, cmap='Reds', transform=ccrs.PlateCarree()\n",
    ")\n",
    "cbar_w = plt.colorbar(speed_contour, orientation='horizontal')\n",
    "cbar_w.set_label('Wind Speed [m/s]')\n",
    "\n",
    "# Draw arrows every half degree lon and lat\n",
    "arrow_step = 0.75\n",
    "\n",
    "U_quiver = WRF_mean.U.sel(\n",
    "    latitude = np.arange(lat_min + arrow_step/2, lat_max + arrow_step/2, arrow_step), \n",
    "    longitude = np.arange(lon_min + arrow_step/2, lon_max + arrow_step/2, arrow_step),\n",
    "    method = 'nearest'\n",
    ")\n",
    "V_quiver = WRF_mean.V.sel(\n",
    "    latitude = np.arange(lat_min, lat_max, arrow_step), \n",
    "    longitude = np.arange(lon_min, lon_max, arrow_step),\n",
    "    method = 'nearest'\n",
    ")\n",
    "\n",
    "ax.quiver(\n",
    "    U_quiver.longitude, \n",
    "    U_quiver.latitude, \n",
    "    U_quiver.isel(level = i), V_quiver.isel(level = 0), \n",
    "    units='xy', angles='xy', transform=ccrs.PlateCarree(),\n",
    "    scale=speed_max/arrow_step\n",
    ")\n",
    "\n",
    "# Draw grid\n",
    "grid = ax.gridlines(\n",
    "    crs=ccrs.PlateCarree(), draw_labels=True,\n",
    "    linewidth=1, color='gray', alpha=0.4, linestyle='--',\n",
    ")\n",
    "\n",
    "grid.xlabels_top = False\n",
    "grid.ylabels_right = False\n",
    "\n",
    "grid.xlocator = mticker.FixedLocator(\n",
    "    np.arange(np.floor(lon_min), np.ceil(lon_max)+2, 2)\n",
    ")\n",
    "grid.ylocator = mticker.FixedLocator(\n",
    "    np.arange(np.floor(lat_min), np.ceil(lat_max)+2, 2)\n",
    ")\n",
    "\n",
    "grid.xformatter = LONGITUDE_FORMATTER\n",
    "grid.yformatter = LATITUDE_FORMATTER\n",
    "\n",
    "# Draw transects\n",
    "for k in np.arange(0,np.size(trans_lon0),3):\n",
    "    ax.plot(\n",
    "            [trans_lon0[k], trans_lon1[k]], [trans_lat0[k], trans_lat1[k]],\n",
    "            transform=ccrs.PlateCarree(),\n",
    "            color='black', linewidth=.75\n",
    "    )\n",
    "    \n",
    "# Make labels\n",
    "plt.title('December Mean Wind [m/s] \\n 2004 to 2014  \\n {:.3f} km'.format(speed.level.values[i]/1000))\n",
    "plt.xlabel('Longitude')\n",
    "plt.ylabel('Latitude')\n",
    "\n",
    "# Create directory for saving figures\n",
    "dt=str(datetime.datetime.now())[0:-7]\n",
    "dt=dt.replace(\" \", \"_\")\n",
    "dt=dt.replace(\":\", \"_\")\n",
    "dt=dt.replace(\"-\", \"\")         \n",
    "\n",
    "directory = '/g/data/w40/esh563/goulburn_NT/' + dt\n",
    "\n",
    "os.mkdir(directory)\n",
    "\n",
    "# Define animation update function\n",
    "def update(i):\n",
    "    \n",
    "    # Clear axis collections\n",
    "    # ax.collections = []\n",
    "\n",
    "    # Update contour\n",
    "    speed_contour = ax.contourf(\n",
    "        speed.longitude, speed.latitude, speed.isel(level = i), levels=levels,\n",
    "        vmin=0, vmax=speed_max, cmap='Reds', transform=ccrs.PlateCarree()\n",
    "    )\n",
    "\n",
    "    # Update quiver\n",
    "    ax.quiver(\n",
    "        U_quiver.longitude, \n",
    "        U_quiver.latitude, \n",
    "        U_quiver.isel(level = i), V_quiver.isel(level = i), \n",
    "        units='xy', angles='xy', transform=ccrs.PlateCarree(),\n",
    "        scale=speed_max/arrow_step\n",
    "    )\n",
    "\n",
    "    # Update title\n",
    "    plt.title('Mean Wind December 2012 [m/s] \\n' + '{:.3f} km'.format(speed.level[i].values/1000))\n",
    "        \n",
    "    # Save frame\n",
    "    plt.savefig(\n",
    "        directory + '/{}.png'.format(str(int(speed.level.values[i])))\n",
    "    )\n",
    "\n",
    "    return speed_contour, ax\n",
    "\n",
    "# Create and save animation\n",
    "anim = FuncAnimation(\n",
    "    fig, update, interval=200,\n",
    "    frames=np.arange(0, np.where(speed.level.values < max_level)[0][-1]))\n",
    "\n",
    "anim.save(directory + '/mean_wind.gif', dpi=80, writer='imagemagick')"
   ]
  },
  {
   "cell_type": "markdown",
   "metadata": {
    "ExecuteTime": {
     "end_time": "2019-06-07T04:45:52.689655Z",
     "start_time": "2019-06-07T04:45:52.683568Z"
    }
   },
   "source": [
    "# Transects"
   ]
  },
  {
   "cell_type": "markdown",
   "metadata": {
    "ExecuteTime": {
     "end_time": "2019-05-31T23:41:44.517626Z",
     "start_time": "2019-05-31T23:41:44.510042Z"
    }
   },
   "source": [
    "Open transect files."
   ]
  },
  {
   "cell_type": "code",
   "execution_count": 27,
   "metadata": {
    "ExecuteTime": {
     "end_time": "2019-06-09T23:33:47.597336Z",
     "start_time": "2019-06-09T23:33:47.555255Z"
    }
   },
   "outputs": [
    {
     "data": {
      "text/plain": [
       "['/g/data/w40/esh563/goulburn_NT/20132014/U/U_goulburn_20131221.nc',\n",
       " '/g/data/w40/esh563/goulburn_NT/20132014/U/U_goulburn_20131207.nc',\n",
       " '/g/data/w40/esh563/goulburn_NT/20132014/U/U_goulburn_20131210.nc',\n",
       " '/g/data/w40/esh563/goulburn_NT/20132014/U/U_goulburn_20131225.nc',\n",
       " '/g/data/w40/esh563/goulburn_NT/20132014/U/U_goulburn_20131227.nc',\n",
       " '/g/data/w40/esh563/goulburn_NT/20132014/U/U_goulburn_20131203.nc',\n",
       " '/g/data/w40/esh563/goulburn_NT/20132014/U/U_goulburn_20131229.nc',\n",
       " '/g/data/w40/esh563/goulburn_NT/20132014/U/U_goulburn_20131213.nc',\n",
       " '/g/data/w40/esh563/goulburn_NT/20132014/U/U_goulburn_20131217.nc',\n",
       " '/g/data/w40/esh563/goulburn_NT/20132014/U/U_goulburn_20131223.nc',\n",
       " '/g/data/w40/esh563/goulburn_NT/20132014/U/U_goulburn_20131218.nc',\n",
       " '/g/data/w40/esh563/goulburn_NT/20132014/U/U_goulburn_20131214.nc',\n",
       " '/g/data/w40/esh563/goulburn_NT/20132014/U/U_goulburn_20131222.nc',\n",
       " '/g/data/w40/esh563/goulburn_NT/20132014/U/U_goulburn_20131220.nc',\n",
       " '/g/data/w40/esh563/goulburn_NT/20132014/U/U_goulburn_20131231.nc',\n",
       " '/g/data/w40/esh563/goulburn_NT/20132014/U/U_goulburn_20131219.nc',\n",
       " '/g/data/w40/esh563/goulburn_NT/20132014/U/U_goulburn_20131230.nc',\n",
       " '/g/data/w40/esh563/goulburn_NT/20132014/U/U_goulburn_20131208.nc',\n",
       " '/g/data/w40/esh563/goulburn_NT/20132014/U/U_goulburn_20131202.nc',\n",
       " '/g/data/w40/esh563/goulburn_NT/20132014/U/U_goulburn_20131204.nc',\n",
       " '/g/data/w40/esh563/goulburn_NT/20132014/U/U_goulburn_20131206.nc',\n",
       " '/g/data/w40/esh563/goulburn_NT/20132014/U/U_goulburn_20131228.nc',\n",
       " '/g/data/w40/esh563/goulburn_NT/20132014/U/U_goulburn_20131215.nc',\n",
       " '/g/data/w40/esh563/goulburn_NT/20132014/U/U_goulburn_20131209.nc',\n",
       " '/g/data/w40/esh563/goulburn_NT/20132014/U/U_goulburn_20131212.nc',\n",
       " '/g/data/w40/esh563/goulburn_NT/20132014/U/U_goulburn_20131226.nc',\n",
       " '/g/data/w40/esh563/goulburn_NT/20132014/U/U_goulburn_20131224.nc',\n",
       " '/g/data/w40/esh563/goulburn_NT/20132014/U/U_goulburn_20131216.nc',\n",
       " '/g/data/w40/esh563/goulburn_NT/20132014/U/U_goulburn_20131201.nc',\n",
       " '/g/data/w40/esh563/goulburn_NT/20132014/U/U_goulburn_20131211.nc',\n",
       " '/g/data/w40/esh563/goulburn_NT/20132014/U/U_goulburn_20131205.nc']"
      ]
     },
     "execution_count": 27,
     "metadata": {},
     "output_type": "execute_result"
    }
   ],
   "source": [
    "i = 13\n",
    "base = '/g/data/w40/esh563/goulburn_NT/20{}20{}'.format(str(i).zfill(2), str(i+1).zfill(2))\n",
    "\n",
    "U_path = base + '/U/U_goulburn_20{}12*.nc'.format(str(i).zfill(2))\n",
    "V_path = base + '/V/V_goulburn_20{}12*.nc'.format(str(i).zfill(2))"
   ]
  },
  {
   "cell_type": "code",
   "execution_count": 65,
   "metadata": {
    "ExecuteTime": {
     "end_time": "2019-06-10T00:06:39.023080Z",
     "start_time": "2019-06-10T00:06:38.941828Z"
    }
   },
   "outputs": [
    {
     "ename": "ValueError",
     "evalue": "cannot infer dimension to concatenate: supply the ``concat_dim`` argument explicitly",
     "output_type": "error",
     "traceback": [
      "\u001b[0;31m---------------------------------------------------------------------------\u001b[0m",
      "\u001b[0;31mValueError\u001b[0m                                Traceback (most recent call last)",
      "\u001b[0;32m<ipython-input-65-d03517d99eca>\u001b[0m in \u001b[0;36m<module>\u001b[0;34m\u001b[0m\n\u001b[1;32m      4\u001b[0m         \u001b[0;34m'/g/data/w40/esh563/goulburn_NT/transects/wind_proj_goulburn_201312.nc'\u001b[0m\u001b[0;34m,\u001b[0m\u001b[0;34m\u001b[0m\u001b[0;34m\u001b[0m\u001b[0m\n\u001b[1;32m      5\u001b[0m     ],\n\u001b[0;32m----> 6\u001b[0;31m     \u001b[0mchunks\u001b[0m\u001b[0;34m=\u001b[0m\u001b[0;34m{\u001b[0m\u001b[0;34m'time'\u001b[0m \u001b[0;34m:\u001b[0m \u001b[0;36m1488\u001b[0m\u001b[0;34m}\u001b[0m\u001b[0;34m\u001b[0m\u001b[0;34m\u001b[0m\u001b[0m\n\u001b[0m\u001b[1;32m      7\u001b[0m )\n",
      "\u001b[0;32m/g/data3/hh5/public/apps/miniconda3/envs/analysis3-19.04/lib/python3.6/site-packages/xarray/backends/api.py\u001b[0m in \u001b[0;36mopen_mfdataset\u001b[0;34m(paths, chunks, concat_dim, compat, preprocess, engine, lock, data_vars, coords, autoclose, parallel, **kwargs)\u001b[0m\n\u001b[1;32m    717\u001b[0m             \u001b[0mdata_vars\u001b[0m\u001b[0;34m=\u001b[0m\u001b[0mdata_vars\u001b[0m\u001b[0;34m,\u001b[0m \u001b[0mcoords\u001b[0m\u001b[0;34m=\u001b[0m\u001b[0mcoords\u001b[0m\u001b[0;34m,\u001b[0m\u001b[0;34m\u001b[0m\u001b[0;34m\u001b[0m\u001b[0m\n\u001b[1;32m    718\u001b[0m             \u001b[0minfer_order_from_coords\u001b[0m\u001b[0;34m=\u001b[0m\u001b[0minfer_order_from_coords\u001b[0m\u001b[0;34m,\u001b[0m\u001b[0;34m\u001b[0m\u001b[0;34m\u001b[0m\u001b[0m\n\u001b[0;32m--> 719\u001b[0;31m             ids=ids)\n\u001b[0m\u001b[1;32m    720\u001b[0m     \u001b[0;32mexcept\u001b[0m \u001b[0mValueError\u001b[0m\u001b[0;34m:\u001b[0m\u001b[0;34m\u001b[0m\u001b[0;34m\u001b[0m\u001b[0m\n\u001b[1;32m    721\u001b[0m         \u001b[0;32mfor\u001b[0m \u001b[0mds\u001b[0m \u001b[0;32min\u001b[0m \u001b[0mdatasets\u001b[0m\u001b[0;34m:\u001b[0m\u001b[0;34m\u001b[0m\u001b[0;34m\u001b[0m\u001b[0m\n",
      "\u001b[0;32m/g/data3/hh5/public/apps/miniconda3/envs/analysis3-19.04/lib/python3.6/site-packages/xarray/core/combine.py\u001b[0m in \u001b[0;36m_auto_combine\u001b[0;34m(datasets, concat_dims, compat, data_vars, coords, infer_order_from_coords, ids)\u001b[0m\n\u001b[1;32m    551\u001b[0m     \u001b[0;31m# Repeatedly concatenate then merge along each dimension\u001b[0m\u001b[0;34m\u001b[0m\u001b[0;34m\u001b[0m\u001b[0;34m\u001b[0m\u001b[0m\n\u001b[1;32m    552\u001b[0m     combined = _combine_nd(combined_ids, concat_dims, compat=compat,\n\u001b[0;32m--> 553\u001b[0;31m                            data_vars=data_vars, coords=coords)\n\u001b[0m\u001b[1;32m    554\u001b[0m     \u001b[0;32mreturn\u001b[0m \u001b[0mcombined\u001b[0m\u001b[0;34m\u001b[0m\u001b[0;34m\u001b[0m\u001b[0m\n\u001b[1;32m    555\u001b[0m \u001b[0;34m\u001b[0m\u001b[0m\n",
      "\u001b[0;32m/g/data3/hh5/public/apps/miniconda3/envs/analysis3-19.04/lib/python3.6/site-packages/xarray/core/combine.py\u001b[0m in \u001b[0;36m_combine_nd\u001b[0;34m(combined_ids, concat_dims, data_vars, coords, compat)\u001b[0m\n\u001b[1;32m    473\u001b[0m                                                          \u001b[0mdata_vars\u001b[0m\u001b[0;34m=\u001b[0m\u001b[0mdata_vars\u001b[0m\u001b[0;34m,\u001b[0m\u001b[0;34m\u001b[0m\u001b[0;34m\u001b[0m\u001b[0m\n\u001b[1;32m    474\u001b[0m                                                          \u001b[0mcoords\u001b[0m\u001b[0;34m=\u001b[0m\u001b[0mcoords\u001b[0m\u001b[0;34m,\u001b[0m\u001b[0;34m\u001b[0m\u001b[0;34m\u001b[0m\u001b[0m\n\u001b[0;32m--> 475\u001b[0;31m                                                          compat=compat)\n\u001b[0m\u001b[1;32m    476\u001b[0m     \u001b[0mcombined_ds\u001b[0m \u001b[0;34m=\u001b[0m \u001b[0mlist\u001b[0m\u001b[0;34m(\u001b[0m\u001b[0mcombined_ids\u001b[0m\u001b[0;34m.\u001b[0m\u001b[0mvalues\u001b[0m\u001b[0;34m(\u001b[0m\u001b[0;34m)\u001b[0m\u001b[0;34m)\u001b[0m\u001b[0;34m[\u001b[0m\u001b[0;36m0\u001b[0m\u001b[0;34m]\u001b[0m\u001b[0;34m\u001b[0m\u001b[0;34m\u001b[0m\u001b[0m\n\u001b[1;32m    477\u001b[0m     \u001b[0;32mreturn\u001b[0m \u001b[0mcombined_ds\u001b[0m\u001b[0;34m\u001b[0m\u001b[0;34m\u001b[0m\u001b[0m\n",
      "\u001b[0;32m/g/data3/hh5/public/apps/miniconda3/envs/analysis3-19.04/lib/python3.6/site-packages/xarray/core/combine.py\u001b[0m in \u001b[0;36m_auto_combine_all_along_first_dim\u001b[0;34m(combined_ids, dim, data_vars, coords, compat)\u001b[0m\n\u001b[1;32m    491\u001b[0m         \u001b[0mdatasets\u001b[0m \u001b[0;34m=\u001b[0m \u001b[0mcombined_ids\u001b[0m\u001b[0;34m.\u001b[0m\u001b[0mvalues\u001b[0m\u001b[0;34m(\u001b[0m\u001b[0;34m)\u001b[0m\u001b[0;34m\u001b[0m\u001b[0;34m\u001b[0m\u001b[0m\n\u001b[1;32m    492\u001b[0m         new_combined_ids[new_id] = _auto_combine_1d(datasets, dim, compat,\n\u001b[0;32m--> 493\u001b[0;31m                                                     data_vars, coords)\n\u001b[0m\u001b[1;32m    494\u001b[0m     \u001b[0;32mreturn\u001b[0m \u001b[0mnew_combined_ids\u001b[0m\u001b[0;34m\u001b[0m\u001b[0;34m\u001b[0m\u001b[0m\n\u001b[1;32m    495\u001b[0m \u001b[0;34m\u001b[0m\u001b[0m\n",
      "\u001b[0;32m/g/data3/hh5/public/apps/miniconda3/envs/analysis3-19.04/lib/python3.6/site-packages/xarray/core/combine.py\u001b[0m in \u001b[0;36m_auto_combine_1d\u001b[0;34m(datasets, concat_dim, compat, data_vars, coords)\u001b[0m\n\u001b[1;32m    509\u001b[0m         concatenated = [_auto_concat(list(ds_group), dim=dim,\n\u001b[1;32m    510\u001b[0m                                      data_vars=data_vars, coords=coords)\n\u001b[0;32m--> 511\u001b[0;31m                         for id, ds_group in grouped_by_vars]\n\u001b[0m\u001b[1;32m    512\u001b[0m     \u001b[0;32melse\u001b[0m\u001b[0;34m:\u001b[0m\u001b[0;34m\u001b[0m\u001b[0;34m\u001b[0m\u001b[0m\n\u001b[1;32m    513\u001b[0m         \u001b[0mconcatenated\u001b[0m \u001b[0;34m=\u001b[0m \u001b[0mdatasets\u001b[0m\u001b[0;34m\u001b[0m\u001b[0;34m\u001b[0m\u001b[0m\n",
      "\u001b[0;32m/g/data3/hh5/public/apps/miniconda3/envs/analysis3-19.04/lib/python3.6/site-packages/xarray/core/combine.py\u001b[0m in \u001b[0;36m<listcomp>\u001b[0;34m(.0)\u001b[0m\n\u001b[1;32m    509\u001b[0m         concatenated = [_auto_concat(list(ds_group), dim=dim,\n\u001b[1;32m    510\u001b[0m                                      data_vars=data_vars, coords=coords)\n\u001b[0;32m--> 511\u001b[0;31m                         for id, ds_group in grouped_by_vars]\n\u001b[0m\u001b[1;32m    512\u001b[0m     \u001b[0;32melse\u001b[0m\u001b[0;34m:\u001b[0m\u001b[0;34m\u001b[0m\u001b[0;34m\u001b[0m\u001b[0m\n\u001b[1;32m    513\u001b[0m         \u001b[0mconcatenated\u001b[0m \u001b[0;34m=\u001b[0m \u001b[0mdatasets\u001b[0m\u001b[0;34m\u001b[0m\u001b[0;34m\u001b[0m\u001b[0m\n",
      "\u001b[0;32m/g/data3/hh5/public/apps/miniconda3/envs/analysis3-19.04/lib/python3.6/site-packages/xarray/core/combine.py\u001b[0m in \u001b[0;36m_auto_concat\u001b[0;34m(datasets, dim, data_vars, coords)\u001b[0m\n\u001b[1;32m    363\u001b[0m                                  'concatenate: %s' % concat_dims)\n\u001b[1;32m    364\u001b[0m             \u001b[0;32melif\u001b[0m \u001b[0mlen\u001b[0m\u001b[0;34m(\u001b[0m\u001b[0mconcat_dims\u001b[0m\u001b[0;34m)\u001b[0m \u001b[0;34m==\u001b[0m \u001b[0;36m0\u001b[0m\u001b[0;34m:\u001b[0m\u001b[0;34m\u001b[0m\u001b[0;34m\u001b[0m\u001b[0m\n\u001b[0;32m--> 365\u001b[0;31m                 raise ValueError('cannot infer dimension to concatenate: '\n\u001b[0m\u001b[1;32m    366\u001b[0m                                  \u001b[0;34m'supply the ``concat_dim`` argument '\u001b[0m\u001b[0;34m\u001b[0m\u001b[0;34m\u001b[0m\u001b[0m\n\u001b[1;32m    367\u001b[0m                                  'explicitly')\n",
      "\u001b[0;31mValueError\u001b[0m: cannot infer dimension to concatenate: supply the ``concat_dim`` argument explicitly"
     ]
    }
   ],
   "source": [
    "proj_tran_i = xr.open_mfdataset(\n",
    "    [\n",
    "        '/g/data/w40/esh563/goulburn_NT/transects/wind_proj_goulburn_201312.nc',\n",
    "        '/g/data/w40/esh563/goulburn_NT/transects/wind_proj_goulburn_201312.nc',\n",
    "    ],\n",
    "    chunks={'time' : 1488}\n",
    ")"
   ]
  },
  {
   "cell_type": "code",
   "execution_count": 56,
   "metadata": {
    "ExecuteTime": {
     "end_time": "2019-06-10T00:02:15.070286Z",
     "start_time": "2019-06-10T00:02:10.165455Z"
    }
   },
   "outputs": [],
   "source": [
    "proj_tran_i = (proj_tran_i - proj_tran_i.rolling(time=24, center=True).mean()).dropna('time')\n",
    "proj_tran_i = proj_tran_i.mean(dim='coastal_axis')\n",
    "proj_tran_i = proj_tran_i.groupby('time.hour').mean('time')"
   ]
  },
  {
   "cell_type": "code",
   "execution_count": 63,
   "metadata": {
    "ExecuteTime": {
     "end_time": "2019-06-10T00:03:54.154293Z",
     "start_time": "2019-06-10T00:03:53.821474Z"
    }
   },
   "outputs": [
    {
     "data": {
      "image/png": "[encoded data removed]",
      "text/plain": [
       "<Figure size 432x288 with 2 Axes>"
      ]
     },
     "metadata": {
      "needs_background": "light"
     },
     "output_type": "display_data"
    }
   ],
   "source": [
    "proj_tran_i.wind_proj.isel(hour = 0).plot()\n",
    "plt.show()"
   ]
  },
  {
   "cell_type": "markdown",
   "metadata": {},
   "source": [
    "# Create Composites"
   ]
  },
  {
   "cell_type": "code",
   "execution_count": 33,
   "metadata": {
    "ExecuteTime": {
     "end_time": "2019-06-09T23:41:51.356927Z",
     "start_time": "2019-06-09T23:41:51.337360Z"
    }
   },
   "outputs": [
    {
     "ename": "SyntaxError",
     "evalue": "invalid syntax (<ipython-input-33-aee60b5f835e>, line 1)",
     "output_type": "error",
     "traceback": [
      "\u001b[0;36m  File \u001b[0;32m\"<ipython-input-33-aee60b5f835e>\"\u001b[0;36m, line \u001b[0;32m1\u001b[0m\n\u001b[0;31m    for i in np.arange(14,15)\u001b[0m\n\u001b[0m                             ^\u001b[0m\n\u001b[0;31mSyntaxError\u001b[0m\u001b[0;31m:\u001b[0m invalid syntax\n"
     ]
    }
   ],
   "source": [
    "for i in np.arange(14,15)\n",
    "\n",
    "    proj_tran_i = xr.open_dataset('/g/data/w40/esh563/goulburn_NT/transects/wind_proj_goulburn_201412.nc') \n",
    "    \n",
    "    # Sutract 24 hour running mean\n",
    "    proj_tran = (proj_tran - proj_tran.rolling(time=24, center=True).mean()).dropna('time')\n",
    "    W_tran = (W_tran - W_tran.rolling(time=24, center=True).mean()).dropna('time')\n",
    "    T_tran = (T_tran - T_tran.rolling(time=24, center=True).mean()).dropna('time')\n",
    "\n",
    "    # Average over coastal_axis, i.e. over multiple transects\n",
    "    proj_tran = proj_tran.mean(dim='coastal_axis')\n",
    "    W_tran = W_tran.mean(dim='coastal_axis')\n",
    "    T_tran = T_tran.mean(dim='coastal_axis')\n",
    "\n",
    "    # Create a composite\n",
    "    proj_tran_list = [proj_tran.where(proj_tran['wind_proj']['time.hour'] == 0).mean('time', skipna=True)] * 24\n",
    "    W_tran_list = [W_tran.where(W_tran['W']['time.hour'] == 0).mean('time', skipna=True)] * 24\n",
    "    T_tran_list = [T_tran.where(T_tran['T']['time.hour'] == 0).mean('time', skipna=True)] * 24\n",
    "\n",
    "    for i in range(1,24):\n",
    "        proj_tran_list[i] = proj_tran.where(proj_tran['wind_proj']['time.hour'] == i).mean('time', skipna=True)\n",
    "        W_tran_list[i] = W_tran.where(W_tran['W']['time.hour'] == i).mean('time', skipna=True)\n",
    "        T_tran_list[i] = T_tran.where(T_tran['T']['time.hour'] == i).mean('time', skipna=True)\n",
    "\n",
    "    proj_tran_h = xr.concat(proj_tran_list, dim = 'hour_UTC')\n",
    "    proj_tran_h = proj_tran_h.assign_coords(hour_UTC = np.arange(0,24))    \n",
    "\n",
    "    W_tran_h = xr.concat(W_tran_list, dim = 'hour_UTC')\n",
    "    W_tran_h = W_tran_h.assign_coords(hour_UTC = np.arange(0,24)) \n",
    "\n",
    "    T_tran_h = xr.concat(T_tran_list, dim = 'hour_UTC')\n",
    "    T_tran_h = T_tran_h.assign_coords(hour_UTC = np.arange(0,24))\n",
    "\n",
    "    proj_tran_h.to_netcdf(\n",
    "        path='/g/data/w40/esh563/goulburn_NT/wind_proj_c_goulburn_201412.nc', mode='w', format='NETCDF4'\n",
    "    )\n",
    "    W_tran_h.to_netcdf(\n",
    "        path='/g/data/w40/esh563/goulburn_NT/W_c_goulburn_201412.nc', mode='w', format='NETCDF4'\n",
    "    )\n",
    "    T_tran_h.to_netcdf(\n",
    "        path='/g/data/w40/esh563/goulburn_NT/T_c_goulburn_201412.nc', mode='w', format='NETCDF4'\n",
    "    )"
   ]
  },
  {
   "cell_type": "markdown",
   "metadata": {},
   "source": [
    "# Plot"
   ]
  },
  {
   "cell_type": "code",
   "execution_count": 34,
   "metadata": {
    "ExecuteTime": {
     "end_time": "2019-06-09T23:41:51.615108Z",
     "start_time": "2019-06-09T23:41:51.544433Z"
    }
   },
   "outputs": [
    {
     "name": "stdout",
     "output_type": "stream",
     "text": [
      "Animating velocity.\n"
     ]
    },
    {
     "ename": "NameError",
     "evalue": "name 'proj_tran_h' is not defined",
     "output_type": "error",
     "traceback": [
      "\u001b[0;31m---------------------------------------------------------------------------\u001b[0m",
      "\u001b[0;31mNameError\u001b[0m                                 Traceback (most recent call last)",
      "\u001b[0;32m<ipython-input-34-c4794e1e6c2b>\u001b[0m in \u001b[0;36m<module>\u001b[0;34m\u001b[0m\n\u001b[1;32m     14\u001b[0m \u001b[0;34m\u001b[0m\u001b[0m\n\u001b[1;32m     15\u001b[0m plt.plot(\n\u001b[0;32m---> 16\u001b[0;31m     \u001b[0;34m[\u001b[0m\u001b[0;36m0\u001b[0m\u001b[0;34m,\u001b[0m \u001b[0;36m0\u001b[0m\u001b[0;34m]\u001b[0m\u001b[0;34m,\u001b[0m \u001b[0;34m[\u001b[0m\u001b[0mproj_tran_h\u001b[0m\u001b[0;34m.\u001b[0m\u001b[0mlevel\u001b[0m\u001b[0;34m[\u001b[0m\u001b[0;36m0\u001b[0m\u001b[0;34m]\u001b[0m\u001b[0;34m,\u001b[0m \u001b[0mproj_tran_h\u001b[0m\u001b[0;34m.\u001b[0m\u001b[0mlevel\u001b[0m\u001b[0;34m[\u001b[0m\u001b[0;36m57\u001b[0m\u001b[0;34m]\u001b[0m\u001b[0;34m]\u001b[0m\u001b[0;34m,\u001b[0m\u001b[0;34m\u001b[0m\u001b[0;34m\u001b[0m\u001b[0m\n\u001b[0m\u001b[1;32m     17\u001b[0m     '--', color='grey')\n\u001b[1;32m     18\u001b[0m \u001b[0;34m\u001b[0m\u001b[0m\n",
      "\u001b[0;31mNameError\u001b[0m: name 'proj_tran_h' is not defined"
     ]
    }
   ],
   "source": [
    "plt.ioff()\n",
    "\n",
    "print('Animating velocity.')\n",
    "\n",
    "LST = (np.arange(0,24) + 9) % 24\n",
    "\n",
    "# Initialise fonts\n",
    "rcParams['font.family'] = 'serif'\n",
    "rcParams.update({'font.serif': 'Liberation Serif'})\n",
    "rcParams.update({'font.size': 12})\n",
    "rcParams.update({'font.weight': 'normal'})\n",
    "\n",
    "fig, ax = plt.subplots()\n",
    "\n",
    "plt.plot(\n",
    "    [0, 0], [proj_tran_h.level[0], proj_tran_h.level[57]],\n",
    "    '--', color='grey')\n",
    "\n",
    "speed_max=np.ceil(np.amax(np.abs(proj_tran_h.wind_proj[:,0:58,:].values))/2)*2\n",
    "levels=np.arange(-speed_max, speed_max+1)\n",
    "\n",
    "contour_plot = ax.contourf(\n",
    "    proj_tran_h.transect_axis, proj_tran_h.level[0:58], \n",
    "    proj_tran_h.wind_proj.values[0,0:58,:],\n",
    "    levels, vmin=-speed_max, vmax=speed_max, cmap='RdBu_r')\n",
    "\n",
    "heights = np.arange(proj_tran_h.level[0],proj_tran_h.level[58],500)\n",
    "distances = np.arange(proj_tran_h.transect_axis[0],proj_tran_h.transect_axis[-1], 25000)\n",
    "\n",
    "cbar=plt.colorbar(contour_plot)\n",
    "cbar.set_label('Perturbation Velocity [m/s]')\n",
    "\n",
    "proj_tran_quiver = proj_tran_h.interp(transect_axis = distances).interp(level = heights)\n",
    "W_tran_quiver = W_tran_h.interp(transect_axis = distances).interp(level = heights)\n",
    " \n",
    "ax.quiver(\n",
    "    proj_tran_quiver.transect_axis, \n",
    "    proj_tran_quiver.level, \n",
    "    proj_tran_quiver.wind_proj.values[0,:,:], W_tran_quiver.W.values[0,:,:], \n",
    "    units='xy', angles='xy', scale=0.00015)\n",
    "\n",
    "plt.title('Perturbation Velocity [m/s]')\n",
    "plt.xlabel('Distance [m]')\n",
    "plt.ylabel('Height [m]')\n",
    "\n",
    "dt=str(datetime.datetime.now())[0:-7]\n",
    "dt=dt.replace(\" \", \"_\")\n",
    "dt=dt.replace(\":\", \"_\")\n",
    "dt=dt.replace(\"-\", \"\")         \n",
    "\n",
    "directory = '/g/data/w40/esh563/goulburn_NT/' + dt\n",
    "\n",
    "os.mkdir(directory)\n",
    "\n",
    "def update(i):\n",
    "    # Update the line and the axes (with a new xlabel). Return a tuple of\n",
    "    # \"artists\" that have to be redrawn for this frame.\n",
    "    ax.collections = []\n",
    "    \n",
    "    print('Plotting frame ' + str(i) + '.')\n",
    "\n",
    "    contourPlot=ax.contourf(\n",
    "        proj_tran_h.transect_axis, proj_tran_h.level[0:58], \n",
    "        proj_tran_h.wind_proj.values[i,0:58,:],\n",
    "        levels, vmin=-speed_max, vmax=speed_max, cmap='RdBu_r'\n",
    "    )\n",
    "\n",
    "    ax.quiver(\n",
    "        proj_tran_quiver.transect_axis, \n",
    "        proj_tran_quiver.level, \n",
    "        proj_tran_quiver.wind_proj.values[i,:,:], W_tran_quiver.W.values[i,:,:], \n",
    "        units='xy', angles='xy', scale=0.00015\n",
    "    )\n",
    "                            \n",
    "    ax.plot(\n",
    "        [0, 0], [proj_tran_h.level[0], proj_tran_h.level[57]],\n",
    "        '--', color='grey'\n",
    "    )\n",
    "    \n",
    "    plt.title('Perturbation Velocity [m/s] \\n' + str(LST[i]).zfill(2) + ':00 LST')\n",
    "        \n",
    "    plt.savefig(directory + '/' + str(LST[i]) + '.png')\n",
    "\n",
    "    return contourPlot, ax\n",
    "\n",
    "anim = FuncAnimation(fig, update, frames=np.arange(0, 24),interval=200)\n",
    "anim.save(directory + '/velocity.gif', dpi=80, writer='imagemagick')\n",
    "\n",
    "plt.close('all')"
   ]
  },
  {
   "cell_type": "code",
   "execution_count": 339,
   "metadata": {
    "ExecuteTime": {
     "end_time": "2019-06-04T06:02:34.067842Z",
     "start_time": "2019-06-04T06:02:04.056204Z"
    }
   },
   "outputs": [
    {
     "name": "stdout",
     "output_type": "stream",
     "text": [
      "Plotting frame 0.\n",
      "Plotting frame 0.\n",
      "Plotting frame 1.\n",
      "Plotting frame 2.\n",
      "Plotting frame 3.\n",
      "Plotting frame 4.\n",
      "Plotting frame 5.\n",
      "Plotting frame 6.\n",
      "Plotting frame 7.\n",
      "Plotting frame 8.\n",
      "Plotting frame 9.\n",
      "Plotting frame 10.\n",
      "Plotting frame 11.\n",
      "Plotting frame 12.\n",
      "Plotting frame 13.\n",
      "Plotting frame 14.\n",
      "Plotting frame 15.\n",
      "Plotting frame 16.\n",
      "Plotting frame 17.\n",
      "Plotting frame 18.\n",
      "Plotting frame 19.\n",
      "Plotting frame 20.\n",
      "Plotting frame 21.\n",
      "Plotting frame 22.\n",
      "Plotting frame 23.\n",
      "Plotting frame 24.\n",
      "Plotting frame 25.\n",
      "Plotting frame 26.\n",
      "Plotting frame 27.\n",
      "Plotting frame 28.\n",
      "Plotting frame 29.\n",
      "Plotting frame 30.\n",
      "Plotting frame 31.\n",
      "Plotting frame 32.\n",
      "Plotting frame 33.\n",
      "Plotting frame 34.\n",
      "Plotting frame 35.\n",
      "Plotting frame 36.\n",
      "Plotting frame 37.\n",
      "Plotting frame 38.\n",
      "Plotting frame 39.\n",
      "Plotting frame 40.\n",
      "Plotting frame 41.\n",
      "Plotting frame 42.\n",
      "Plotting frame 43.\n",
      "Plotting frame 44.\n",
      "Plotting frame 45.\n",
      "Plotting frame 46.\n",
      "Plotting frame 47.\n",
      "Plotting frame 48.\n",
      "Plotting frame 49.\n",
      "Plotting frame 50.\n",
      "Plotting frame 51.\n",
      "Plotting frame 52.\n",
      "Plotting frame 53.\n",
      "Plotting frame 54.\n",
      "Plotting frame 55.\n",
      "Plotting frame 56.\n",
      "Plotting frame 57.\n",
      "Plotting frame 58.\n",
      "Plotting frame 59.\n",
      "Plotting frame 60.\n",
      "Plotting frame 61.\n",
      "Plotting frame 62.\n",
      "Plotting frame 63.\n",
      "Plotting frame 64.\n",
      "Plotting frame 65.\n",
      "Plotting frame 66.\n",
      "Plotting frame 67.\n",
      "Plotting frame 68.\n",
      "Plotting frame 69.\n",
      "Plotting frame 70.\n"
     ]
    }
   ],
   "source": [
    "i = 0\n",
    "\n",
    "fig, ax = plt.subplots(figsize=[4,7], tight_layout=True)\n",
    "# Plot\n",
    "plt.rc('text', usetex=False)\n",
    "\n",
    "# Initialise fonts\n",
    "rcParams['font.family'] = 'serif'\n",
    "rcParams.update({'font.serif': 'Liberation Serif'})\n",
    "rcParams.update({'font.size': 12})\n",
    "rcParams.update({'font.weight': 'normal'})\n",
    "\n",
    "LST = np.arange(-24,48) + 9\n",
    "z = np.concatenate([np.squeeze(proj_tran_h.wind_proj.values[:,i,:])]*3, axis=0)\n",
    "\n",
    "LST = LST[15:48+15]\n",
    "z = z[15:48+15,:]\n",
    "\n",
    "plt.plot([0, 0], [0, 47], '--', color='grey')\n",
    "\n",
    "plt.title(\n",
    "    'Velocity Anomaly [m/s] \\n' + '{:.3f} km'.format(proj_tran_h.level.values[i]/1000)\n",
    ")\n",
    "plt.xlabel('Distance [m]')\n",
    "plt.ylabel('Time [h LST]')\n",
    "\n",
    "contour_w = ax.contourf(\n",
    "    proj_tran_h.transect_axis.values, LST, z,\n",
    "    cmap='RdBu_r', levels = np.arange(-4.5,5.0,0.5),\n",
    ")\n",
    "\n",
    "plt.yticks(np.arange(0, 48, step=6))\n",
    "\n",
    "cbar_w=plt.colorbar(contour_w, orientation='horizontal')\n",
    "cbar_w.set_label('Velocity Anomaly [m/s]')\n",
    "\n",
    "dt=str(datetime.datetime.now())[0:-7]\n",
    "dt=dt.replace(\" \", \"_\")\n",
    "dt=dt.replace(\":\", \"_\")\n",
    "dt=dt.replace(\"-\", \"\")         \n",
    "\n",
    "directory = '/g/data/w40/esh563/goulburn_NT/' + dt\n",
    "\n",
    "os.mkdir(directory)\n",
    "\n",
    "def update(i):\n",
    "    # Update the line and the axes (with a new xlabel). Return a tuple of\n",
    "    # \"artists\" that have to be redrawn for this frame.\n",
    "    ax.collections = []\n",
    "    \n",
    "    print('Plotting frame ' + str(i) + '.')\n",
    "    \n",
    "    z = np.concatenate([np.squeeze(proj_tran_h.wind_proj.values[:,i,:])]*3, axis=0)\n",
    "    z = z[15:48+15,:]\n",
    "\n",
    "    contour_w = ax.contourf(\n",
    "        proj_tran_h.transect_axis.values, LST, z,\n",
    "        cmap='RdBu_r', levels = np.arange(-4.5,5.0,0.5),\n",
    "    )\n",
    "                            \n",
    "    plt.plot([0, 0], [0, 47], '--', color='grey')\n",
    "    \n",
    "    plt.title(\n",
    "        'Velocity Anomaly [m/s] \\n' + '{:.3f} km'.format(proj_tran_h.level.values[i]/1000)\n",
    "    )\n",
    "        \n",
    "    plt.savefig(\n",
    "        directory + '/' + str(int(proj_tran_h.level.values[i])) + '.png'\n",
    "    )\n",
    "\n",
    "    return contour_w, ax\n",
    "\n",
    "anim = FuncAnimation(fig, update, frames=np.arange(0, proj_tran_h.level.size),interval=200)\n",
    "anim.save(directory + '/velocity_hov.gif', dpi=80, writer='imagemagick')\n",
    "\n",
    "plt.close('all')"
   ]
  }
 ],
 "metadata": {
  "kernelspec": {
   "display_name": "Python 3",
   "language": "python",
   "name": "python3"
  },
  "language_info": {
   "codemirror_mode": {
    "name": "ipython",
    "version": 3
   },
   "file_extension": ".py",
   "mimetype": "text/x-python",
   "name": "python",
   "nbconvert_exporter": "python",
   "pygments_lexer": "ipython3",
   "version": "3.6.7"
  },
  "toc": {
   "base_numbering": 1,
   "nav_menu": {},
   "number_sections": true,
   "sideBar": true,
   "skip_h1_title": false,
   "title_cell": "Table of Contents",
   "title_sidebar": "Contents",
   "toc_cell": false,
   "toc_position": {
    "height": "calc(100% - 180px)",
    "left": "10px",
    "top": "150px",
    "width": "384px"
   },
   "toc_section_display": true,
   "toc_window_display": true
  }
 },
 "nbformat": 4,
 "nbformat_minor": 1
}
