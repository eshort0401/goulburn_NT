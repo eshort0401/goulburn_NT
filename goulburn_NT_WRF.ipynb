{
 "cells": [
  {
   "cell_type": "markdown",
   "metadata": {},
   "source": [
    "# Setup"
   ]
  },
  {
   "cell_type": "markdown",
   "metadata": {},
   "source": [
    "Setup by loading relevant modules and iPython extensions."
   ]
  },
  {
   "cell_type": "code",
   "execution_count": 4,
   "metadata": {
    "ExecuteTime": {
     "end_time": "2019-06-11T02:03:12.025314Z",
     "start_time": "2019-06-11T02:03:12.005702Z"
    }
   },
   "outputs": [
    {
     "name": "stdout",
     "output_type": "stream",
     "text": [
      "The line_profiler extension is already loaded. To reload it, use:\n",
      "  %reload_ext line_profiler\n"
     ]
    }
   ],
   "source": [
    "# Core \n",
    "import datetime\n",
    "import os\n",
    "import glob\n",
    "\n",
    "# Analysis \n",
    "import xarray as xr\n",
    "import numpy as np\n",
    "import pyproj as pp\n",
    "import scipy as sp\n",
    "import transect_analysis as ta\n",
    "\n",
    "# Plotting \n",
    "import cartopy.crs as ccrs\n",
    "from cartopy.mpl.gridliner import LONGITUDE_FORMATTER, LATITUDE_FORMATTER\n",
    "import cartopy.feature as cfeature\n",
    "import matplotlib.pyplot as plt\n",
    "from matplotlib import rcParams\n",
    "import matplotlib.ticker as mticker\n",
    "from matplotlib.animation import FuncAnimation\n",
    "import matplotlib.colors as colors\n",
    "\n",
    "# Debugging \n",
    "import pdb\n",
    "%load_ext line_profiler"
   ]
  },
  {
   "cell_type": "markdown",
   "metadata": {},
   "source": [
    "Define transects."
   ]
  },
  {
   "cell_type": "code",
   "execution_count": 3,
   "metadata": {
    "ExecuteTime": {
     "end_time": "2019-06-11T01:59:13.818921Z",
     "start_time": "2019-06-11T01:59:13.811630Z"
    }
   },
   "outputs": [],
   "source": [
    "# Specify start and end coords on coast.\n",
    "# Choose order so that (transect_axis, coastline_axis) forms a right hand coordinate system\n",
    "lon0 = 134.5293 \n",
    "lat0 = -12.4715\n",
    "coast_lon1 = 133.3290\n",
    "coast_lat1 = -12.1468\n",
    "\n",
    "trans_lon0, trans_lat0, trans_lon1, trans_lat1, n_points, n_trans, coast_distances, tran_distances = ta.define_transects(\n",
    "    lon0, lat0, coast_lon1, coast_lat1, 453300\n",
    ")"
   ]
  },
  {
   "cell_type": "markdown",
   "metadata": {},
   "source": [
    "# Plot Transect and Mean Wind Map"
   ]
  },
  {
   "cell_type": "markdown",
   "metadata": {},
   "source": [
    "Plot map of transects."
   ]
  },
  {
   "cell_type": "code",
   "execution_count": null,
   "metadata": {
    "ExecuteTime": {
     "end_time": "2019-06-11T03:10:53.678848Z",
     "start_time": "2019-06-11T03:09:52.939682Z"
    }
   },
   "outputs": [],
   "source": [
    "# Load WRF December mean data\n",
    "U_mean = xr.open_dataset('/g/data/w40/esh563/goulburn_NT/means/U_goulburn_12.nc')\n",
    "V_mean = xr.open_dataset('/g/data/w40/esh563/goulburn_NT/means/V_goulburn_12.nc')\n",
    "PRCP_mean = xr.open_dataset('/g/data/w40/esh563/goulburn_NT/means/prcp_goulburn_12.nc')\n",
    "\n",
    "# Calcualate speed\n",
    "speed = np.sqrt(U_mean.U ** 2 + V_mean.V ** 2)\n",
    "\n",
    "# Define maximum level to plot\n",
    "max_level = 8000\n",
    "\n",
    "# Initialise fonts\n",
    "rcParams.update({'font.family' : 'serif'})\n",
    "rcParams.update({'font.serif': 'Liberation Serif'})\n",
    "rcParams.update({'mathtext.fontset' : 'dejavuserif'}) \n",
    "rcParams.update({'font.size': 12})\n",
    "\n",
    "# Initialise figure\n",
    "plt.ioff()\n",
    "plt.close('all')\n",
    "fig = plt.figure(figsize=(5,5))\n",
    "\n",
    "# Define map boundaries\n",
    "lon_min = 133.01\n",
    "lon_max = 135.99\n",
    "lat_min = -12.45\n",
    "lat_max = -8\n",
    "\n",
    "# Set up cartopy\n",
    "ax = plt.axes(projection=ccrs.PlateCarree())\n",
    "ax.set_extent(\n",
    "    [lon_min, lon_max, lat_min, lat_max], \n",
    "    crs=ccrs.PlateCarree()\n",
    ")\n",
    "ax.coastlines(resolution='50m')\n",
    "\n",
    "# Draw speed shading.\n",
    "speed_max = np.ceil(np.amax(speed.sel(level = slice(0,max_level)).values)*2)/2\n",
    "\n",
    "levels = np.arange(0, speed_max+.5, 0.5)\n",
    "\n",
    "speed_contour = ax.contourf(\n",
    "    speed.longitude, speed.latitude, speed.isel(level = 0), levels=levels,\n",
    "    vmin=0, vmax=speed_max, cmap='Reds', transform=ccrs.PlateCarree()\n",
    ")\n",
    "cbar_w = plt.colorbar(speed_contour, orientation='vertical')\n",
    "cbar_w.set_label('Wind Speed [m/s]')\n",
    "\n",
    "# Draw precipitation contours\n",
    "contour_prcp = ax.contour(\n",
    "    PRCP_mean.longitude,\n",
    "    PRCP_mean.latitude,\n",
    "    PRCP_mean.RAINNC*1000,\n",
    "    levels = np.array([2 ** -2, 2 ** -1.5]),\n",
    "    colors = ['royalblue', 'blue'],\n",
    "    linestyles = ['dashed', 'solid'],\n",
    "    linewidths = 0.75,\n",
    ")\n",
    "\n",
    "contour_prcp.collections[0].set_dashes([(0, (5.0, 2.0))])\n",
    "labels = ['$2^{-2}$ mm/h', '$2^{-1.5}$ mm/h']\n",
    "for i in range(len(labels)):\n",
    "    contour_prcp.collections[i].set_label(labels[i])\n",
    "plt.legend(loc='upper left')\n",
    "\n",
    "# Draw arrows every half degree lon and lat\n",
    "arrow_step = 0.5\n",
    "\n",
    "U_quiver = U_mean.U.sel(\n",
    "    latitude = np.arange(lat_min + arrow_step/2, lat_max + arrow_step/2, arrow_step), \n",
    "    longitude = np.arange(lon_min + arrow_step/2, lon_max + arrow_step/2, arrow_step),\n",
    "    method = 'nearest'\n",
    ")\n",
    "V_quiver = V_mean.V.sel(\n",
    "    latitude = np.arange(lat_min, lat_max, arrow_step), \n",
    "    longitude = np.arange(lon_min, lon_max, arrow_step),\n",
    "    method = 'nearest'\n",
    ")\n",
    "\n",
    "ax.quiver(\n",
    "    U_quiver.longitude, \n",
    "    U_quiver.latitude, \n",
    "    U_quiver.isel(level = 0), V_quiver.isel(level = 0), \n",
    "    units='xy', angles='xy', transform=ccrs.PlateCarree(),\n",
    "    scale=speed_max/arrow_step\n",
    ")\n",
    "\n",
    "# Draw grid\n",
    "grid = ax.gridlines(\n",
    "    crs=ccrs.PlateCarree(), draw_labels=True,\n",
    "    linewidth=1, color='gray', alpha=0.4, linestyle='--',\n",
    ")\n",
    "\n",
    "grid.xlabels_top = False\n",
    "grid.ylabels_right = False\n",
    "\n",
    "grid.xlocator = mticker.FixedLocator(\n",
    "    np.arange(np.floor(lon_min), np.ceil(lon_max)+1, 1)\n",
    ")\n",
    "grid.ylocator = mticker.FixedLocator(\n",
    "    np.arange(np.floor(lat_min), np.ceil(lat_max)+1, 1)\n",
    ")\n",
    "\n",
    "grid.xformatter = LONGITUDE_FORMATTER\n",
    "grid.yformatter = LATITUDE_FORMATTER\n",
    "\n",
    "# Draw transects\n",
    "for k in np.arange(0,np.size(trans_lon0),3):\n",
    "    ax.plot(\n",
    "            [trans_lon0[k], trans_lon1[k]], [trans_lat0[k], trans_lat1[k]],\n",
    "            transform=ccrs.PlateCarree(),\n",
    "            color='black', linewidth=.75\n",
    "    )\n",
    "    \n",
    "# Make labels\n",
    "plt.title('December Mean Wind [m/s] \\n 2004 to 2014  \\n {:.3f} km'.format(speed.level.values[0]/1000))\n",
    "plt.xlabel('Longitude')\n",
    "plt.ylabel('Latitude')\n",
    "\n",
    "# Create directory for saving figures\n",
    "dt=str(datetime.datetime.now())[0:-7]\n",
    "dt=dt.replace(\" \", \"_\")\n",
    "dt=dt.replace(\":\", \"_\")\n",
    "dt=dt.replace(\"-\", \"\")         \n",
    "\n",
    "directory = '/g/data/w40/esh563/goulburn_NT/mean_wind_' + dt\n",
    "\n",
    "os.mkdir(directory)\n",
    "\n",
    "# Define animation update function\n",
    "def update(i):\n",
    "    \n",
    "    print('Drawing frame {}.'.format(str(i).zfill(2)),  end='\\r')\n",
    "\n",
    "    # Update contour\n",
    "    speed_contour = ax.contourf(\n",
    "        speed.longitude, speed.latitude, speed.isel(level = i), levels=levels,\n",
    "        vmin=0, vmax=speed_max, cmap='Reds', transform=ccrs.PlateCarree()\n",
    "    )\n",
    "\n",
    "    # Update quiver\n",
    "    ax.quiver(\n",
    "        U_quiver.longitude, \n",
    "        U_quiver.latitude, \n",
    "        U_quiver.isel(level = i), V_quiver.isel(level = i), \n",
    "        units='xy', angles='xy', transform=ccrs.PlateCarree(),\n",
    "        scale=speed_max/arrow_step\n",
    "    )\n",
    "\n",
    "    # Update title\n",
    "    plt.title('Mean Wind December 2012 [m/s] \\n' + '{:.3f} km'.format(speed.level[i].values/1000))\n",
    "        \n",
    "    # Save frame\n",
    "    plt.savefig(\n",
    "        directory + '/{}.png'.format(str(int(speed.level.values[i])))\n",
    "    )\n",
    "\n",
    "    return speed_contour, ax\n",
    "\n",
    "# Create and save animation\n",
    "anim = FuncAnimation(\n",
    "    fig, update, interval=200,\n",
    "    frames=np.arange(0, np.where(speed.level.values < max_level)[0][-1] + 1)\n",
    ")\n",
    "\n",
    "anim.save(directory + '/mean_wind.gif', dpi=80, writer='imagemagick')"
   ]
  },
  {
   "cell_type": "markdown",
   "metadata": {},
   "source": [
    "# Plot Cross Section and Hovmoller Diagrams"
   ]
  },
  {
   "cell_type": "markdown",
   "metadata": {},
   "source": [
    "Load datsets."
   ]
  },
  {
   "cell_type": "code",
   "execution_count": 52,
   "metadata": {
    "ExecuteTime": {
     "end_time": "2019-06-11T03:14:26.438230Z",
     "start_time": "2019-06-11T03:14:26.300384Z"
    }
   },
   "outputs": [],
   "source": [
    "proj_tran_mean = xr.open_dataset('/g/data/w40/esh563/goulburn_NT/transect_means/wind_proj_goulburn_12.nc')\n",
    "W_tran_mean = xr.open_dataset('/g/data/w40/esh563/goulburn_NT/transect_means/W_goulburn_12.nc')\n",
    "PRCP_tran_mean = xr.open_dataset('/g/data/w40/esh563/goulburn_NT/transect_means/PRCP_goulburn_12.nc')"
   ]
  },
  {
   "cell_type": "markdown",
   "metadata": {},
   "source": [
    "Define LST vectors."
   ]
  },
  {
   "cell_type": "code",
   "execution_count": 53,
   "metadata": {
    "ExecuteTime": {
     "end_time": "2019-06-11T03:14:27.929212Z",
     "start_time": "2019-06-11T03:14:27.917773Z"
    }
   },
   "outputs": [],
   "source": [
    "# Define local solar time based on mean of transect lon values\n",
    "lon_mean = np.mean(np.concatenate((trans_lon0, trans_lon1)))\n",
    "LST = (proj_tran_mean.hour.values + (lon_mean / 360) * 24) % 24\n",
    "LST_h = np.floor(LST)\n",
    "LST_m = np.round((LST % 1) * 60)"
   ]
  },
  {
   "cell_type": "markdown",
   "metadata": {},
   "source": [
    "## Cross Section"
   ]
  },
  {
   "cell_type": "markdown",
   "metadata": {},
   "source": [
    "Plot cross section."
   ]
  },
  {
   "cell_type": "code",
   "execution_count": 191,
   "metadata": {
    "ExecuteTime": {
     "end_time": "2019-06-10T05:32:02.277777Z",
     "start_time": "2019-06-10T05:31:52.526656Z"
    }
   },
   "outputs": [
    {
     "name": "stdout",
     "output_type": "stream",
     "text": [
      "Animating velocity cross section.\n",
      "Plotting frame 23.\r"
     ]
    }
   ],
   "source": [
    "print('Animating velocity cross section.')\n",
    "\n",
    "# Turn off interacting plotting \n",
    "plt.ioff()\n",
    "\n",
    "# Initialise fonts\n",
    "rcParams.update({'font.family': 'serif'})\n",
    "rcParams.update({'font.serif': 'Liberation Serif'})\n",
    "rcParams.update({'font.size': 12})\n",
    "\n",
    "fig, ax = plt.subplots(figsize=(8, 8))\n",
    "\n",
    "# Plot location of coastline\n",
    "plt.plot(\n",
    "    [0, 0], [proj_tran_mean.level[0], proj_tran_mean.level[57]],\n",
    "    '--', color='grey'\n",
    ")\n",
    "\n",
    "# Plot speeds\n",
    "speed = np.sqrt(proj_tran_mean.wind_proj ** 2 + W_tran_mean.W ** 2)\n",
    "\n",
    "speed_max=np.ceil(np.amax(np.abs(speed[:,0:58,:].values))*4)/4\n",
    "levels=np.arange(0, speed_max+0.25, 0.25)\n",
    "\n",
    "contour_plot = ax.contourf(\n",
    "    proj_tran_mean.transect_axis, proj_tran_mean.level[0:58], \n",
    "    speed.values[0,0:58,:],\n",
    "    levels, vmin=0, vmax=speed_max, cmap='Reds')\n",
    "\n",
    "cbar=plt.colorbar(contour_plot)\n",
    "cbar.set_label('Perturbation Velocity [m/s]')\n",
    "\n",
    "# Draw arrows every 50 km horizontal, 1 km height\n",
    "arrow_step_v = 1000\n",
    "arrow_step_h = 50000\n",
    "\n",
    "heights = np.arange(\n",
    "    proj_tran_mean.level[0]+arrow_step_v/2, proj_tran_mean.level[58], arrow_step_v\n",
    ")\n",
    "distances = np.arange(\n",
    "    proj_tran_mean.transect_axis[0]+arrow_step_h/2, proj_tran_mean.transect_axis[-1], arrow_step_h\n",
    ")\n",
    "\n",
    "proj_tran_quiver = proj_tran_mean.interp(transect_axis = distances).interp(level = heights)\n",
    "W_tran_quiver = W_tran_mean.interp(transect_axis = distances).interp(level = heights)\n",
    " \n",
    "ax.quiver(\n",
    "    proj_tran_quiver.transect_axis, \n",
    "    proj_tran_quiver.level, \n",
    "    proj_tran_quiver.wind_proj.values[0,:,:], W_tran_quiver.W.values[0,:,:], \n",
    "    units='xy', angles='xy', scale=speed_max / np.sqrt(arrow_step_v ** 2 + arrow_step_h ** 2)\n",
    ")\n",
    "\n",
    "# Plot labels and title\n",
    "plt.title(\n",
    "    'Perturbation Velocity [m/s] \\n {}:{} LST'.format(\n",
    "        str(int(LST_h[0])).zfill(2), str(int(LST_m[0])).zfill(2)\n",
    "    )\n",
    ")\n",
    "plt.xlabel('Distance [m]')\n",
    "plt.ylabel('Height [m]')\n",
    "\n",
    "# Create directory for figures\n",
    "dt=str(datetime.datetime.now())[0:-7]\n",
    "dt=dt.replace(\" \", \"_\")\n",
    "dt=dt.replace(\":\", \"_\")\n",
    "dt=dt.replace(\"-\", \"\")         \n",
    "\n",
    "directory = '/g/data/w40/esh563/goulburn_NT/cross_sect_' + dt\n",
    "\n",
    "os.mkdir(directory)\n",
    "\n",
    "# Define frame update function\n",
    "def update(i):\n",
    "    # Clear collections to correct animation issue.\n",
    "    ax.collections = []\n",
    "    \n",
    "    print('Plotting frame ' + str(i) + '.', end='\\r')\n",
    "    \n",
    "    # Update speeds\n",
    "    contourPlot=ax.contourf(\n",
    "        proj_tran_mean.transect_axis, proj_tran_mean.level[0:58], \n",
    "        speed.values[i,0:58,:],\n",
    "        levels, vmin=0, vmax=speed_max, cmap='Reds'\n",
    "    )\n",
    "\n",
    "    # Update arrows\n",
    "    ax.quiver(\n",
    "        proj_tran_quiver.transect_axis, \n",
    "        proj_tran_quiver.level, \n",
    "        proj_tran_quiver.wind_proj.values[i,:,:], W_tran_quiver.W.values[i,:,:], \n",
    "        units='xy', angles='xy', scale=speed_max / np.sqrt(arrow_step_v ** 2 + arrow_step_h ** 2)\n",
    "    )\n",
    "                            \n",
    "    ax.plot(\n",
    "        [0, 0], [proj_tran_mean.level[0], proj_tran_mean.level[57]],\n",
    "        '--', color='grey'\n",
    "    )\n",
    "    \n",
    "    # Redraw coast line\n",
    "    plt.title(\n",
    "        'Perturbation Velocity [m/s] \\n {}:{} LST'.format(\n",
    "            str(int(LST_h[i])).zfill(2), str(int(LST_m[i])).zfill(2)\n",
    "        )\n",
    "    )\n",
    "        \n",
    "    # Save frame\n",
    "    plt.savefig(directory + '/' + str(LST[i]) + '.png')\n",
    "\n",
    "    return contourPlot, ax\n",
    "\n",
    "# Create animation\n",
    "anim = FuncAnimation(fig, update, frames=np.arange(0, 24),interval=200)\n",
    "anim.save(directory + '/velocity.gif', dpi=80, writer='imagemagick')\n",
    "\n",
    "# Close any open figures\n",
    "plt.close('all')"
   ]
  },
  {
   "cell_type": "markdown",
   "metadata": {},
   "source": [
    "## Hovmoller"
   ]
  },
  {
   "cell_type": "markdown",
   "metadata": {},
   "source": [
    "Create Hovmoller diagrams."
   ]
  },
  {
   "cell_type": "code",
   "execution_count": 54,
   "metadata": {
    "ExecuteTime": {
     "end_time": "2019-06-11T03:16:12.444800Z",
     "start_time": "2019-06-11T03:15:40.631019Z"
    }
   },
   "outputs": [
    {
     "name": "stdout",
     "output_type": "stream",
     "text": [
      "Plotting frame 70.\r"
     ]
    }
   ],
   "source": [
    "fig, ax = plt.subplots(figsize=[4.5,6])\n",
    "\n",
    "# Initialise fonts\n",
    "rcParams.update({'font.family': 'serif'})\n",
    "rcParams.update({'font.serif': 'Liberation Serif'})\n",
    "rcParams.update({'mathtext.fontset' : 'dejavuserif'}) \n",
    "rcParams.update({'font.size': 12})\n",
    "\n",
    "LST_hov = (np.arange(-24,48) + (lon_mean / 360) * 24)\n",
    "hov_shading = np.concatenate([proj_tran_mean.wind_proj.values[:,0,:]]*3, axis=0)\n",
    "hov_contours = np.concatenate([PRCP_tran_mean.RAINNC.values]*3, axis=0) * 1000\n",
    "\n",
    "LST_hov = LST_hov[15:48+15]\n",
    "hov_shading = hov_shading[15:48+15,:]\n",
    "hov_contours = hov_contours[15:48+15,:]\n",
    "\n",
    "plt.plot([0, 0], [LST_hov[0], LST_hov[-1]], '--', color='grey')\n",
    "\n",
    "plt.title(\n",
    "    'Velocity Anomaly [m/s] \\n' + '{:.3f} km'.format(proj_tran_mean.level.values[0]/1000)\n",
    ")\n",
    "plt.xlabel('Distance [m]')\n",
    "plt.ylabel('Time [h LST]')\n",
    "\n",
    "speed_max=np.ceil(np.amax(np.abs(proj_tran_mean.wind_proj.values[:]))*4)/4\n",
    "levels=np.arange(-speed_max, speed_max+0.25, 0.25)\n",
    "\n",
    "contour_w = ax.contourf(\n",
    "    proj_tran_mean.transect_axis.values, LST_hov, hov_shading,\n",
    "    cmap='RdBu_r', levels = levels,\n",
    ")\n",
    "\n",
    "contour_prcp = ax.contour(\n",
    "    PRCP_tran_mean.transect_axis.values,\n",
    "    LST_hov,\n",
    "    hov_contours,\n",
    "    levels = np.array([2**-2, 2**-1]),\n",
    "    colors = ['black', 'black'],\n",
    "    linestyles = ['dashed', 'solid'],\n",
    "    linewidths = 0.75,\n",
    ")\n",
    "\n",
    "contour_prcp.collections[0].set_dashes([(0, (5.0, 2.0))])\n",
    "\n",
    "labels = ['$2^{-2}$ mm/h', '$2^{-1}$ mm/h']\n",
    "for i in range(len(labels)):\n",
    "    contour_prcp.collections[i].set_label(labels[i])\n",
    "plt.legend(loc='upper right')\n",
    "\n",
    "plt.yticks(np.arange(0, 48, step=6))\n",
    "\n",
    "cbar_w=plt.colorbar(contour_w, orientation='horizontal')\n",
    "cbar_w.set_label('Velocity Anomaly [m/s]')\n",
    "\n",
    "dt=str(datetime.datetime.now())[0:-7]\n",
    "dt=dt.replace(\" \", \"_\")\n",
    "dt=dt.replace(\":\", \"_\")\n",
    "dt=dt.replace(\"-\", \"\")         \n",
    "\n",
    "directory = '/g/data/w40/esh563/goulburn_NT/hovmoller_' + dt\n",
    "\n",
    "os.mkdir(directory)\n",
    "\n",
    "def update(i):\n",
    "    # Update the line and the axes (with a new xlabel). Return a tuple of\n",
    "    # \"artists\" that have to be redrawn for this frame.\n",
    "    ax.collections = []\n",
    "    \n",
    "    print('Plotting frame ' + str(i) + '.', end='\\r')\n",
    "    \n",
    "    hov_shading = np.concatenate([proj_tran_mean.wind_proj.values[:,i,:]]*3, axis=0)\n",
    "    hov_shading = hov_shading[15:48+15,:]\n",
    "\n",
    "    contour_w = ax.contourf(\n",
    "        proj_tran_mean.transect_axis.values, LST_hov, hov_shading,\n",
    "        cmap='RdBu_r', levels = levels\n",
    "    )\n",
    "    \n",
    "    contour_prcp = ax.contour(\n",
    "        PRCP_tran_mean.transect_axis.values,\n",
    "        LST_hov,\n",
    "        hov_contours,\n",
    "        levels = np.array([2**-2, 2**-1]),\n",
    "        colors = ['black', 'black'],\n",
    "        linestyles = ['dashed', 'solid'],\n",
    "        linewidths = 0.75,\n",
    "    )\n",
    "    contour_prcp.collections[0].set_dashes([(0, (5.0, 2.0))])\n",
    "    \n",
    "    plt.yticks(np.arange(0, 48, step=6))\n",
    "                            \n",
    "    plt.plot([0, 0], [LST_hov[0], LST_hov[-1]], '--', color='grey')\n",
    "    \n",
    "    plt.title(\n",
    "        'Velocity Anomaly [m/s] \\n' + '{:.3f} km'.format(proj_tran_mean.level.values[i]/1000)\n",
    "    )\n",
    "        \n",
    "    plt.savefig(\n",
    "        directory + '/' + str(int(proj_tran_mean.level.values[i])) + '.png'\n",
    "    )\n",
    "\n",
    "    return contour_w, ax\n",
    "\n",
    "anim = FuncAnimation(fig, update, frames=np.arange(0, proj_tran_mean.level.values.size), interval=200)\n",
    "anim.save(directory + '/hov.gif', dpi=80, writer='imagemagick')\n",
    "\n",
    "plt.close('all')"
   ]
  }
 ],
 "metadata": {
  "kernelspec": {
   "display_name": "Python 3",
   "language": "python",
   "name": "python3"
  },
  "language_info": {
   "codemirror_mode": {
    "name": "ipython",
    "version": 3
   },
   "file_extension": ".py",
   "mimetype": "text/x-python",
   "name": "python",
   "nbconvert_exporter": "python",
   "pygments_lexer": "ipython3",
   "version": "3.6.7"
  },
  "toc": {
   "base_numbering": 1,
   "nav_menu": {},
   "number_sections": true,
   "sideBar": true,
   "skip_h1_title": false,
   "title_cell": "Table of Contents",
   "title_sidebar": "Contents",
   "toc_cell": false,
   "toc_position": {
    "height": "calc(100% - 180px)",
    "left": "10px",
    "top": "150px",
    "width": "384px"
   },
   "toc_section_display": true,
   "toc_window_display": true
  }
 },
 "nbformat": 4,
 "nbformat_minor": 1
}
