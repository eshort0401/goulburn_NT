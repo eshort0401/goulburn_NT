{
 "cells": [
  {
   "cell_type": "code",
   "execution_count": 1,
   "metadata": {
    "ExecuteTime": {
     "end_time": "2019-06-21T09:50:24.917729Z",
     "start_time": "2019-06-21T09:50:22.104638Z"
    }
   },
   "outputs": [],
   "source": [
    "# Core \n",
    "import datetime\n",
    "import os\n",
    "import glob\n",
    "\n",
    "# Analysis \n",
    "import xarray as xr\n",
    "import numpy as np\n",
    "import pyproj as pp\n",
    "import scipy as sp\n",
    "import transect_analysis as ta\n",
    "\n",
    "# Plotting \n",
    "import cartopy.crs as ccrs\n",
    "from cartopy.mpl.gridliner import LONGITUDE_FORMATTER, LATITUDE_FORMATTER\n",
    "import cartopy.feature as cfeature\n",
    "import matplotlib.pyplot as plt\n",
    "from matplotlib import rcParams\n",
    "import matplotlib.ticker as mticker\n",
    "from matplotlib.animation import FuncAnimation\n",
    "import matplotlib.colors as colors\n",
    "\n",
    "# Debugging \n",
    "import pdb\n",
    "%load_ext line_profiler"
   ]
  },
  {
   "cell_type": "code",
   "execution_count": 2,
   "metadata": {
    "ExecuteTime": {
     "end_time": "2019-06-21T09:50:24.936715Z",
     "start_time": "2019-06-21T09:50:24.929808Z"
    }
   },
   "outputs": [],
   "source": [
    "# Specify start and end coords on coast.\n",
    "# Choose order so that (transect_axis, coastline_axis) forms a right hand coordinate system\n",
    "lon0 = 134.5293 \n",
    "lat0 = -12.4715\n",
    "coast_lon1 = 133.3290\n",
    "coast_lat1 = -12.1468\n",
    "\n",
    "trans_lon0, trans_lat0, trans_lon1, trans_lat1, n_points, n_trans, coast_distances, tran_distances = ta.define_transects(\n",
    "    lon0, lat0, coast_lon1, coast_lat1, 453300\n",
    ")"
   ]
  },
  {
   "cell_type": "code",
   "execution_count": 3,
   "metadata": {
    "ExecuteTime": {
     "end_time": "2019-06-21T09:50:25.374697Z",
     "start_time": "2019-06-21T09:50:25.316385Z"
    }
   },
   "outputs": [],
   "source": [
    "month = '11'\n",
    "\n",
    "CMORPH_tran = xr.open_dataset(\n",
    "    '/g/data/w40/esh563/goulburn_NT/transect_means/CMORPH_goulburn_2005-2014_{}.nc'.format(month)\n",
    ")\n",
    "CMORPH_tran = CMORPH_tran * 3600\n",
    "CMORPH_tran.pr.attrs['units'] = 'mm/h'\n",
    "\n",
    "WRF_PRCP_tran = xr.open_dataset('/g/data/w40/esh563/goulburn_NT/transect_means/PRCP_goulburn_12.nc')\n",
    "WRF_PRCP_tran = WRF_PRCP_tran * 1000\n",
    "WRF_PRCP_tran.RAINNC.attrs['units'] = 'mm/h'"
   ]
  },
  {
   "cell_type": "code",
   "execution_count": 4,
   "metadata": {
    "ExecuteTime": {
     "end_time": "2019-06-21T09:50:27.026683Z",
     "start_time": "2019-06-21T09:50:25.933810Z"
    },
    "scrolled": false
   },
   "outputs": [
    {
     "data": {
      "image/png": "[encoded data removed]",
      "text/plain": [
       "<Figure size 432x576 with 2 Axes>"
      ]
     },
     "metadata": {
      "needs_background": "light"
     },
     "output_type": "display_data"
    }
   ],
   "source": [
    "fig, ax = plt.subplots(figsize=(6,8))\n",
    "\n",
    "# Initialise fonts\n",
    "rcParams['font.family'] = 'serif'\n",
    "rcParams.update({'font.serif': 'Liberation Serif'})\n",
    "rcParams.update({'font.size': 12})\n",
    "rcParams.update({'mathtext.fontset' : 'dejavuserif'})\n",
    "\n",
    "# Define LST\n",
    "lon_mean = np.mean(np.concatenate((trans_lon0, trans_lon1)))\n",
    "LST_hov = (np.arange(-24,48) + (lon_mean / 360) * 24)\n",
    "hov_shading = np.concatenate([CMORPH_tran.pr.values]*3, axis=0)\n",
    "hov_contours = np.concatenate([WRF_PRCP_tran.RAINNC.values]*3, axis=0)\n",
    "\n",
    "LST_hov = LST_hov[15:48+15]\n",
    "hov_shading = hov_shading[15:48+15,:]\n",
    "hov_contours = hov_contours[15:48+15,:]\n",
    "\n",
    "plt.plot(\n",
    "    [0, 0], [LST_hov[0], LST_hov[-1]],\n",
    "    '--', color='white')\n",
    "\n",
    "levels = np.array([0, 2**-4, 2**-3.5, 2**-3, 2**-2.5, 2**-2, 2**-1.5, 2**-1, 2**-0.5])\n",
    "\n",
    "locator = mticker.SymmetricalLogLocator(base=2, linthresh=2**-4)\n",
    "locator = locator.set_params(numticks = np.size(levels))\n",
    "formatter = mticker.LogFormatterMathtext(base=2)\n",
    "\n",
    "contour_CMORPH = plt.contourf(\n",
    "    CMORPH_tran.transect_axis.values,\n",
    "    LST_hov,\n",
    "    hov_shading, \n",
    "    levels = levels,\n",
    "    cmap = 'Blues',\n",
    "    norm=colors.SymLogNorm(vmin=0, vmax=2**-0.5, linthresh=2**-4.0, linscale=2**-4.0)\n",
    ")\n",
    "\n",
    "cbar_CMORPH=plt.colorbar(\n",
    "    contour_CMORPH, orientation='vertical', aspect=40,\n",
    "    ticks=locator, format=formatter,\n",
    ")\n",
    "cbar_CMORPH.set_label('CMORPH Mean Rainfall [mm/h]')\n",
    "\n",
    "# contour_WRF_PRCP = plt.contour(\n",
    "#     WRF_PRCP_tran.transect_axis.values,\n",
    "#     LST_hov,\n",
    "#     hov_contours, \n",
    "#     levels = np.array([2**-2, 2**-1]),\n",
    "#     colors = ['red', 'red'],\n",
    "#     linestyles = ['dashed', 'solid'],\n",
    "#     linewidths = 0.75,\n",
    "# )\n",
    "\n",
    "# contour_WRF_PRCP.collections[0].set_dashes([(0, (5.0, 2.0))])\n",
    "\n",
    "# labels = ['$2^{' + str(i) + '}$ mm/h' for i in range(-2, 0)] \n",
    "# for i in range(len(labels)):\n",
    "#     contour_WRF_PRCP.collections[i].set_label(labels[i])\n",
    "# plt.legend(\n",
    "#     loc='lower center', bbox_to_anchor=(0.5, -0.225), ncol=2, \n",
    "#     frameon=True, title = 'WRF Mean Rainfall [mm/h]'\n",
    "# )\n",
    "\n",
    "plt.title(\n",
    "    'November Mean Rainfall CMORPH and WRF [mm/h]'\n",
    ")\n",
    "plt.xlabel('Distance [m]')\n",
    "plt.ylabel('Time [h LST]')\n",
    "\n",
    "plt.yticks(np.arange(0, 48, step=6))\n",
    "\n",
    "plt.savefig('/g/data/w40/esh563/goulburn_NT/figures/CMORPH_{}.png'.format(month), bbox_inches='tight')"
   ]
  },
  {
   "cell_type": "code",
   "execution_count": null,
   "metadata": {},
   "outputs": [],
   "source": []
  }
 ],
 "metadata": {
  "kernelspec": {
   "display_name": "Python [conda env:analysis3-19.04] *",
   "language": "python",
   "name": "conda-env-analysis3-19.04-py"
  },
  "language_info": {
   "codemirror_mode": {
    "name": "ipython",
    "version": 3
   },
   "file_extension": ".py",
   "mimetype": "text/x-python",
   "name": "python",
   "nbconvert_exporter": "python",
   "pygments_lexer": "ipython3",
   "version": "3.6.7"
  },
  "toc": {
   "base_numbering": 1,
   "nav_menu": {},
   "number_sections": true,
   "sideBar": true,
   "skip_h1_title": false,
   "title_cell": "Table of Contents",
   "title_sidebar": "Contents",
   "toc_cell": false,
   "toc_position": {},
   "toc_section_display": true,
   "toc_window_display": false
  }
 },
 "nbformat": 4,
 "nbformat_minor": 2
}
