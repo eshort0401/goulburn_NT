{
 "cells": [
  {
   "cell_type": "code",
   "execution_count": 1,
   "metadata": {
    "ExecuteTime": {
     "end_time": "2019-06-04T23:31:46.309905Z",
     "start_time": "2019-06-04T23:31:43.253104Z"
    }
   },
   "outputs": [],
   "source": [
    "import xarray as xr\n",
    "import matplotlib.pyplot as plt\n",
    "from matplotlib import rcParams\n",
    "import matplotlib.ticker as mticker\n",
    "import matplotlib.colors as colors\n",
    "import numpy as np\n",
    "import pyproj as pp\n",
    "import scipy as sp\n",
    "import transect_analysis as ta\n",
    "import pdb\n",
    "import cartopy.crs as ccrs\n",
    "from cartopy.mpl.gridliner import LONGITUDE_FORMATTER, LATITUDE_FORMATTER\n",
    "import cartopy.feature as cfeature\n",
    "import datetime\n",
    "import os\n",
    "from matplotlib.animation import FuncAnimation\n",
    "%load_ext line_profiler"
   ]
  },
  {
   "cell_type": "code",
   "execution_count": 2,
   "metadata": {
    "ExecuteTime": {
     "end_time": "2019-06-04T23:31:46.324925Z",
     "start_time": "2019-06-04T23:31:46.316164Z"
    }
   },
   "outputs": [],
   "source": [
    "# Specify start and end coords on coast.\n",
    "# Choose order so that (transect_axis, coastline_axis) forms a right hand coordinate system\n",
    "lon0 = 134.5293 \n",
    "lat0 = -12.4715\n",
    "coast_lon1 = 133.3290\n",
    "coast_lat1 = -12.1468\n",
    "\n",
    "trans_lon0, trans_lat0, trans_lon1, trans_lat1, n_points, n_trans, coast_distances, tran_distances = ta.define_transects(\n",
    "    lon0, lat0, coast_lon1, coast_lat1, 453361.47128972, spacing=27000\n",
    ")\n",
    "\n",
    "# Create basis vectors of new coordinate system\n",
    "b_lon = trans_lon1[0] - lon0\n",
    "b_lat = trans_lat1[0] - lat0"
   ]
  },
  {
   "cell_type": "code",
   "execution_count": 4,
   "metadata": {
    "ExecuteTime": {
     "end_time": "2019-06-04T23:31:59.247885Z",
     "start_time": "2019-06-04T23:31:57.724243Z"
    }
   },
   "outputs": [],
   "source": [
    "try:\n",
    "    \n",
    "    P_tran = xr.open_dataset('/g/data/w40/esh563/goulburn_NT/CMORPH_goulburn_201412.nc')\n",
    "\n",
    "except:\n",
    "\n",
    "    P = xr.open_mfdataset('/g/data/w40/esh563/goulburn_NT/CMORPH/*.nc')\n",
    "    P = P.rename({'lat' : 'latitude', 'lon' : 'longitude'})\n",
    "    P_tran = ta.calc_transects(P, trans_lon0, trans_lat0, trans_lon1, trans_lat1, n_points, n_trans)\n",
    "    P_tran = P_tran.assign_coords(coastal_axis = coast_distances)\\\n",
    "        .assign_coords(transect_axis = tran_distances)\n",
    "    P_tran.to_netcdf(path='/g/data/w40/esh563/goulburn_NT/CMORPH_goulburn_201412.nc', mode='w', format='NETCDF4')"
   ]
  },
  {
   "cell_type": "code",
   "execution_count": 5,
   "metadata": {
    "ExecuteTime": {
     "end_time": "2019-06-04T23:32:02.423895Z",
     "start_time": "2019-06-04T23:32:02.344701Z"
    }
   },
   "outputs": [],
   "source": [
    "# Average over coastal_axis, i.e. over multiple transects\n",
    "P_tran = P_tran.mean(dim='coastal_axis')\n",
    "\n",
    "hour = np.arange(0,24,3)\n",
    "\n",
    "# Create a composite\n",
    "P_tran_list = [P_tran.where(P_tran['cmorph_precip']['time.hour'] == hour[0]).mean('time', skipna=True)] * 8\n",
    "\n",
    "hour = np.arange(0,24,3)\n",
    "\n",
    "for i in range(1,8):\n",
    "    \n",
    "    P_tran_list[i] = P_tran.where(P_tran['cmorph_precip']['time.hour'] == hour[i]).mean('time', skipna=True)\n",
    "\n",
    "P_tran_h = xr.concat(P_tran_list, dim = 'hour_UTC')\n",
    "P_tran_h = P_tran_h.assign_coords(hour_UTC = hour)"
   ]
  },
  {
   "cell_type": "code",
   "execution_count": 8,
   "metadata": {
    "ExecuteTime": {
     "end_time": "2019-06-04T23:35:20.500950Z",
     "start_time": "2019-06-04T23:35:20.492752Z"
    }
   },
   "outputs": [],
   "source": [
    "P_tran_h['transect_axis'] = P_tran_h['transect_axis']-40120.484185"
   ]
  },
  {
   "cell_type": "code",
   "execution_count": 11,
   "metadata": {
    "ExecuteTime": {
     "end_time": "2019-06-04T23:39:03.284969Z",
     "start_time": "2019-06-04T23:39:01.633617Z"
    },
    "scrolled": false
   },
   "outputs": [
    {
     "data": {
      "image/png": "[encoded data removed]",
      "text/plain": [
       "<Figure size 360x720 with 2 Axes>"
      ]
     },
     "metadata": {
      "needs_background": "light"
     },
     "output_type": "display_data"
    }
   ],
   "source": [
    "fig, ax = plt.subplots(figsize=(5,10))\n",
    "\n",
    "# Initialise fonts\n",
    "rcParams['font.family'] = 'serif'\n",
    "rcParams.update({'font.serif': 'Liberation Serif'})\n",
    "rcParams.update({'font.size': 12})\n",
    "rcParams.update({'font.weight': 'normal'})\n",
    "\n",
    "LST = np.arange(-24,48,3) + 9\n",
    "z = np.concatenate([np.squeeze(P_tran_h.cmorph_precip.values)]*3, axis=0)\n",
    "\n",
    "LST = LST[5:22]\n",
    "z = z[5:22,:]\n",
    "\n",
    "plt.plot(\n",
    "    [0, 0], [LST[0], LST[-1]],\n",
    "    '--', color='grey')\n",
    "\n",
    "locator = mticker.SymmetricalLogLocator(base=2, linthresh=2**-4)\n",
    "formatter = mticker.LogFormatterMathtext(base=2)\n",
    "\n",
    "contour_p = plt.contourf(\n",
    "    P_tran_h.transect_axis.values,\n",
    "    LST,\n",
    "    z, \n",
    "    levels = np.array([0, 2**-4, 2**-3, 2**-2, 2**-1, 2**0]),\n",
    "    cmap = 'Blues',\n",
    "    norm=colors.SymLogNorm(vmin=0, vmax=1, linthresh=2**-4, linscale=2**-4)\n",
    ")\n",
    "\n",
    "plt.title(\n",
    "    'Average Precipitation [mm/h]'\n",
    ")\n",
    "plt.xlabel('Distance [m]')\n",
    "plt.ylabel('Time [h LST]')\n",
    "\n",
    "plt.yticks(np.arange(0, 48, step=3))\n",
    "\n",
    "cbar_w=plt.colorbar(contour_p, orientation='horizontal', ticks=locator, format=formatter)\n",
    "cbar_w.set_label('Average Precipitation [mm/h]')\n",
    "\n",
    "plt.savefig('/g/data/w40/esh563/goulburn_NT/CMORPH_201412.png')"
   ]
  },
  {
   "cell_type": "code",
   "execution_count": null,
   "metadata": {},
   "outputs": [],
   "source": []
  }
 ],
 "metadata": {
  "kernelspec": {
   "display_name": "Python [conda env:analysis3-19.04] *",
   "language": "python",
   "name": "conda-env-analysis3-19.04-py"
  },
  "language_info": {
   "codemirror_mode": {
    "name": "ipython",
    "version": 3
   },
   "file_extension": ".py",
   "mimetype": "text/x-python",
   "name": "python",
   "nbconvert_exporter": "python",
   "pygments_lexer": "ipython3",
   "version": "3.6.7"
  },
  "toc": {
   "base_numbering": 1,
   "nav_menu": {},
   "number_sections": true,
   "sideBar": true,
   "skip_h1_title": false,
   "title_cell": "Table of Contents",
   "title_sidebar": "Contents",
   "toc_cell": false,
   "toc_position": {},
   "toc_section_display": true,
   "toc_window_display": false
  }
 },
 "nbformat": 4,
 "nbformat_minor": 2
}
