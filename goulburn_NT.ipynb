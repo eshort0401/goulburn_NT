{
 "cells": [
  {
   "cell_type": "markdown",
   "metadata": {},
   "source": [
    "# Goulburn Island Northern Territory Australia Analysis"
   ]
  },
  {
   "cell_type": "markdown",
   "metadata": {},
   "source": [
    "Setup by loading relevant modules"
   ]
  },
  {
   "cell_type": "code",
   "execution_count": 41,
   "metadata": {
    "ExecuteTime": {
     "end_time": "2019-05-29T08:24:08.698281Z",
     "start_time": "2019-05-29T08:24:08.694233Z"
    }
   },
   "outputs": [],
   "source": [
    "import xarray as xr\n",
    "import matplotlib.pyplot as plt\n",
    "import numpy as np"
   ]
  },
  {
   "cell_type": "code",
   "execution_count": 65,
   "metadata": {
    "ExecuteTime": {
     "end_time": "2019-05-29T08:34:49.121783Z",
     "start_time": "2019-05-29T08:34:49.091326Z"
    }
   },
   "outputs": [],
   "source": [
    "test=xr.open_dataset('/g/data/w40/esh563/goulburn_NT/20052006/PRCP/prcp_goulburn_20051230.nc')"
   ]
  },
  {
   "cell_type": "code",
   "execution_count": 66,
   "metadata": {
    "ExecuteTime": {
     "end_time": "2019-05-29T08:34:50.020893Z",
     "start_time": "2019-05-29T08:34:50.006397Z"
    }
   },
   "outputs": [
    {
     "data": {
      "text/plain": [
       "<xarray.Dataset>\n",
       "Dimensions:    (latitude: 183, longitude: 222, time: 24)\n",
       "Coordinates:\n",
       "  * latitude   (latitude) float32 -12.97905 -12.943893 ... -6.547447 -6.5116043\n",
       "  * longitude  (longitude) float32 131.52185 131.55792 ... 139.45856 139.49463\n",
       "  * time       (time) datetime64[ns] 2005-12-30 ... 2005-12-30T23:00:00\n",
       "Data variables:\n",
       "    RAINNC     (time, latitude, longitude) float32 ...\n",
       "Attributes:\n",
       "    contact:                     claire.vincent@unimelb.edu.au\n",
       "    title:                       Maritime Continent WRF DJF 4km simulations v1.0\n",
       "    summary:                     Maritime Continent WRF DJF 4km simulations -...\n",
       "    Conventions:                 CF-1.6, ACDD-1.3\n",
       "    source:                      WRF V3.5.1\n",
       "    license:                     http://creativecommons.org/licenses/by-nc-nd...\n",
       "    product_version:             1.0\n",
       "    keywords:                    Maritime Continent, WRF, convection permitti...\n",
       "    date_created:                2016-11-24\n",
       "    creator_name:                Claire Louise Vincent\n",
       "    creator_email:               claire.vincent@unimelb.edu.au\n",
       "    publisher_name:              ARCCSS data manager\n",
       "    publisher_email:             paola.petrelli@utas.edu.au\n",
       "    institution:                 University of Melbourne\n",
       "    organisation:                ARC Centre of Excellence for Climate System ...\n",
       "    references:                  Vincent and Lane 2016 A 10-year Austral summ...\n",
       "    WEST_EAST_GRID_DIMENSION:    1642\n",
       "    SOUTH_NORTH_GRID_DIMENSION:  535\n",
       "    BOTTOM_TOP_GRID_DIMENSION:   80\n",
       "    DX:                          4000.0\n",
       "    DY:                          4000.0\n",
       "    MP_PHYSICS:                  6\n",
       "    RA_LW_PHYSICS:               1\n",
       "    RA_SW_PHYSICS:               2\n",
       "    SF_SFCLAY_PHYSICS:           2\n",
       "    SF_SURFACE_PHYSICS:          2\n",
       "    BL_PBL_PHYSICS:              2\n",
       "    CU_PHYSICS:                  0\n",
       "    SST_UPDATE:                  1\n",
       "    DT:                          10.0\n",
       "    MAP_PROJ_CHAR:               Mercator\n",
       "    time_coverage_start:         20051201T00:00\n",
       "    time_coverage_end:           20060228T23:00\n",
       "    geospatial_lat_min:          -13.01421\n",
       "    geospatial_lat_max:          6.089432\n",
       "    geospatial_lon_min:          93.7142\n",
       "    geospatial_lon_max:          152.8788\n",
       "    history:                     Wed May 29 18:05:20 2019: ncks -d latitude,-...\n",
       "    NCO:                         4.3.7\n",
       "    id:                          10.4225/41/5850b633c54ed"
      ]
     },
     "execution_count": 66,
     "metadata": {},
     "output_type": "execute_result"
    }
   ],
   "source": [
    "test"
   ]
  },
  {
   "cell_type": "code",
   "execution_count": 75,
   "metadata": {
    "ExecuteTime": {
     "end_time": "2019-05-29T08:35:39.094699Z",
     "start_time": "2019-05-29T08:35:38.584120Z"
    }
   },
   "outputs": [
    {
     "data": {
      "text/plain": [
       "<matplotlib.colorbar.Colorbar at 0x7fa553bb1b00>"
      ]
     },
     "execution_count": 75,
     "metadata": {},
     "output_type": "execute_result"
    },
    {
     "data": {
      "image/png": "[encoded data removed]",
      "text/plain": [
       "<Figure size 432x288 with 2 Axes>"
      ]
     },
     "metadata": {
      "needs_background": "light"
     },
     "output_type": "display_data"
    }
   ],
   "source": [
    "plt.figure()\n",
    "plt.contourf(test.longitude,test.latitude,test.RAINNC[10,:,:].values)\n",
    "plt.colorbar()"
   ]
  },
  {
   "cell_type": "code",
   "execution_count": null,
   "metadata": {},
   "outputs": [],
   "source": []
  }
 ],
 "metadata": {
  "kernelspec": {
   "display_name": "Python 3",
   "language": "python",
   "name": "python3"
  },
  "language_info": {
   "codemirror_mode": {
    "name": "ipython",
    "version": 3
   },
   "file_extension": ".py",
   "mimetype": "text/x-python",
   "name": "python",
   "nbconvert_exporter": "python",
   "pygments_lexer": "ipython3",
   "version": "3.7.3"
  },
  "toc": {
   "base_numbering": 1,
   "nav_menu": {},
   "number_sections": true,
   "sideBar": true,
   "skip_h1_title": false,
   "title_cell": "Table of Contents",
   "title_sidebar": "Contents",
   "toc_cell": false,
   "toc_position": {},
   "toc_section_display": true,
   "toc_window_display": true
  }
 },
 "nbformat": 4,
 "nbformat_minor": 1
}
